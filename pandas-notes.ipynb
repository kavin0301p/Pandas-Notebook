{
 "cells": [
  {
   "cell_type": "markdown",
   "id": "32907f8f",
   "metadata": {
    "papermill": {
     "duration": 0.015803,
     "end_time": "2025-01-31T19:10:07.486515",
     "exception": false,
     "start_time": "2025-01-31T19:10:07.470712",
     "status": "completed"
    },
    "tags": []
   },
   "source": [
    "# **PANDAS NOTEBOOK BY P.KAVIN**"
   ]
  },
  {
   "cell_type": "markdown",
   "id": "0289f133",
   "metadata": {
    "papermill": {
     "duration": 0.014031,
     "end_time": "2025-01-31T19:10:07.514807",
     "exception": false,
     "start_time": "2025-01-31T19:10:07.500776",
     "status": "completed"
    },
    "tags": []
   },
   "source": [
    "**PANDAS**\n",
    "\n",
    "Pandas library is used for working with tabular data in python. It can read input data of the form CSV, SQL, EXCEL etc.."
   ]
  },
  {
   "cell_type": "code",
   "execution_count": 1,
   "id": "39a65d05",
   "metadata": {
    "execution": {
     "iopub.execute_input": "2025-01-31T19:10:07.544989Z",
     "iopub.status.busy": "2025-01-31T19:10:07.544654Z",
     "iopub.status.idle": "2025-01-31T19:10:08.844756Z",
     "shell.execute_reply": "2025-01-31T19:10:08.843984Z"
    },
    "papermill": {
     "duration": 1.317566,
     "end_time": "2025-01-31T19:10:08.846733",
     "exception": false,
     "start_time": "2025-01-31T19:10:07.529167",
     "status": "completed"
    },
    "tags": []
   },
   "outputs": [
    {
     "data": {
      "text/plain": [
       "('italy-covid-daywise.csv', <http.client.HTTPMessage at 0x799088923bb0>)"
      ]
     },
     "execution_count": 1,
     "metadata": {},
     "output_type": "execute_result"
    }
   ],
   "source": [
    "\n",
    "from urllib.request import urlretrieve\n",
    "italy_covid_url = 'https://gist.githubusercontent.com/aakashns/f6a004fa20c84fec53262f9a8bfee775/raw/f309558b1cf5103424cef58e2ecb8704dcd4d74c/italy-covid-daywise.csv'\n",
    "\n",
    "urlretrieve(italy_covid_url, 'italy-covid-daywise.csv')\n"
   ]
  },
  {
   "cell_type": "markdown",
   "id": "c933cc54",
   "metadata": {
    "papermill": {
     "duration": 0.013522,
     "end_time": "2025-01-31T19:10:08.874623",
     "exception": false,
     "start_time": "2025-01-31T19:10:08.861101",
     "status": "completed"
    },
    "tags": []
   },
   "source": [
    "***To read CSV file we can read_csv method***\n",
    "\n",
    "Whenever a CSV data is represented in a tabular form, the data is read from the CSV file and stored in **Dataframe object** which is a basic data structure in pandas library used to represent any data in tabular form.\n"
   ]
  },
  {
   "cell_type": "code",
   "execution_count": 2,
   "id": "974c2b67",
   "metadata": {
    "execution": {
     "iopub.execute_input": "2025-01-31T19:10:08.904372Z",
     "iopub.status.busy": "2025-01-31T19:10:08.904051Z",
     "iopub.status.idle": "2025-01-31T19:10:09.788553Z",
     "shell.execute_reply": "2025-01-31T19:10:09.787533Z"
    },
    "papermill": {
     "duration": 0.90162,
     "end_time": "2025-01-31T19:10:09.790399",
     "exception": false,
     "start_time": "2025-01-31T19:10:08.888779",
     "status": "completed"
    },
    "tags": []
   },
   "outputs": [
    {
     "name": "stdout",
     "output_type": "stream",
     "text": [
      "           date  new_cases  new_deaths  new_tests\n",
      "0    2019-12-31        0.0         0.0        NaN\n",
      "1    2020-01-01        0.0         0.0        NaN\n",
      "2    2020-01-02        0.0         0.0        NaN\n",
      "3    2020-01-03        0.0         0.0        NaN\n",
      "4    2020-01-04        0.0         0.0        NaN\n",
      "..          ...        ...         ...        ...\n",
      "243  2020-08-30     1444.0         1.0    53541.0\n",
      "244  2020-08-31     1365.0         4.0    42583.0\n",
      "245  2020-09-01      996.0         6.0    54395.0\n",
      "246  2020-09-02      975.0         8.0        NaN\n",
      "247  2020-09-03     1326.0         6.0        NaN\n",
      "\n",
      "[248 rows x 4 columns]\n"
     ]
    }
   ],
   "source": [
    "import pandas as pd\n",
    "covid_df = pd.read_csv('italy-covid-daywise.csv')\n",
    "print(covid_df)"
   ]
  },
  {
   "cell_type": "code",
   "execution_count": 3,
   "id": "bc10803e",
   "metadata": {
    "execution": {
     "iopub.execute_input": "2025-01-31T19:10:09.821970Z",
     "iopub.status.busy": "2025-01-31T19:10:09.821690Z",
     "iopub.status.idle": "2025-01-31T19:10:09.826957Z",
     "shell.execute_reply": "2025-01-31T19:10:09.826171Z"
    },
    "papermill": {
     "duration": 0.022446,
     "end_time": "2025-01-31T19:10:09.828302",
     "exception": false,
     "start_time": "2025-01-31T19:10:09.805856",
     "status": "completed"
    },
    "tags": []
   },
   "outputs": [
    {
     "data": {
      "text/plain": [
       "pandas.core.frame.DataFrame"
      ]
     },
     "execution_count": 3,
     "metadata": {},
     "output_type": "execute_result"
    }
   ],
   "source": [
    "type(covid_df)"
   ]
  },
  {
   "cell_type": "markdown",
   "id": "829e7d35",
   "metadata": {
    "papermill": {
     "duration": 0.014952,
     "end_time": "2025-01-31T19:10:09.857861",
     "exception": false,
     "start_time": "2025-01-31T19:10:09.842909",
     "status": "completed"
    },
    "tags": []
   },
   "source": [
    "**To get to know about some basic information we use .info()**"
   ]
  },
  {
   "cell_type": "code",
   "execution_count": 4,
   "id": "86adad46",
   "metadata": {
    "execution": {
     "iopub.execute_input": "2025-01-31T19:10:09.938923Z",
     "iopub.status.busy": "2025-01-31T19:10:09.938660Z",
     "iopub.status.idle": "2025-01-31T19:10:09.964464Z",
     "shell.execute_reply": "2025-01-31T19:10:09.963564Z"
    },
    "papermill": {
     "duration": 0.042677,
     "end_time": "2025-01-31T19:10:09.966050",
     "exception": false,
     "start_time": "2025-01-31T19:10:09.923373",
     "status": "completed"
    },
    "tags": []
   },
   "outputs": [
    {
     "name": "stdout",
     "output_type": "stream",
     "text": [
      "<class 'pandas.core.frame.DataFrame'>\n",
      "RangeIndex: 248 entries, 0 to 247\n",
      "Data columns (total 4 columns):\n",
      " #   Column      Non-Null Count  Dtype  \n",
      "---  ------      --------------  -----  \n",
      " 0   date        248 non-null    object \n",
      " 1   new_cases   248 non-null    float64\n",
      " 2   new_deaths  248 non-null    float64\n",
      " 3   new_tests   135 non-null    float64\n",
      "dtypes: float64(3), object(1)\n",
      "memory usage: 7.9+ KB\n"
     ]
    }
   ],
   "source": [
    "covid_df.info()"
   ]
  },
  {
   "cell_type": "markdown",
   "id": "7ef743f0",
   "metadata": {
    "papermill": {
     "duration": 0.014305,
     "end_time": "2025-01-31T19:10:09.995047",
     "exception": false,
     "start_time": "2025-01-31T19:10:09.980742",
     "status": "completed"
    },
    "tags": []
   },
   "source": [
    "**To know about the statistical information of the table like mean, standard deviation, minimum values of the table .describe() is used**"
   ]
  },
  {
   "cell_type": "code",
   "execution_count": 5,
   "id": "b197e610",
   "metadata": {
    "execution": {
     "iopub.execute_input": "2025-01-31T19:10:10.027016Z",
     "iopub.status.busy": "2025-01-31T19:10:10.026734Z",
     "iopub.status.idle": "2025-01-31T19:10:10.046381Z",
     "shell.execute_reply": "2025-01-31T19:10:10.045529Z"
    },
    "papermill": {
     "duration": 0.037127,
     "end_time": "2025-01-31T19:10:10.047924",
     "exception": false,
     "start_time": "2025-01-31T19:10:10.010797",
     "status": "completed"
    },
    "tags": []
   },
   "outputs": [
    {
     "data": {
      "text/html": [
       "<div>\n",
       "<style scoped>\n",
       "    .dataframe tbody tr th:only-of-type {\n",
       "        vertical-align: middle;\n",
       "    }\n",
       "\n",
       "    .dataframe tbody tr th {\n",
       "        vertical-align: top;\n",
       "    }\n",
       "\n",
       "    .dataframe thead th {\n",
       "        text-align: right;\n",
       "    }\n",
       "</style>\n",
       "<table border=\"1\" class=\"dataframe\">\n",
       "  <thead>\n",
       "    <tr style=\"text-align: right;\">\n",
       "      <th></th>\n",
       "      <th>new_cases</th>\n",
       "      <th>new_deaths</th>\n",
       "      <th>new_tests</th>\n",
       "    </tr>\n",
       "  </thead>\n",
       "  <tbody>\n",
       "    <tr>\n",
       "      <th>count</th>\n",
       "      <td>248.000000</td>\n",
       "      <td>248.000000</td>\n",
       "      <td>135.000000</td>\n",
       "    </tr>\n",
       "    <tr>\n",
       "      <th>mean</th>\n",
       "      <td>1094.818548</td>\n",
       "      <td>143.133065</td>\n",
       "      <td>31699.674074</td>\n",
       "    </tr>\n",
       "    <tr>\n",
       "      <th>std</th>\n",
       "      <td>1554.508002</td>\n",
       "      <td>227.105538</td>\n",
       "      <td>11622.209757</td>\n",
       "    </tr>\n",
       "    <tr>\n",
       "      <th>min</th>\n",
       "      <td>-148.000000</td>\n",
       "      <td>-31.000000</td>\n",
       "      <td>7841.000000</td>\n",
       "    </tr>\n",
       "    <tr>\n",
       "      <th>25%</th>\n",
       "      <td>123.000000</td>\n",
       "      <td>3.000000</td>\n",
       "      <td>25259.000000</td>\n",
       "    </tr>\n",
       "    <tr>\n",
       "      <th>50%</th>\n",
       "      <td>342.000000</td>\n",
       "      <td>17.000000</td>\n",
       "      <td>29545.000000</td>\n",
       "    </tr>\n",
       "    <tr>\n",
       "      <th>75%</th>\n",
       "      <td>1371.750000</td>\n",
       "      <td>175.250000</td>\n",
       "      <td>37711.000000</td>\n",
       "    </tr>\n",
       "    <tr>\n",
       "      <th>max</th>\n",
       "      <td>6557.000000</td>\n",
       "      <td>971.000000</td>\n",
       "      <td>95273.000000</td>\n",
       "    </tr>\n",
       "  </tbody>\n",
       "</table>\n",
       "</div>"
      ],
      "text/plain": [
       "         new_cases  new_deaths     new_tests\n",
       "count   248.000000  248.000000    135.000000\n",
       "mean   1094.818548  143.133065  31699.674074\n",
       "std    1554.508002  227.105538  11622.209757\n",
       "min    -148.000000  -31.000000   7841.000000\n",
       "25%     123.000000    3.000000  25259.000000\n",
       "50%     342.000000   17.000000  29545.000000\n",
       "75%    1371.750000  175.250000  37711.000000\n",
       "max    6557.000000  971.000000  95273.000000"
      ]
     },
     "execution_count": 5,
     "metadata": {},
     "output_type": "execute_result"
    }
   ],
   "source": [
    "covid_df.describe()"
   ]
  },
  {
   "cell_type": "markdown",
   "id": "6568f96e",
   "metadata": {
    "papermill": {
     "duration": 0.01482,
     "end_time": "2025-01-31T19:10:10.079921",
     "exception": false,
     "start_time": "2025-01-31T19:10:10.065101",
     "status": "completed"
    },
    "tags": []
   },
   "source": [
    "**To get the list of columns name we use the property of columns**"
   ]
  },
  {
   "cell_type": "code",
   "execution_count": 6,
   "id": "cd1c732b",
   "metadata": {
    "execution": {
     "iopub.execute_input": "2025-01-31T19:10:10.111907Z",
     "iopub.status.busy": "2025-01-31T19:10:10.111633Z",
     "iopub.status.idle": "2025-01-31T19:10:10.116880Z",
     "shell.execute_reply": "2025-01-31T19:10:10.116133Z"
    },
    "papermill": {
     "duration": 0.023312,
     "end_time": "2025-01-31T19:10:10.118922",
     "exception": false,
     "start_time": "2025-01-31T19:10:10.095610",
     "status": "completed"
    },
    "tags": []
   },
   "outputs": [
    {
     "data": {
      "text/plain": [
       "Index(['date', 'new_cases', 'new_deaths', 'new_tests'], dtype='object')"
      ]
     },
     "execution_count": 6,
     "metadata": {},
     "output_type": "execute_result"
    }
   ],
   "source": [
    "covid_df.columns"
   ]
  },
  {
   "cell_type": "markdown",
   "id": "cfdab4e1",
   "metadata": {
    "papermill": {
     "duration": 0.014877,
     "end_time": "2025-01-31T19:10:10.150591",
     "exception": false,
     "start_time": "2025-01-31T19:10:10.135714",
     "status": "completed"
    },
    "tags": []
   },
   "source": [
    "**To know about the number of rows and columns -> dimnesion of the matrix**"
   ]
  },
  {
   "cell_type": "code",
   "execution_count": 7,
   "id": "d6c21d1a",
   "metadata": {
    "execution": {
     "iopub.execute_input": "2025-01-31T19:10:10.181423Z",
     "iopub.status.busy": "2025-01-31T19:10:10.181123Z",
     "iopub.status.idle": "2025-01-31T19:10:10.186789Z",
     "shell.execute_reply": "2025-01-31T19:10:10.185709Z"
    },
    "papermill": {
     "duration": 0.023292,
     "end_time": "2025-01-31T19:10:10.188582",
     "exception": false,
     "start_time": "2025-01-31T19:10:10.165290",
     "status": "completed"
    },
    "tags": []
   },
   "outputs": [
    {
     "data": {
      "text/plain": [
       "(248, 4)"
      ]
     },
     "execution_count": 7,
     "metadata": {},
     "output_type": "execute_result"
    }
   ],
   "source": [
    "covid_df.shape"
   ]
  },
  {
   "cell_type": "markdown",
   "id": "549a0e9d",
   "metadata": {
    "papermill": {
     "duration": 0.014778,
     "end_time": "2025-01-31T19:10:10.218634",
     "exception": false,
     "start_time": "2025-01-31T19:10:10.203856",
     "status": "completed"
    },
    "tags": []
   },
   "source": [
    "**RETRIVING DATA FROM DATAFRAME**\n",
    "\n",
    "To retrive data from dataframes, like a specific value from a column, **Dataframes can be thought as a dictionary of lists** where each key represents the column name while value represents the array/lists in  respective columns.\n",
    "\n",
    "**BENEFITS OF REPRESENTING THE DATA IN THE BELOW FORMAT**\n",
    "\n",
    "* Each columns have values of the same data types, so it efficient to store them in a single array.\n",
    "* Retrieving the values for a particular row simply requires extracting the elements at a given index from each column array.\n",
    "* The representation is more compact as the column names are mentioned only once, while if we were to row names as lists, they would be repeated."
   ]
  },
  {
   "cell_type": "code",
   "execution_count": 8,
   "id": "11e9c159",
   "metadata": {
    "execution": {
     "iopub.execute_input": "2025-01-31T19:10:10.249725Z",
     "iopub.status.busy": "2025-01-31T19:10:10.249417Z",
     "iopub.status.idle": "2025-01-31T19:10:10.254117Z",
     "shell.execute_reply": "2025-01-31T19:10:10.253390Z"
    },
    "papermill": {
     "duration": 0.022459,
     "end_time": "2025-01-31T19:10:10.255965",
     "exception": false,
     "start_time": "2025-01-31T19:10:10.233506",
     "status": "completed"
    },
    "tags": []
   },
   "outputs": [],
   "source": [
    "#It can be understood like this\n",
    "covid_data_dict = {\n",
    "    'date':       ['2020-08-30', '2020-08-31', '2020-09-01', '2020-09-02', '2020-09-03'],\n",
    "    'new_cases':  [1444, 1365, 996, 975, 1326],\n",
    "    'new_deaths': [1, 4, 6, 8, 6],\n",
    "    'new_tests': [53541, 42583, 54395, None, None]\n",
    "}"
   ]
  },
  {
   "cell_type": "markdown",
   "id": "f37fc4b3",
   "metadata": {
    "papermill": {
     "duration": 0.01542,
     "end_time": "2025-01-31T19:10:10.287153",
     "exception": false,
     "start_time": "2025-01-31T19:10:10.271733",
     "status": "completed"
    },
    "tags": []
   },
   "source": [
    "**To retrieve a data from dataframes** ,\n",
    "\n",
    "**nameofdict['keyname']**\n",
    "\n",
    "**It can also be represented as\n",
    "nameofdf['columnname']**\n",
    "\n",
    "So the below two are **same**"
   ]
  },
  {
   "cell_type": "code",
   "execution_count": 9,
   "id": "76eed837",
   "metadata": {
    "execution": {
     "iopub.execute_input": "2025-01-31T19:10:10.319461Z",
     "iopub.status.busy": "2025-01-31T19:10:10.319143Z",
     "iopub.status.idle": "2025-01-31T19:10:10.324777Z",
     "shell.execute_reply": "2025-01-31T19:10:10.323960Z"
    },
    "papermill": {
     "duration": 0.024178,
     "end_time": "2025-01-31T19:10:10.326763",
     "exception": false,
     "start_time": "2025-01-31T19:10:10.302585",
     "status": "completed"
    },
    "tags": []
   },
   "outputs": [
    {
     "data": {
      "text/plain": [
       "[1444, 1365, 996, 975, 1326]"
      ]
     },
     "execution_count": 9,
     "metadata": {},
     "output_type": "execute_result"
    }
   ],
   "source": [
    "covid_data_dict['new_cases']"
   ]
  },
  {
   "cell_type": "code",
   "execution_count": 10,
   "id": "cda1e2bb",
   "metadata": {
    "execution": {
     "iopub.execute_input": "2025-01-31T19:10:10.358178Z",
     "iopub.status.busy": "2025-01-31T19:10:10.357319Z",
     "iopub.status.idle": "2025-01-31T19:10:10.364414Z",
     "shell.execute_reply": "2025-01-31T19:10:10.363644Z"
    },
    "papermill": {
     "duration": 0.0245,
     "end_time": "2025-01-31T19:10:10.366299",
     "exception": false,
     "start_time": "2025-01-31T19:10:10.341799",
     "status": "completed"
    },
    "tags": []
   },
   "outputs": [
    {
     "data": {
      "text/plain": [
       "0         0.0\n",
       "1         0.0\n",
       "2         0.0\n",
       "3         0.0\n",
       "4         0.0\n",
       "        ...  \n",
       "243    1444.0\n",
       "244    1365.0\n",
       "245     996.0\n",
       "246     975.0\n",
       "247    1326.0\n",
       "Name: new_cases, Length: 248, dtype: float64"
      ]
     },
     "execution_count": 10,
     "metadata": {},
     "output_type": "execute_result"
    }
   ],
   "source": [
    "covid_df['new_cases'] #Retriving columns as series"
   ]
  },
  {
   "cell_type": "markdown",
   "id": "9a86e747",
   "metadata": {
    "papermill": {
     "duration": 0.01491,
     "end_time": "2025-01-31T19:10:10.396537",
     "exception": false,
     "start_time": "2025-01-31T19:10:10.381627",
     "status": "completed"
    },
    "tags": []
   },
   "source": [
    "Each column in a DataFrame is called **Series** which is **NumPy array** which some extra methods and properties. A single column in a spreadsheet is called Series."
   ]
  },
  {
   "cell_type": "code",
   "execution_count": 11,
   "id": "8fcf15f5",
   "metadata": {
    "execution": {
     "iopub.execute_input": "2025-01-31T19:10:10.428179Z",
     "iopub.status.busy": "2025-01-31T19:10:10.427910Z",
     "iopub.status.idle": "2025-01-31T19:10:10.433646Z",
     "shell.execute_reply": "2025-01-31T19:10:10.432460Z"
    },
    "papermill": {
     "duration": 0.023658,
     "end_time": "2025-01-31T19:10:10.435580",
     "exception": false,
     "start_time": "2025-01-31T19:10:10.411922",
     "status": "completed"
    },
    "tags": []
   },
   "outputs": [
    {
     "data": {
      "text/plain": [
       "pandas.core.series.Series"
      ]
     },
     "execution_count": 11,
     "metadata": {},
     "output_type": "execute_result"
    }
   ],
   "source": [
    "type(covid_df['new_cases'])"
   ]
  },
  {
   "cell_type": "markdown",
   "id": "e34489cc",
   "metadata": {
    "papermill": {
     "duration": 0.014821,
     "end_time": "2025-01-31T19:10:10.465806",
     "exception": false,
     "start_time": "2025-01-31T19:10:10.450985",
     "status": "completed"
    },
    "tags": []
   },
   "source": [
    "**Similiar to arrays, series also support index notation. It returns the value when its index is inputed**"
   ]
  },
  {
   "cell_type": "code",
   "execution_count": 12,
   "id": "4c9c52c2",
   "metadata": {
    "execution": {
     "iopub.execute_input": "2025-01-31T19:10:10.499382Z",
     "iopub.status.busy": "2025-01-31T19:10:10.499070Z",
     "iopub.status.idle": "2025-01-31T19:10:10.503250Z",
     "shell.execute_reply": "2025-01-31T19:10:10.502439Z"
    },
    "papermill": {
     "duration": 0.02361,
     "end_time": "2025-01-31T19:10:10.504766",
     "exception": false,
     "start_time": "2025-01-31T19:10:10.481156",
     "status": "completed"
    },
    "tags": []
   },
   "outputs": [
    {
     "name": "stdout",
     "output_type": "stream",
     "text": [
      "1326.0\n",
      "1444.0\n"
     ]
    }
   ],
   "source": [
    "print(covid_df['new_cases'][247])\n",
    "print(covid_df['new_cases'][243])"
   ]
  },
  {
   "cell_type": "markdown",
   "id": "486df665",
   "metadata": {
    "papermill": {
     "duration": 0.015328,
     "end_time": "2025-01-31T19:10:10.535475",
     "exception": false,
     "start_time": "2025-01-31T19:10:10.520147",
     "status": "completed"
    },
    "tags": []
   },
   "source": [
    "**.at is a method which is used to retrieve data from rows and columns without using index notation**"
   ]
  },
  {
   "cell_type": "code",
   "execution_count": 13,
   "id": "4f364e24",
   "metadata": {
    "execution": {
     "iopub.execute_input": "2025-01-31T19:10:10.567568Z",
     "iopub.status.busy": "2025-01-31T19:10:10.567317Z",
     "iopub.status.idle": "2025-01-31T19:10:10.573253Z",
     "shell.execute_reply": "2025-01-31T19:10:10.572158Z"
    },
    "papermill": {
     "duration": 0.023858,
     "end_time": "2025-01-31T19:10:10.574851",
     "exception": false,
     "start_time": "2025-01-31T19:10:10.550993",
     "status": "completed"
    },
    "tags": []
   },
   "outputs": [
    {
     "data": {
      "text/plain": [
       "4.0"
      ]
     },
     "execution_count": 13,
     "metadata": {},
     "output_type": "execute_result"
    }
   ],
   "source": [
    "covid_df.at[244,'new_deaths']"
   ]
  },
  {
   "cell_type": "code",
   "execution_count": 14,
   "id": "a696bbc7",
   "metadata": {
    "execution": {
     "iopub.execute_input": "2025-01-31T19:10:10.607775Z",
     "iopub.status.busy": "2025-01-31T19:10:10.607486Z",
     "iopub.status.idle": "2025-01-31T19:10:10.613534Z",
     "shell.execute_reply": "2025-01-31T19:10:10.612698Z"
    },
    "papermill": {
     "duration": 0.024529,
     "end_time": "2025-01-31T19:10:10.614944",
     "exception": false,
     "start_time": "2025-01-31T19:10:10.590415",
     "status": "completed"
    },
    "tags": []
   },
   "outputs": [
    {
     "data": {
      "text/plain": [
       "975.0"
      ]
     },
     "execution_count": 14,
     "metadata": {},
     "output_type": "execute_result"
    }
   ],
   "source": [
    "covid_df.at[246, 'new_cases']"
   ]
  },
  {
   "cell_type": "markdown",
   "id": "81a23d13",
   "metadata": {
    "papermill": {
     "duration": 0.015098,
     "end_time": "2025-01-31T19:10:10.645425",
     "exception": false,
     "start_time": "2025-01-31T19:10:10.630327",
     "status": "completed"
    },
    "tags": []
   },
   "source": [
    "**Instead of using index notation [] pandas allows to use . operator for retriving column datas**"
   ]
  },
  {
   "cell_type": "code",
   "execution_count": 15,
   "id": "25c25c1d",
   "metadata": {
    "execution": {
     "iopub.execute_input": "2025-01-31T19:10:10.677694Z",
     "iopub.status.busy": "2025-01-31T19:10:10.677435Z",
     "iopub.status.idle": "2025-01-31T19:10:10.684974Z",
     "shell.execute_reply": "2025-01-31T19:10:10.684235Z"
    },
    "papermill": {
     "duration": 0.025656,
     "end_time": "2025-01-31T19:10:10.686578",
     "exception": false,
     "start_time": "2025-01-31T19:10:10.660922",
     "status": "completed"
    },
    "tags": []
   },
   "outputs": [
    {
     "data": {
      "text/plain": [
       "0         0.0\n",
       "1         0.0\n",
       "2         0.0\n",
       "3         0.0\n",
       "4         0.0\n",
       "        ...  \n",
       "243    1444.0\n",
       "244    1365.0\n",
       "245     996.0\n",
       "246     975.0\n",
       "247    1326.0\n",
       "Name: new_cases, Length: 248, dtype: float64"
      ]
     },
     "execution_count": 15,
     "metadata": {},
     "output_type": "execute_result"
    }
   ],
   "source": [
    "covid_df.new_cases"
   ]
  },
  {
   "cell_type": "markdown",
   "id": "ad957dcb",
   "metadata": {
    "papermill": {
     "duration": 0.015071,
     "end_time": "2025-01-31T19:10:10.717376",
     "exception": false,
     "start_time": "2025-01-31T19:10:10.702305",
     "status": "completed"
    },
    "tags": []
   },
   "source": [
    "**To make a subset of dataframe, we can input a list of columns**"
   ]
  },
  {
   "cell_type": "code",
   "execution_count": 16,
   "id": "4d1039a2",
   "metadata": {
    "execution": {
     "iopub.execute_input": "2025-01-31T19:10:10.749167Z",
     "iopub.status.busy": "2025-01-31T19:10:10.748889Z",
     "iopub.status.idle": "2025-01-31T19:10:10.760320Z",
     "shell.execute_reply": "2025-01-31T19:10:10.759342Z"
    },
    "papermill": {
     "duration": 0.029319,
     "end_time": "2025-01-31T19:10:10.762036",
     "exception": false,
     "start_time": "2025-01-31T19:10:10.732717",
     "status": "completed"
    },
    "tags": []
   },
   "outputs": [
    {
     "data": {
      "text/html": [
       "<div>\n",
       "<style scoped>\n",
       "    .dataframe tbody tr th:only-of-type {\n",
       "        vertical-align: middle;\n",
       "    }\n",
       "\n",
       "    .dataframe tbody tr th {\n",
       "        vertical-align: top;\n",
       "    }\n",
       "\n",
       "    .dataframe thead th {\n",
       "        text-align: right;\n",
       "    }\n",
       "</style>\n",
       "<table border=\"1\" class=\"dataframe\">\n",
       "  <thead>\n",
       "    <tr style=\"text-align: right;\">\n",
       "      <th></th>\n",
       "      <th>date</th>\n",
       "      <th>new_cases</th>\n",
       "    </tr>\n",
       "  </thead>\n",
       "  <tbody>\n",
       "    <tr>\n",
       "      <th>0</th>\n",
       "      <td>2019-12-31</td>\n",
       "      <td>0.0</td>\n",
       "    </tr>\n",
       "    <tr>\n",
       "      <th>1</th>\n",
       "      <td>2020-01-01</td>\n",
       "      <td>0.0</td>\n",
       "    </tr>\n",
       "    <tr>\n",
       "      <th>2</th>\n",
       "      <td>2020-01-02</td>\n",
       "      <td>0.0</td>\n",
       "    </tr>\n",
       "    <tr>\n",
       "      <th>3</th>\n",
       "      <td>2020-01-03</td>\n",
       "      <td>0.0</td>\n",
       "    </tr>\n",
       "    <tr>\n",
       "      <th>4</th>\n",
       "      <td>2020-01-04</td>\n",
       "      <td>0.0</td>\n",
       "    </tr>\n",
       "    <tr>\n",
       "      <th>...</th>\n",
       "      <td>...</td>\n",
       "      <td>...</td>\n",
       "    </tr>\n",
       "    <tr>\n",
       "      <th>243</th>\n",
       "      <td>2020-08-30</td>\n",
       "      <td>1444.0</td>\n",
       "    </tr>\n",
       "    <tr>\n",
       "      <th>244</th>\n",
       "      <td>2020-08-31</td>\n",
       "      <td>1365.0</td>\n",
       "    </tr>\n",
       "    <tr>\n",
       "      <th>245</th>\n",
       "      <td>2020-09-01</td>\n",
       "      <td>996.0</td>\n",
       "    </tr>\n",
       "    <tr>\n",
       "      <th>246</th>\n",
       "      <td>2020-09-02</td>\n",
       "      <td>975.0</td>\n",
       "    </tr>\n",
       "    <tr>\n",
       "      <th>247</th>\n",
       "      <td>2020-09-03</td>\n",
       "      <td>1326.0</td>\n",
       "    </tr>\n",
       "  </tbody>\n",
       "</table>\n",
       "<p>248 rows × 2 columns</p>\n",
       "</div>"
      ],
      "text/plain": [
       "           date  new_cases\n",
       "0    2019-12-31        0.0\n",
       "1    2020-01-01        0.0\n",
       "2    2020-01-02        0.0\n",
       "3    2020-01-03        0.0\n",
       "4    2020-01-04        0.0\n",
       "..          ...        ...\n",
       "243  2020-08-30     1444.0\n",
       "244  2020-08-31     1365.0\n",
       "245  2020-09-01      996.0\n",
       "246  2020-09-02      975.0\n",
       "247  2020-09-03     1326.0\n",
       "\n",
       "[248 rows x 2 columns]"
      ]
     },
     "execution_count": 16,
     "metadata": {},
     "output_type": "execute_result"
    }
   ],
   "source": [
    "cases_df = covid_df[['date','new_cases']]\n",
    "cases_df"
   ]
  },
  {
   "cell_type": "markdown",
   "id": "e534a1d2",
   "metadata": {
    "papermill": {
     "duration": 0.015169,
     "end_time": "2025-01-31T19:10:10.792765",
     "exception": false,
     "start_time": "2025-01-31T19:10:10.777596",
     "status": "completed"
    },
    "tags": []
   },
   "source": [
    "Here cases_df is passed through **reference**, it is a view of covid_df. Changing value in any of them, will modify value in both the dataframes.\n",
    "**Both point to the same data in computer memory**\n",
    "\n",
    "**To copy the whole dataframe, .copy() method is used****"
   ]
  },
  {
   "cell_type": "code",
   "execution_count": 17,
   "id": "1eaa2739",
   "metadata": {
    "execution": {
     "iopub.execute_input": "2025-01-31T19:10:10.826367Z",
     "iopub.status.busy": "2025-01-31T19:10:10.826068Z",
     "iopub.status.idle": "2025-01-31T19:10:10.837619Z",
     "shell.execute_reply": "2025-01-31T19:10:10.836725Z"
    },
    "papermill": {
     "duration": 0.030343,
     "end_time": "2025-01-31T19:10:10.839203",
     "exception": false,
     "start_time": "2025-01-31T19:10:10.808860",
     "status": "completed"
    },
    "tags": []
   },
   "outputs": [
    {
     "data": {
      "text/html": [
       "<div>\n",
       "<style scoped>\n",
       "    .dataframe tbody tr th:only-of-type {\n",
       "        vertical-align: middle;\n",
       "    }\n",
       "\n",
       "    .dataframe tbody tr th {\n",
       "        vertical-align: top;\n",
       "    }\n",
       "\n",
       "    .dataframe thead th {\n",
       "        text-align: right;\n",
       "    }\n",
       "</style>\n",
       "<table border=\"1\" class=\"dataframe\">\n",
       "  <thead>\n",
       "    <tr style=\"text-align: right;\">\n",
       "      <th></th>\n",
       "      <th>date</th>\n",
       "      <th>new_cases</th>\n",
       "      <th>new_deaths</th>\n",
       "      <th>new_tests</th>\n",
       "    </tr>\n",
       "  </thead>\n",
       "  <tbody>\n",
       "    <tr>\n",
       "      <th>0</th>\n",
       "      <td>2019-12-31</td>\n",
       "      <td>0.0</td>\n",
       "      <td>0.0</td>\n",
       "      <td>NaN</td>\n",
       "    </tr>\n",
       "    <tr>\n",
       "      <th>1</th>\n",
       "      <td>2020-01-01</td>\n",
       "      <td>0.0</td>\n",
       "      <td>0.0</td>\n",
       "      <td>NaN</td>\n",
       "    </tr>\n",
       "    <tr>\n",
       "      <th>2</th>\n",
       "      <td>2020-01-02</td>\n",
       "      <td>0.0</td>\n",
       "      <td>0.0</td>\n",
       "      <td>NaN</td>\n",
       "    </tr>\n",
       "    <tr>\n",
       "      <th>3</th>\n",
       "      <td>2020-01-03</td>\n",
       "      <td>0.0</td>\n",
       "      <td>0.0</td>\n",
       "      <td>NaN</td>\n",
       "    </tr>\n",
       "    <tr>\n",
       "      <th>4</th>\n",
       "      <td>2020-01-04</td>\n",
       "      <td>0.0</td>\n",
       "      <td>0.0</td>\n",
       "      <td>NaN</td>\n",
       "    </tr>\n",
       "    <tr>\n",
       "      <th>...</th>\n",
       "      <td>...</td>\n",
       "      <td>...</td>\n",
       "      <td>...</td>\n",
       "      <td>...</td>\n",
       "    </tr>\n",
       "    <tr>\n",
       "      <th>243</th>\n",
       "      <td>2020-08-30</td>\n",
       "      <td>1444.0</td>\n",
       "      <td>1.0</td>\n",
       "      <td>53541.0</td>\n",
       "    </tr>\n",
       "    <tr>\n",
       "      <th>244</th>\n",
       "      <td>2020-08-31</td>\n",
       "      <td>1365.0</td>\n",
       "      <td>4.0</td>\n",
       "      <td>42583.0</td>\n",
       "    </tr>\n",
       "    <tr>\n",
       "      <th>245</th>\n",
       "      <td>2020-09-01</td>\n",
       "      <td>996.0</td>\n",
       "      <td>6.0</td>\n",
       "      <td>54395.0</td>\n",
       "    </tr>\n",
       "    <tr>\n",
       "      <th>246</th>\n",
       "      <td>2020-09-02</td>\n",
       "      <td>975.0</td>\n",
       "      <td>8.0</td>\n",
       "      <td>NaN</td>\n",
       "    </tr>\n",
       "    <tr>\n",
       "      <th>247</th>\n",
       "      <td>2020-09-03</td>\n",
       "      <td>1326.0</td>\n",
       "      <td>6.0</td>\n",
       "      <td>NaN</td>\n",
       "    </tr>\n",
       "  </tbody>\n",
       "</table>\n",
       "<p>248 rows × 4 columns</p>\n",
       "</div>"
      ],
      "text/plain": [
       "           date  new_cases  new_deaths  new_tests\n",
       "0    2019-12-31        0.0         0.0        NaN\n",
       "1    2020-01-01        0.0         0.0        NaN\n",
       "2    2020-01-02        0.0         0.0        NaN\n",
       "3    2020-01-03        0.0         0.0        NaN\n",
       "4    2020-01-04        0.0         0.0        NaN\n",
       "..          ...        ...         ...        ...\n",
       "243  2020-08-30     1444.0         1.0    53541.0\n",
       "244  2020-08-31     1365.0         4.0    42583.0\n",
       "245  2020-09-01      996.0         6.0    54395.0\n",
       "246  2020-09-02      975.0         8.0        NaN\n",
       "247  2020-09-03     1326.0         6.0        NaN\n",
       "\n",
       "[248 rows x 4 columns]"
      ]
     },
     "execution_count": 17,
     "metadata": {},
     "output_type": "execute_result"
    }
   ],
   "source": [
    "covid_df_copy = covid_df.copy()\n",
    "covid_df_copy\n"
   ]
  },
  {
   "cell_type": "markdown",
   "id": "6e2a469e",
   "metadata": {
    "papermill": {
     "duration": 0.016008,
     "end_time": "2025-01-31T19:10:10.871244",
     "exception": false,
     "start_time": "2025-01-31T19:10:10.855236",
     "status": "completed"
    },
    "tags": []
   },
   "source": [
    "**Here the data in covid_df_copy is different from covid_df and changing the value in any one of them will not affect the other**"
   ]
  },
  {
   "cell_type": "markdown",
   "id": "42a18f87",
   "metadata": {
    "papermill": {
     "duration": 0.016343,
     "end_time": "2025-01-31T19:10:10.903851",
     "exception": false,
     "start_time": "2025-01-31T19:10:10.887508",
     "status": "completed"
    },
    "tags": []
   },
   "source": [
    "**To access a specific row of data, .loc property is used**"
   ]
  },
  {
   "cell_type": "code",
   "execution_count": 18,
   "id": "faeb7701",
   "metadata": {
    "execution": {
     "iopub.execute_input": "2025-01-31T19:10:10.936993Z",
     "iopub.status.busy": "2025-01-31T19:10:10.936740Z",
     "iopub.status.idle": "2025-01-31T19:10:10.947039Z",
     "shell.execute_reply": "2025-01-31T19:10:10.946175Z"
    },
    "papermill": {
     "duration": 0.028926,
     "end_time": "2025-01-31T19:10:10.948935",
     "exception": false,
     "start_time": "2025-01-31T19:10:10.920009",
     "status": "completed"
    },
    "tags": []
   },
   "outputs": [
    {
     "data": {
      "text/html": [
       "<div>\n",
       "<style scoped>\n",
       "    .dataframe tbody tr th:only-of-type {\n",
       "        vertical-align: middle;\n",
       "    }\n",
       "\n",
       "    .dataframe tbody tr th {\n",
       "        vertical-align: top;\n",
       "    }\n",
       "\n",
       "    .dataframe thead th {\n",
       "        text-align: right;\n",
       "    }\n",
       "</style>\n",
       "<table border=\"1\" class=\"dataframe\">\n",
       "  <thead>\n",
       "    <tr style=\"text-align: right;\">\n",
       "      <th></th>\n",
       "      <th>date</th>\n",
       "      <th>new_cases</th>\n",
       "      <th>new_deaths</th>\n",
       "      <th>new_tests</th>\n",
       "    </tr>\n",
       "  </thead>\n",
       "  <tbody>\n",
       "    <tr>\n",
       "      <th>0</th>\n",
       "      <td>2019-12-31</td>\n",
       "      <td>0.0</td>\n",
       "      <td>0.0</td>\n",
       "      <td>NaN</td>\n",
       "    </tr>\n",
       "    <tr>\n",
       "      <th>1</th>\n",
       "      <td>2020-01-01</td>\n",
       "      <td>0.0</td>\n",
       "      <td>0.0</td>\n",
       "      <td>NaN</td>\n",
       "    </tr>\n",
       "    <tr>\n",
       "      <th>2</th>\n",
       "      <td>2020-01-02</td>\n",
       "      <td>0.0</td>\n",
       "      <td>0.0</td>\n",
       "      <td>NaN</td>\n",
       "    </tr>\n",
       "    <tr>\n",
       "      <th>3</th>\n",
       "      <td>2020-01-03</td>\n",
       "      <td>0.0</td>\n",
       "      <td>0.0</td>\n",
       "      <td>NaN</td>\n",
       "    </tr>\n",
       "    <tr>\n",
       "      <th>4</th>\n",
       "      <td>2020-01-04</td>\n",
       "      <td>0.0</td>\n",
       "      <td>0.0</td>\n",
       "      <td>NaN</td>\n",
       "    </tr>\n",
       "    <tr>\n",
       "      <th>...</th>\n",
       "      <td>...</td>\n",
       "      <td>...</td>\n",
       "      <td>...</td>\n",
       "      <td>...</td>\n",
       "    </tr>\n",
       "    <tr>\n",
       "      <th>243</th>\n",
       "      <td>2020-08-30</td>\n",
       "      <td>1444.0</td>\n",
       "      <td>1.0</td>\n",
       "      <td>53541.0</td>\n",
       "    </tr>\n",
       "    <tr>\n",
       "      <th>244</th>\n",
       "      <td>2020-08-31</td>\n",
       "      <td>1365.0</td>\n",
       "      <td>4.0</td>\n",
       "      <td>42583.0</td>\n",
       "    </tr>\n",
       "    <tr>\n",
       "      <th>245</th>\n",
       "      <td>2020-09-01</td>\n",
       "      <td>996.0</td>\n",
       "      <td>6.0</td>\n",
       "      <td>54395.0</td>\n",
       "    </tr>\n",
       "    <tr>\n",
       "      <th>246</th>\n",
       "      <td>2020-09-02</td>\n",
       "      <td>975.0</td>\n",
       "      <td>8.0</td>\n",
       "      <td>NaN</td>\n",
       "    </tr>\n",
       "    <tr>\n",
       "      <th>247</th>\n",
       "      <td>2020-09-03</td>\n",
       "      <td>1326.0</td>\n",
       "      <td>6.0</td>\n",
       "      <td>NaN</td>\n",
       "    </tr>\n",
       "  </tbody>\n",
       "</table>\n",
       "<p>248 rows × 4 columns</p>\n",
       "</div>"
      ],
      "text/plain": [
       "           date  new_cases  new_deaths  new_tests\n",
       "0    2019-12-31        0.0         0.0        NaN\n",
       "1    2020-01-01        0.0         0.0        NaN\n",
       "2    2020-01-02        0.0         0.0        NaN\n",
       "3    2020-01-03        0.0         0.0        NaN\n",
       "4    2020-01-04        0.0         0.0        NaN\n",
       "..          ...        ...         ...        ...\n",
       "243  2020-08-30     1444.0         1.0    53541.0\n",
       "244  2020-08-31     1365.0         4.0    42583.0\n",
       "245  2020-09-01      996.0         6.0    54395.0\n",
       "246  2020-09-02      975.0         8.0        NaN\n",
       "247  2020-09-03     1326.0         6.0        NaN\n",
       "\n",
       "[248 rows x 4 columns]"
      ]
     },
     "execution_count": 18,
     "metadata": {},
     "output_type": "execute_result"
    }
   ],
   "source": [
    "covid_df"
   ]
  },
  {
   "cell_type": "code",
   "execution_count": 19,
   "id": "02574b6d",
   "metadata": {
    "execution": {
     "iopub.execute_input": "2025-01-31T19:10:10.980905Z",
     "iopub.status.busy": "2025-01-31T19:10:10.980562Z",
     "iopub.status.idle": "2025-01-31T19:10:10.986793Z",
     "shell.execute_reply": "2025-01-31T19:10:10.985991Z"
    },
    "papermill": {
     "duration": 0.023658,
     "end_time": "2025-01-31T19:10:10.988164",
     "exception": false,
     "start_time": "2025-01-31T19:10:10.964506",
     "status": "completed"
    },
    "tags": []
   },
   "outputs": [
    {
     "data": {
      "text/plain": [
       "date          2020-09-01\n",
       "new_cases          996.0\n",
       "new_deaths           6.0\n",
       "new_tests        54395.0\n",
       "Name: 245, dtype: object"
      ]
     },
     "execution_count": 19,
     "metadata": {},
     "output_type": "execute_result"
    }
   ],
   "source": [
    "covid_df.loc[245]"
   ]
  },
  {
   "cell_type": "code",
   "execution_count": 20,
   "id": "f0703bd1",
   "metadata": {
    "execution": {
     "iopub.execute_input": "2025-01-31T19:10:11.023788Z",
     "iopub.status.busy": "2025-01-31T19:10:11.023499Z",
     "iopub.status.idle": "2025-01-31T19:10:11.028968Z",
     "shell.execute_reply": "2025-01-31T19:10:11.028318Z"
    },
    "papermill": {
     "duration": 0.026064,
     "end_time": "2025-01-31T19:10:11.030932",
     "exception": false,
     "start_time": "2025-01-31T19:10:11.004868",
     "status": "completed"
    },
    "tags": []
   },
   "outputs": [
    {
     "data": {
      "text/plain": [
       "pandas.core.series.Series"
      ]
     },
     "execution_count": 20,
     "metadata": {},
     "output_type": "execute_result"
    }
   ],
   "source": [
    "type(covid_df.loc[245]) #Each row that is retrieved is also a Series Object"
   ]
  },
  {
   "cell_type": "markdown",
   "id": "f928bd21",
   "metadata": {
    "papermill": {
     "duration": 0.015932,
     "end_time": "2025-01-31T19:10:11.063624",
     "exception": false,
     "start_time": "2025-01-31T19:10:11.047692",
     "status": "completed"
    },
    "tags": []
   },
   "source": [
    "**.head(no.of values to be represented) and .tail(no.of values to be represented) denotes the first and last few values of the dataframe**"
   ]
  },
  {
   "cell_type": "code",
   "execution_count": 21,
   "id": "841cf0b7",
   "metadata": {
    "execution": {
     "iopub.execute_input": "2025-01-31T19:10:11.097646Z",
     "iopub.status.busy": "2025-01-31T19:10:11.097342Z",
     "iopub.status.idle": "2025-01-31T19:10:11.106919Z",
     "shell.execute_reply": "2025-01-31T19:10:11.105869Z"
    },
    "papermill": {
     "duration": 0.029208,
     "end_time": "2025-01-31T19:10:11.109151",
     "exception": false,
     "start_time": "2025-01-31T19:10:11.079943",
     "status": "completed"
    },
    "tags": []
   },
   "outputs": [
    {
     "data": {
      "text/html": [
       "<div>\n",
       "<style scoped>\n",
       "    .dataframe tbody tr th:only-of-type {\n",
       "        vertical-align: middle;\n",
       "    }\n",
       "\n",
       "    .dataframe tbody tr th {\n",
       "        vertical-align: top;\n",
       "    }\n",
       "\n",
       "    .dataframe thead th {\n",
       "        text-align: right;\n",
       "    }\n",
       "</style>\n",
       "<table border=\"1\" class=\"dataframe\">\n",
       "  <thead>\n",
       "    <tr style=\"text-align: right;\">\n",
       "      <th></th>\n",
       "      <th>date</th>\n",
       "      <th>new_cases</th>\n",
       "      <th>new_deaths</th>\n",
       "      <th>new_tests</th>\n",
       "    </tr>\n",
       "  </thead>\n",
       "  <tbody>\n",
       "    <tr>\n",
       "      <th>0</th>\n",
       "      <td>2019-12-31</td>\n",
       "      <td>0.0</td>\n",
       "      <td>0.0</td>\n",
       "      <td>NaN</td>\n",
       "    </tr>\n",
       "    <tr>\n",
       "      <th>1</th>\n",
       "      <td>2020-01-01</td>\n",
       "      <td>0.0</td>\n",
       "      <td>0.0</td>\n",
       "      <td>NaN</td>\n",
       "    </tr>\n",
       "    <tr>\n",
       "      <th>2</th>\n",
       "      <td>2020-01-02</td>\n",
       "      <td>0.0</td>\n",
       "      <td>0.0</td>\n",
       "      <td>NaN</td>\n",
       "    </tr>\n",
       "    <tr>\n",
       "      <th>3</th>\n",
       "      <td>2020-01-03</td>\n",
       "      <td>0.0</td>\n",
       "      <td>0.0</td>\n",
       "      <td>NaN</td>\n",
       "    </tr>\n",
       "  </tbody>\n",
       "</table>\n",
       "</div>"
      ],
      "text/plain": [
       "         date  new_cases  new_deaths  new_tests\n",
       "0  2019-12-31        0.0         0.0        NaN\n",
       "1  2020-01-01        0.0         0.0        NaN\n",
       "2  2020-01-02        0.0         0.0        NaN\n",
       "3  2020-01-03        0.0         0.0        NaN"
      ]
     },
     "execution_count": 21,
     "metadata": {},
     "output_type": "execute_result"
    }
   ],
   "source": [
    "covid_df.head(4)"
   ]
  },
  {
   "cell_type": "code",
   "execution_count": 22,
   "id": "4e7db14a",
   "metadata": {
    "execution": {
     "iopub.execute_input": "2025-01-31T19:10:11.143800Z",
     "iopub.status.busy": "2025-01-31T19:10:11.143502Z",
     "iopub.status.idle": "2025-01-31T19:10:11.153079Z",
     "shell.execute_reply": "2025-01-31T19:10:11.152078Z"
    },
    "papermill": {
     "duration": 0.029566,
     "end_time": "2025-01-31T19:10:11.155050",
     "exception": false,
     "start_time": "2025-01-31T19:10:11.125484",
     "status": "completed"
    },
    "tags": []
   },
   "outputs": [
    {
     "data": {
      "text/html": [
       "<div>\n",
       "<style scoped>\n",
       "    .dataframe tbody tr th:only-of-type {\n",
       "        vertical-align: middle;\n",
       "    }\n",
       "\n",
       "    .dataframe tbody tr th {\n",
       "        vertical-align: top;\n",
       "    }\n",
       "\n",
       "    .dataframe thead th {\n",
       "        text-align: right;\n",
       "    }\n",
       "</style>\n",
       "<table border=\"1\" class=\"dataframe\">\n",
       "  <thead>\n",
       "    <tr style=\"text-align: right;\">\n",
       "      <th></th>\n",
       "      <th>date</th>\n",
       "      <th>new_cases</th>\n",
       "      <th>new_deaths</th>\n",
       "      <th>new_tests</th>\n",
       "    </tr>\n",
       "  </thead>\n",
       "  <tbody>\n",
       "    <tr>\n",
       "      <th>242</th>\n",
       "      <td>2020-08-29</td>\n",
       "      <td>1460.0</td>\n",
       "      <td>9.0</td>\n",
       "      <td>64294.0</td>\n",
       "    </tr>\n",
       "    <tr>\n",
       "      <th>243</th>\n",
       "      <td>2020-08-30</td>\n",
       "      <td>1444.0</td>\n",
       "      <td>1.0</td>\n",
       "      <td>53541.0</td>\n",
       "    </tr>\n",
       "    <tr>\n",
       "      <th>244</th>\n",
       "      <td>2020-08-31</td>\n",
       "      <td>1365.0</td>\n",
       "      <td>4.0</td>\n",
       "      <td>42583.0</td>\n",
       "    </tr>\n",
       "    <tr>\n",
       "      <th>245</th>\n",
       "      <td>2020-09-01</td>\n",
       "      <td>996.0</td>\n",
       "      <td>6.0</td>\n",
       "      <td>54395.0</td>\n",
       "    </tr>\n",
       "    <tr>\n",
       "      <th>246</th>\n",
       "      <td>2020-09-02</td>\n",
       "      <td>975.0</td>\n",
       "      <td>8.0</td>\n",
       "      <td>NaN</td>\n",
       "    </tr>\n",
       "    <tr>\n",
       "      <th>247</th>\n",
       "      <td>2020-09-03</td>\n",
       "      <td>1326.0</td>\n",
       "      <td>6.0</td>\n",
       "      <td>NaN</td>\n",
       "    </tr>\n",
       "  </tbody>\n",
       "</table>\n",
       "</div>"
      ],
      "text/plain": [
       "           date  new_cases  new_deaths  new_tests\n",
       "242  2020-08-29     1460.0         9.0    64294.0\n",
       "243  2020-08-30     1444.0         1.0    53541.0\n",
       "244  2020-08-31     1365.0         4.0    42583.0\n",
       "245  2020-09-01      996.0         6.0    54395.0\n",
       "246  2020-09-02      975.0         8.0        NaN\n",
       "247  2020-09-03     1326.0         6.0        NaN"
      ]
     },
     "execution_count": 22,
     "metadata": {},
     "output_type": "execute_result"
    }
   ],
   "source": [
    "covid_df.tail(6)"
   ]
  },
  {
   "cell_type": "markdown",
   "id": "867b4fae",
   "metadata": {
    "papermill": {
     "duration": 0.015934,
     "end_time": "2025-01-31T19:10:11.187349",
     "exception": false,
     "start_time": "2025-01-31T19:10:11.171415",
     "status": "completed"
    },
    "tags": []
   },
   "source": [
    "**In the initial column of new_test naN is present. Meaning, these values will be either missing or unknown**"
   ]
  },
  {
   "cell_type": "code",
   "execution_count": 23,
   "id": "d5a31a2c",
   "metadata": {
    "execution": {
     "iopub.execute_input": "2025-01-31T19:10:11.221651Z",
     "iopub.status.busy": "2025-01-31T19:10:11.221359Z",
     "iopub.status.idle": "2025-01-31T19:10:11.227556Z",
     "shell.execute_reply": "2025-01-31T19:10:11.226382Z"
    },
    "papermill": {
     "duration": 0.025593,
     "end_time": "2025-01-31T19:10:11.229621",
     "exception": false,
     "start_time": "2025-01-31T19:10:11.204028",
     "status": "completed"
    },
    "tags": []
   },
   "outputs": [
    {
     "data": {
      "text/plain": [
       "nan"
      ]
     },
     "execution_count": 23,
     "metadata": {},
     "output_type": "execute_result"
    }
   ],
   "source": [
    "covid_df.at[0, 'new_tests']"
   ]
  },
  {
   "cell_type": "code",
   "execution_count": 24,
   "id": "b661a666",
   "metadata": {
    "execution": {
     "iopub.execute_input": "2025-01-31T19:10:11.264647Z",
     "iopub.status.busy": "2025-01-31T19:10:11.264361Z",
     "iopub.status.idle": "2025-01-31T19:10:11.270111Z",
     "shell.execute_reply": "2025-01-31T19:10:11.269386Z"
    },
    "papermill": {
     "duration": 0.02498,
     "end_time": "2025-01-31T19:10:11.271601",
     "exception": false,
     "start_time": "2025-01-31T19:10:11.246621",
     "status": "completed"
    },
    "tags": []
   },
   "outputs": [
    {
     "data": {
      "text/plain": [
       "numpy.float64"
      ]
     },
     "execution_count": 24,
     "metadata": {},
     "output_type": "execute_result"
    }
   ],
   "source": [
    "type(covid_df.at[0, 'new_tests']) #Eventhough, their values are missing the data type will still remain to be float"
   ]
  },
  {
   "cell_type": "markdown",
   "id": "18312f17",
   "metadata": {
    "papermill": {
     "duration": 0.016416,
     "end_time": "2025-01-31T19:10:11.304846",
     "exception": false,
     "start_time": "2025-01-31T19:10:11.288430",
     "status": "completed"
    },
    "tags": []
   },
   "source": [
    "**The distinction between 0 and NaN is subtle but important. In this dataset, it represents that daily test numbers were not reported on specific dates.**\n",
    "\n",
    "We can find the first index that doesn't contain a NaN value using a column's **first_valid_index method().**"
   ]
  },
  {
   "cell_type": "code",
   "execution_count": 25,
   "id": "9c33a229",
   "metadata": {
    "execution": {
     "iopub.execute_input": "2025-01-31T19:10:11.340817Z",
     "iopub.status.busy": "2025-01-31T19:10:11.339882Z",
     "iopub.status.idle": "2025-01-31T19:10:11.345723Z",
     "shell.execute_reply": "2025-01-31T19:10:11.344661Z"
    },
    "papermill": {
     "duration": 0.026635,
     "end_time": "2025-01-31T19:10:11.347788",
     "exception": false,
     "start_time": "2025-01-31T19:10:11.321153",
     "status": "completed"
    },
    "tags": []
   },
   "outputs": [
    {
     "data": {
      "text/plain": [
       "111"
      ]
     },
     "execution_count": 25,
     "metadata": {},
     "output_type": "execute_result"
    }
   ],
   "source": [
    "covid_df.new_tests.first_valid_index() "
   ]
  },
  {
   "cell_type": "markdown",
   "id": "23c6e7c8",
   "metadata": {
    "papermill": {
     "duration": 0.015812,
     "end_time": "2025-01-31T19:10:11.380214",
     "exception": false,
     "start_time": "2025-01-31T19:10:11.364402",
     "status": "completed"
    },
    "tags": []
   },
   "source": [
    "**To make a particular sub data frame(table) from the given data fram, this can be done**"
   ]
  },
  {
   "cell_type": "code",
   "execution_count": 26,
   "id": "9ed7bce6",
   "metadata": {
    "execution": {
     "iopub.execute_input": "2025-01-31T19:10:11.414612Z",
     "iopub.status.busy": "2025-01-31T19:10:11.414247Z",
     "iopub.status.idle": "2025-01-31T19:10:11.424017Z",
     "shell.execute_reply": "2025-01-31T19:10:11.423048Z"
    },
    "papermill": {
     "duration": 0.029579,
     "end_time": "2025-01-31T19:10:11.426067",
     "exception": false,
     "start_time": "2025-01-31T19:10:11.396488",
     "status": "completed"
    },
    "tags": []
   },
   "outputs": [
    {
     "data": {
      "text/html": [
       "<div>\n",
       "<style scoped>\n",
       "    .dataframe tbody tr th:only-of-type {\n",
       "        vertical-align: middle;\n",
       "    }\n",
       "\n",
       "    .dataframe tbody tr th {\n",
       "        vertical-align: top;\n",
       "    }\n",
       "\n",
       "    .dataframe thead th {\n",
       "        text-align: right;\n",
       "    }\n",
       "</style>\n",
       "<table border=\"1\" class=\"dataframe\">\n",
       "  <thead>\n",
       "    <tr style=\"text-align: right;\">\n",
       "      <th></th>\n",
       "      <th>date</th>\n",
       "      <th>new_cases</th>\n",
       "      <th>new_deaths</th>\n",
       "      <th>new_tests</th>\n",
       "    </tr>\n",
       "  </thead>\n",
       "  <tbody>\n",
       "    <tr>\n",
       "      <th>108</th>\n",
       "      <td>2020-04-17</td>\n",
       "      <td>3786.0</td>\n",
       "      <td>525.0</td>\n",
       "      <td>NaN</td>\n",
       "    </tr>\n",
       "    <tr>\n",
       "      <th>109</th>\n",
       "      <td>2020-04-18</td>\n",
       "      <td>3493.0</td>\n",
       "      <td>575.0</td>\n",
       "      <td>NaN</td>\n",
       "    </tr>\n",
       "    <tr>\n",
       "      <th>110</th>\n",
       "      <td>2020-04-19</td>\n",
       "      <td>3491.0</td>\n",
       "      <td>480.0</td>\n",
       "      <td>NaN</td>\n",
       "    </tr>\n",
       "    <tr>\n",
       "      <th>111</th>\n",
       "      <td>2020-04-20</td>\n",
       "      <td>3047.0</td>\n",
       "      <td>433.0</td>\n",
       "      <td>7841.0</td>\n",
       "    </tr>\n",
       "    <tr>\n",
       "      <th>112</th>\n",
       "      <td>2020-04-21</td>\n",
       "      <td>2256.0</td>\n",
       "      <td>454.0</td>\n",
       "      <td>28095.0</td>\n",
       "    </tr>\n",
       "    <tr>\n",
       "      <th>113</th>\n",
       "      <td>2020-04-22</td>\n",
       "      <td>2729.0</td>\n",
       "      <td>534.0</td>\n",
       "      <td>44248.0</td>\n",
       "    </tr>\n",
       "  </tbody>\n",
       "</table>\n",
       "</div>"
      ],
      "text/plain": [
       "           date  new_cases  new_deaths  new_tests\n",
       "108  2020-04-17     3786.0       525.0        NaN\n",
       "109  2020-04-18     3493.0       575.0        NaN\n",
       "110  2020-04-19     3491.0       480.0        NaN\n",
       "111  2020-04-20     3047.0       433.0     7841.0\n",
       "112  2020-04-21     2256.0       454.0    28095.0\n",
       "113  2020-04-22     2729.0       534.0    44248.0"
      ]
     },
     "execution_count": 26,
     "metadata": {},
     "output_type": "execute_result"
    }
   ],
   "source": [
    "covid_df.loc[108:113]"
   ]
  },
  {
   "cell_type": "markdown",
   "id": "c8cb8b1f",
   "metadata": {
    "papermill": {
     "duration": 0.016134,
     "end_time": "2025-01-31T19:10:11.459299",
     "exception": false,
     "start_time": "2025-01-31T19:10:11.443165",
     "status": "completed"
    },
    "tags": []
   },
   "source": [
    "**.sample method is used to generate a random sample set of values**"
   ]
  },
  {
   "cell_type": "code",
   "execution_count": 27,
   "id": "c009cca5",
   "metadata": {
    "execution": {
     "iopub.execute_input": "2025-01-31T19:10:11.493995Z",
     "iopub.status.busy": "2025-01-31T19:10:11.493746Z",
     "iopub.status.idle": "2025-01-31T19:10:11.505753Z",
     "shell.execute_reply": "2025-01-31T19:10:11.504706Z"
    },
    "papermill": {
     "duration": 0.031375,
     "end_time": "2025-01-31T19:10:11.507391",
     "exception": false,
     "start_time": "2025-01-31T19:10:11.476016",
     "status": "completed"
    },
    "tags": []
   },
   "outputs": [
    {
     "data": {
      "text/html": [
       "<div>\n",
       "<style scoped>\n",
       "    .dataframe tbody tr th:only-of-type {\n",
       "        vertical-align: middle;\n",
       "    }\n",
       "\n",
       "    .dataframe tbody tr th {\n",
       "        vertical-align: top;\n",
       "    }\n",
       "\n",
       "    .dataframe thead th {\n",
       "        text-align: right;\n",
       "    }\n",
       "</style>\n",
       "<table border=\"1\" class=\"dataframe\">\n",
       "  <thead>\n",
       "    <tr style=\"text-align: right;\">\n",
       "      <th></th>\n",
       "      <th>date</th>\n",
       "      <th>new_cases</th>\n",
       "      <th>new_deaths</th>\n",
       "      <th>new_tests</th>\n",
       "    </tr>\n",
       "  </thead>\n",
       "  <tbody>\n",
       "    <tr>\n",
       "      <th>147</th>\n",
       "      <td>2020-05-26</td>\n",
       "      <td>300.0</td>\n",
       "      <td>92.0</td>\n",
       "      <td>33944.0</td>\n",
       "    </tr>\n",
       "    <tr>\n",
       "      <th>23</th>\n",
       "      <td>2020-01-23</td>\n",
       "      <td>0.0</td>\n",
       "      <td>0.0</td>\n",
       "      <td>NaN</td>\n",
       "    </tr>\n",
       "    <tr>\n",
       "      <th>100</th>\n",
       "      <td>2020-04-09</td>\n",
       "      <td>3836.0</td>\n",
       "      <td>540.0</td>\n",
       "      <td>NaN</td>\n",
       "    </tr>\n",
       "    <tr>\n",
       "      <th>46</th>\n",
       "      <td>2020-02-15</td>\n",
       "      <td>0.0</td>\n",
       "      <td>0.0</td>\n",
       "      <td>NaN</td>\n",
       "    </tr>\n",
       "    <tr>\n",
       "      <th>199</th>\n",
       "      <td>2020-07-17</td>\n",
       "      <td>230.0</td>\n",
       "      <td>20.0</td>\n",
       "      <td>28661.0</td>\n",
       "    </tr>\n",
       "    <tr>\n",
       "      <th>226</th>\n",
       "      <td>2020-08-13</td>\n",
       "      <td>476.0</td>\n",
       "      <td>10.0</td>\n",
       "      <td>25629.0</td>\n",
       "    </tr>\n",
       "    <tr>\n",
       "      <th>12</th>\n",
       "      <td>2020-01-12</td>\n",
       "      <td>0.0</td>\n",
       "      <td>0.0</td>\n",
       "      <td>NaN</td>\n",
       "    </tr>\n",
       "    <tr>\n",
       "      <th>92</th>\n",
       "      <td>2020-04-01</td>\n",
       "      <td>4053.0</td>\n",
       "      <td>839.0</td>\n",
       "      <td>NaN</td>\n",
       "    </tr>\n",
       "    <tr>\n",
       "      <th>148</th>\n",
       "      <td>2020-05-27</td>\n",
       "      <td>397.0</td>\n",
       "      <td>78.0</td>\n",
       "      <td>37299.0</td>\n",
       "    </tr>\n",
       "    <tr>\n",
       "      <th>153</th>\n",
       "      <td>2020-06-01</td>\n",
       "      <td>355.0</td>\n",
       "      <td>75.0</td>\n",
       "      <td>18053.0</td>\n",
       "    </tr>\n",
       "  </tbody>\n",
       "</table>\n",
       "</div>"
      ],
      "text/plain": [
       "           date  new_cases  new_deaths  new_tests\n",
       "147  2020-05-26      300.0        92.0    33944.0\n",
       "23   2020-01-23        0.0         0.0        NaN\n",
       "100  2020-04-09     3836.0       540.0        NaN\n",
       "46   2020-02-15        0.0         0.0        NaN\n",
       "199  2020-07-17      230.0        20.0    28661.0\n",
       "226  2020-08-13      476.0        10.0    25629.0\n",
       "12   2020-01-12        0.0         0.0        NaN\n",
       "92   2020-04-01     4053.0       839.0        NaN\n",
       "148  2020-05-27      397.0        78.0    37299.0\n",
       "153  2020-06-01      355.0        75.0    18053.0"
      ]
     },
     "execution_count": 27,
     "metadata": {},
     "output_type": "execute_result"
    }
   ],
   "source": [
    "covid_df.sample(10)"
   ]
  },
  {
   "cell_type": "markdown",
   "id": "c7893af5",
   "metadata": {
    "papermill": {
     "duration": 0.016183,
     "end_time": "2025-01-31T19:10:11.540405",
     "exception": false,
     "start_time": "2025-01-31T19:10:11.524222",
     "status": "completed"
    },
    "tags": []
   },
   "source": [
    "**ANALYSING DATA FROM DATA FRAMES**"
   ]
  },
  {
   "cell_type": "code",
   "execution_count": 28,
   "id": "13099db0",
   "metadata": {
    "execution": {
     "iopub.execute_input": "2025-01-31T19:10:11.574157Z",
     "iopub.status.busy": "2025-01-31T19:10:11.573877Z",
     "iopub.status.idle": "2025-01-31T19:10:11.584365Z",
     "shell.execute_reply": "2025-01-31T19:10:11.583556Z"
    },
    "papermill": {
     "duration": 0.02914,
     "end_time": "2025-01-31T19:10:11.585753",
     "exception": false,
     "start_time": "2025-01-31T19:10:11.556613",
     "status": "completed"
    },
    "tags": []
   },
   "outputs": [
    {
     "data": {
      "text/html": [
       "<div>\n",
       "<style scoped>\n",
       "    .dataframe tbody tr th:only-of-type {\n",
       "        vertical-align: middle;\n",
       "    }\n",
       "\n",
       "    .dataframe tbody tr th {\n",
       "        vertical-align: top;\n",
       "    }\n",
       "\n",
       "    .dataframe thead th {\n",
       "        text-align: right;\n",
       "    }\n",
       "</style>\n",
       "<table border=\"1\" class=\"dataframe\">\n",
       "  <thead>\n",
       "    <tr style=\"text-align: right;\">\n",
       "      <th></th>\n",
       "      <th>date</th>\n",
       "      <th>new_cases</th>\n",
       "      <th>new_deaths</th>\n",
       "      <th>new_tests</th>\n",
       "    </tr>\n",
       "  </thead>\n",
       "  <tbody>\n",
       "    <tr>\n",
       "      <th>0</th>\n",
       "      <td>2019-12-31</td>\n",
       "      <td>0.0</td>\n",
       "      <td>0.0</td>\n",
       "      <td>NaN</td>\n",
       "    </tr>\n",
       "    <tr>\n",
       "      <th>1</th>\n",
       "      <td>2020-01-01</td>\n",
       "      <td>0.0</td>\n",
       "      <td>0.0</td>\n",
       "      <td>NaN</td>\n",
       "    </tr>\n",
       "    <tr>\n",
       "      <th>2</th>\n",
       "      <td>2020-01-02</td>\n",
       "      <td>0.0</td>\n",
       "      <td>0.0</td>\n",
       "      <td>NaN</td>\n",
       "    </tr>\n",
       "    <tr>\n",
       "      <th>3</th>\n",
       "      <td>2020-01-03</td>\n",
       "      <td>0.0</td>\n",
       "      <td>0.0</td>\n",
       "      <td>NaN</td>\n",
       "    </tr>\n",
       "    <tr>\n",
       "      <th>4</th>\n",
       "      <td>2020-01-04</td>\n",
       "      <td>0.0</td>\n",
       "      <td>0.0</td>\n",
       "      <td>NaN</td>\n",
       "    </tr>\n",
       "    <tr>\n",
       "      <th>...</th>\n",
       "      <td>...</td>\n",
       "      <td>...</td>\n",
       "      <td>...</td>\n",
       "      <td>...</td>\n",
       "    </tr>\n",
       "    <tr>\n",
       "      <th>243</th>\n",
       "      <td>2020-08-30</td>\n",
       "      <td>1444.0</td>\n",
       "      <td>1.0</td>\n",
       "      <td>53541.0</td>\n",
       "    </tr>\n",
       "    <tr>\n",
       "      <th>244</th>\n",
       "      <td>2020-08-31</td>\n",
       "      <td>1365.0</td>\n",
       "      <td>4.0</td>\n",
       "      <td>42583.0</td>\n",
       "    </tr>\n",
       "    <tr>\n",
       "      <th>245</th>\n",
       "      <td>2020-09-01</td>\n",
       "      <td>996.0</td>\n",
       "      <td>6.0</td>\n",
       "      <td>54395.0</td>\n",
       "    </tr>\n",
       "    <tr>\n",
       "      <th>246</th>\n",
       "      <td>2020-09-02</td>\n",
       "      <td>975.0</td>\n",
       "      <td>8.0</td>\n",
       "      <td>NaN</td>\n",
       "    </tr>\n",
       "    <tr>\n",
       "      <th>247</th>\n",
       "      <td>2020-09-03</td>\n",
       "      <td>1326.0</td>\n",
       "      <td>6.0</td>\n",
       "      <td>NaN</td>\n",
       "    </tr>\n",
       "  </tbody>\n",
       "</table>\n",
       "<p>248 rows × 4 columns</p>\n",
       "</div>"
      ],
      "text/plain": [
       "           date  new_cases  new_deaths  new_tests\n",
       "0    2019-12-31        0.0         0.0        NaN\n",
       "1    2020-01-01        0.0         0.0        NaN\n",
       "2    2020-01-02        0.0         0.0        NaN\n",
       "3    2020-01-03        0.0         0.0        NaN\n",
       "4    2020-01-04        0.0         0.0        NaN\n",
       "..          ...        ...         ...        ...\n",
       "243  2020-08-30     1444.0         1.0    53541.0\n",
       "244  2020-08-31     1365.0         4.0    42583.0\n",
       "245  2020-09-01      996.0         6.0    54395.0\n",
       "246  2020-09-02      975.0         8.0        NaN\n",
       "247  2020-09-03     1326.0         6.0        NaN\n",
       "\n",
       "[248 rows x 4 columns]"
      ]
     },
     "execution_count": 28,
     "metadata": {},
     "output_type": "execute_result"
    }
   ],
   "source": [
    "covid_df"
   ]
  },
  {
   "cell_type": "code",
   "execution_count": 29,
   "id": "9f41eef2",
   "metadata": {
    "execution": {
     "iopub.execute_input": "2025-01-31T19:10:11.620560Z",
     "iopub.status.busy": "2025-01-31T19:10:11.620229Z",
     "iopub.status.idle": "2025-01-31T19:10:11.625719Z",
     "shell.execute_reply": "2025-01-31T19:10:11.624648Z"
    },
    "papermill": {
     "duration": 0.024535,
     "end_time": "2025-01-31T19:10:11.627157",
     "exception": false,
     "start_time": "2025-01-31T19:10:11.602622",
     "status": "completed"
    },
    "tags": []
   },
   "outputs": [
    {
     "name": "stdout",
     "output_type": "stream",
     "text": [
      "The total number of reported cases is 271515 while the total number of reported deaths is 35497\n"
     ]
    }
   ],
   "source": [
    "#What are the total number of reported cases and deaths related to Covid-19 in Italy?\n",
    "total_cases = covid_df.new_cases.sum()\n",
    "\n",
    "total_deaths = covid_df.new_deaths.sum()\n",
    "\n",
    "print(\"The total number of reported cases is {} while the total number of reported deaths is {}\".format(int(total_cases), int(total_deaths)))"
   ]
  },
  {
   "cell_type": "code",
   "execution_count": 30,
   "id": "24ecfb0a",
   "metadata": {
    "execution": {
     "iopub.execute_input": "2025-01-31T19:10:11.664376Z",
     "iopub.status.busy": "2025-01-31T19:10:11.664071Z",
     "iopub.status.idle": "2025-01-31T19:10:11.669967Z",
     "shell.execute_reply": "2025-01-31T19:10:11.668845Z"
    },
    "papermill": {
     "duration": 0.027299,
     "end_time": "2025-01-31T19:10:11.671525",
     "exception": false,
     "start_time": "2025-01-31T19:10:11.644226",
     "status": "completed"
    },
    "tags": []
   },
   "outputs": [
    {
     "name": "stdout",
     "output_type": "stream",
     "text": [
      "The overall death rate in Italy is 13.07%\n",
      "The overall death rate in Italy is 0.13\n"
     ]
    }
   ],
   "source": [
    "# What is the overall death rate (ratio of reported deaths to reported cases)?\n",
    "death_rate = total_deaths/total_cases #Or\n",
    "death_rate = covid_df.new_deaths.sum()/covid_df.new_cases.sum()\n",
    "print(\"The overall death rate in Italy is {:.2f}%\".format(float(death_rate*100)))  #Rounds of to two decimal floating points\n",
    "#Or\n",
    "\n",
    "print(\"The overall death rate in Italy is {:.2f}\".format(float(death_rate)))"
   ]
  },
  {
   "cell_type": "code",
   "execution_count": 31,
   "id": "0ed29c15",
   "metadata": {
    "execution": {
     "iopub.execute_input": "2025-01-31T19:10:11.706587Z",
     "iopub.status.busy": "2025-01-31T19:10:11.706252Z",
     "iopub.status.idle": "2025-01-31T19:10:11.710758Z",
     "shell.execute_reply": "2025-01-31T19:10:11.710081Z"
    },
    "papermill": {
     "duration": 0.023909,
     "end_time": "2025-01-31T19:10:11.712340",
     "exception": false,
     "start_time": "2025-01-31T19:10:11.688431",
     "status": "completed"
    },
    "tags": []
   },
   "outputs": [
    {
     "name": "stdout",
     "output_type": "stream",
     "text": [
      "The overall number of tests conducted is 5214766\n"
     ]
    }
   ],
   "source": [
    "#What is the overall number of tests conducted? A total of 935310 tests were conducted before daily test numbers were reported.**\n",
    "tests_before_reported = 935310\n",
    "print(\"The overall number of tests conducted is {}\".format(int(tests_before_reported+covid_df.new_tests.sum())))"
   ]
  },
  {
   "cell_type": "code",
   "execution_count": 32,
   "id": "d4d2c483",
   "metadata": {
    "execution": {
     "iopub.execute_input": "2025-01-31T19:10:11.746599Z",
     "iopub.status.busy": "2025-01-31T19:10:11.746324Z",
     "iopub.status.idle": "2025-01-31T19:10:11.751243Z",
     "shell.execute_reply": "2025-01-31T19:10:11.750188Z"
    },
    "papermill": {
     "duration": 0.023977,
     "end_time": "2025-01-31T19:10:11.753128",
     "exception": false,
     "start_time": "2025-01-31T19:10:11.729151",
     "status": "completed"
    },
    "tags": []
   },
   "outputs": [
    {
     "name": "stdout",
     "output_type": "stream",
     "text": [
      "5.21% is the fraction of tests with positive results\n"
     ]
    }
   ],
   "source": [
    "#What fraction of tests returned a positive result?\n",
    "total_tests = tests_before_reported+covid_df.new_tests.sum()\n",
    "positive_result = total_cases/total_tests\n",
    "print(\"{:.2f}% is the fraction of tests with positive results\".format(float(positive_result*100)) )"
   ]
  },
  {
   "cell_type": "markdown",
   "id": "84c8a142",
   "metadata": {
    "papermill": {
     "duration": 0.018259,
     "end_time": "2025-01-31T19:10:11.789641",
     "exception": false,
     "start_time": "2025-01-31T19:10:11.771382",
     "status": "completed"
    },
    "tags": []
   },
   "source": [
    "**QUERYING AND SORTING ROWS**\n",
    "\n",
    "To know about the days where the number of new cases is more than 1000, we can use boolean expressions"
   ]
  },
  {
   "cell_type": "code",
   "execution_count": 33,
   "id": "d4b46c48",
   "metadata": {
    "execution": {
     "iopub.execute_input": "2025-01-31T19:10:11.826338Z",
     "iopub.status.busy": "2025-01-31T19:10:11.826041Z",
     "iopub.status.idle": "2025-01-31T19:10:11.833005Z",
     "shell.execute_reply": "2025-01-31T19:10:11.831927Z"
    },
    "papermill": {
     "duration": 0.027479,
     "end_time": "2025-01-31T19:10:11.834912",
     "exception": false,
     "start_time": "2025-01-31T19:10:11.807433",
     "status": "completed"
    },
    "tags": []
   },
   "outputs": [
    {
     "data": {
      "text/plain": [
       "0      False\n",
       "1      False\n",
       "2      False\n",
       "3      False\n",
       "4      False\n",
       "       ...  \n",
       "243     True\n",
       "244     True\n",
       "245    False\n",
       "246    False\n",
       "247     True\n",
       "Name: new_cases, Length: 248, dtype: bool"
      ]
     },
     "execution_count": 33,
     "metadata": {},
     "output_type": "execute_result"
    }
   ],
   "source": [
    "high_new_cases = covid_df['new_cases'] > 1000\n",
    "high_new_cases #This returns a SERIES of boolean expressions -> True and False"
   ]
  },
  {
   "cell_type": "markdown",
   "id": "fa4f88c9",
   "metadata": {
    "papermill": {
     "duration": 0.01632,
     "end_time": "2025-01-31T19:10:11.868309",
     "exception": false,
     "start_time": "2025-01-31T19:10:11.851989",
     "status": "completed"
    },
    "tags": []
   },
   "source": [
    "**We can use the above SERIES to make a row subset of the original dataframe of the values which are TRUE**"
   ]
  },
  {
   "cell_type": "code",
   "execution_count": 34,
   "id": "2a58739d",
   "metadata": {
    "execution": {
     "iopub.execute_input": "2025-01-31T19:10:11.903494Z",
     "iopub.status.busy": "2025-01-31T19:10:11.903178Z",
     "iopub.status.idle": "2025-01-31T19:10:11.914592Z",
     "shell.execute_reply": "2025-01-31T19:10:11.913547Z"
    },
    "papermill": {
     "duration": 0.031628,
     "end_time": "2025-01-31T19:10:11.916592",
     "exception": false,
     "start_time": "2025-01-31T19:10:11.884964",
     "status": "completed"
    },
    "tags": []
   },
   "outputs": [
    {
     "data": {
      "text/html": [
       "<div>\n",
       "<style scoped>\n",
       "    .dataframe tbody tr th:only-of-type {\n",
       "        vertical-align: middle;\n",
       "    }\n",
       "\n",
       "    .dataframe tbody tr th {\n",
       "        vertical-align: top;\n",
       "    }\n",
       "\n",
       "    .dataframe thead th {\n",
       "        text-align: right;\n",
       "    }\n",
       "</style>\n",
       "<table border=\"1\" class=\"dataframe\">\n",
       "  <thead>\n",
       "    <tr style=\"text-align: right;\">\n",
       "      <th></th>\n",
       "      <th>date</th>\n",
       "      <th>new_cases</th>\n",
       "      <th>new_deaths</th>\n",
       "      <th>new_tests</th>\n",
       "    </tr>\n",
       "  </thead>\n",
       "  <tbody>\n",
       "    <tr>\n",
       "      <th>68</th>\n",
       "      <td>2020-03-08</td>\n",
       "      <td>1247.0</td>\n",
       "      <td>36.0</td>\n",
       "      <td>NaN</td>\n",
       "    </tr>\n",
       "    <tr>\n",
       "      <th>69</th>\n",
       "      <td>2020-03-09</td>\n",
       "      <td>1492.0</td>\n",
       "      <td>133.0</td>\n",
       "      <td>NaN</td>\n",
       "    </tr>\n",
       "    <tr>\n",
       "      <th>70</th>\n",
       "      <td>2020-03-10</td>\n",
       "      <td>1797.0</td>\n",
       "      <td>98.0</td>\n",
       "      <td>NaN</td>\n",
       "    </tr>\n",
       "    <tr>\n",
       "      <th>72</th>\n",
       "      <td>2020-03-12</td>\n",
       "      <td>2313.0</td>\n",
       "      <td>196.0</td>\n",
       "      <td>NaN</td>\n",
       "    </tr>\n",
       "    <tr>\n",
       "      <th>73</th>\n",
       "      <td>2020-03-13</td>\n",
       "      <td>2651.0</td>\n",
       "      <td>189.0</td>\n",
       "      <td>NaN</td>\n",
       "    </tr>\n",
       "    <tr>\n",
       "      <th>...</th>\n",
       "      <td>...</td>\n",
       "      <td>...</td>\n",
       "      <td>...</td>\n",
       "      <td>...</td>\n",
       "    </tr>\n",
       "    <tr>\n",
       "      <th>241</th>\n",
       "      <td>2020-08-28</td>\n",
       "      <td>1409.0</td>\n",
       "      <td>5.0</td>\n",
       "      <td>65135.0</td>\n",
       "    </tr>\n",
       "    <tr>\n",
       "      <th>242</th>\n",
       "      <td>2020-08-29</td>\n",
       "      <td>1460.0</td>\n",
       "      <td>9.0</td>\n",
       "      <td>64294.0</td>\n",
       "    </tr>\n",
       "    <tr>\n",
       "      <th>243</th>\n",
       "      <td>2020-08-30</td>\n",
       "      <td>1444.0</td>\n",
       "      <td>1.0</td>\n",
       "      <td>53541.0</td>\n",
       "    </tr>\n",
       "    <tr>\n",
       "      <th>244</th>\n",
       "      <td>2020-08-31</td>\n",
       "      <td>1365.0</td>\n",
       "      <td>4.0</td>\n",
       "      <td>42583.0</td>\n",
       "    </tr>\n",
       "    <tr>\n",
       "      <th>247</th>\n",
       "      <td>2020-09-03</td>\n",
       "      <td>1326.0</td>\n",
       "      <td>6.0</td>\n",
       "      <td>NaN</td>\n",
       "    </tr>\n",
       "  </tbody>\n",
       "</table>\n",
       "<p>72 rows × 4 columns</p>\n",
       "</div>"
      ],
      "text/plain": [
       "           date  new_cases  new_deaths  new_tests\n",
       "68   2020-03-08     1247.0        36.0        NaN\n",
       "69   2020-03-09     1492.0       133.0        NaN\n",
       "70   2020-03-10     1797.0        98.0        NaN\n",
       "72   2020-03-12     2313.0       196.0        NaN\n",
       "73   2020-03-13     2651.0       189.0        NaN\n",
       "..          ...        ...         ...        ...\n",
       "241  2020-08-28     1409.0         5.0    65135.0\n",
       "242  2020-08-29     1460.0         9.0    64294.0\n",
       "243  2020-08-30     1444.0         1.0    53541.0\n",
       "244  2020-08-31     1365.0         4.0    42583.0\n",
       "247  2020-09-03     1326.0         6.0        NaN\n",
       "\n",
       "[72 rows x 4 columns]"
      ]
     },
     "execution_count": 34,
     "metadata": {},
     "output_type": "execute_result"
    }
   ],
   "source": [
    "covid_df[high_new_cases]"
   ]
  },
  {
   "cell_type": "code",
   "execution_count": 35,
   "id": "78390485",
   "metadata": {
    "execution": {
     "iopub.execute_input": "2025-01-31T19:10:11.952574Z",
     "iopub.status.busy": "2025-01-31T19:10:11.952308Z",
     "iopub.status.idle": "2025-01-31T19:10:11.962546Z",
     "shell.execute_reply": "2025-01-31T19:10:11.961734Z"
    },
    "papermill": {
     "duration": 0.030302,
     "end_time": "2025-01-31T19:10:11.964255",
     "exception": false,
     "start_time": "2025-01-31T19:10:11.933953",
     "status": "completed"
    },
    "tags": []
   },
   "outputs": [
    {
     "data": {
      "text/html": [
       "<div>\n",
       "<style scoped>\n",
       "    .dataframe tbody tr th:only-of-type {\n",
       "        vertical-align: middle;\n",
       "    }\n",
       "\n",
       "    .dataframe tbody tr th {\n",
       "        vertical-align: top;\n",
       "    }\n",
       "\n",
       "    .dataframe thead th {\n",
       "        text-align: right;\n",
       "    }\n",
       "</style>\n",
       "<table border=\"1\" class=\"dataframe\">\n",
       "  <thead>\n",
       "    <tr style=\"text-align: right;\">\n",
       "      <th></th>\n",
       "      <th>date</th>\n",
       "      <th>new_cases</th>\n",
       "      <th>new_deaths</th>\n",
       "      <th>new_tests</th>\n",
       "    </tr>\n",
       "  </thead>\n",
       "  <tbody>\n",
       "    <tr>\n",
       "      <th>68</th>\n",
       "      <td>2020-03-08</td>\n",
       "      <td>1247.0</td>\n",
       "      <td>36.0</td>\n",
       "      <td>NaN</td>\n",
       "    </tr>\n",
       "    <tr>\n",
       "      <th>69</th>\n",
       "      <td>2020-03-09</td>\n",
       "      <td>1492.0</td>\n",
       "      <td>133.0</td>\n",
       "      <td>NaN</td>\n",
       "    </tr>\n",
       "    <tr>\n",
       "      <th>70</th>\n",
       "      <td>2020-03-10</td>\n",
       "      <td>1797.0</td>\n",
       "      <td>98.0</td>\n",
       "      <td>NaN</td>\n",
       "    </tr>\n",
       "    <tr>\n",
       "      <th>72</th>\n",
       "      <td>2020-03-12</td>\n",
       "      <td>2313.0</td>\n",
       "      <td>196.0</td>\n",
       "      <td>NaN</td>\n",
       "    </tr>\n",
       "    <tr>\n",
       "      <th>73</th>\n",
       "      <td>2020-03-13</td>\n",
       "      <td>2651.0</td>\n",
       "      <td>189.0</td>\n",
       "      <td>NaN</td>\n",
       "    </tr>\n",
       "    <tr>\n",
       "      <th>...</th>\n",
       "      <td>...</td>\n",
       "      <td>...</td>\n",
       "      <td>...</td>\n",
       "      <td>...</td>\n",
       "    </tr>\n",
       "    <tr>\n",
       "      <th>241</th>\n",
       "      <td>2020-08-28</td>\n",
       "      <td>1409.0</td>\n",
       "      <td>5.0</td>\n",
       "      <td>65135.0</td>\n",
       "    </tr>\n",
       "    <tr>\n",
       "      <th>242</th>\n",
       "      <td>2020-08-29</td>\n",
       "      <td>1460.0</td>\n",
       "      <td>9.0</td>\n",
       "      <td>64294.0</td>\n",
       "    </tr>\n",
       "    <tr>\n",
       "      <th>243</th>\n",
       "      <td>2020-08-30</td>\n",
       "      <td>1444.0</td>\n",
       "      <td>1.0</td>\n",
       "      <td>53541.0</td>\n",
       "    </tr>\n",
       "    <tr>\n",
       "      <th>244</th>\n",
       "      <td>2020-08-31</td>\n",
       "      <td>1365.0</td>\n",
       "      <td>4.0</td>\n",
       "      <td>42583.0</td>\n",
       "    </tr>\n",
       "    <tr>\n",
       "      <th>247</th>\n",
       "      <td>2020-09-03</td>\n",
       "      <td>1326.0</td>\n",
       "      <td>6.0</td>\n",
       "      <td>NaN</td>\n",
       "    </tr>\n",
       "  </tbody>\n",
       "</table>\n",
       "<p>72 rows × 4 columns</p>\n",
       "</div>"
      ],
      "text/plain": [
       "           date  new_cases  new_deaths  new_tests\n",
       "68   2020-03-08     1247.0        36.0        NaN\n",
       "69   2020-03-09     1492.0       133.0        NaN\n",
       "70   2020-03-10     1797.0        98.0        NaN\n",
       "72   2020-03-12     2313.0       196.0        NaN\n",
       "73   2020-03-13     2651.0       189.0        NaN\n",
       "..          ...        ...         ...        ...\n",
       "241  2020-08-28     1409.0         5.0    65135.0\n",
       "242  2020-08-29     1460.0         9.0    64294.0\n",
       "243  2020-08-30     1444.0         1.0    53541.0\n",
       "244  2020-08-31     1365.0         4.0    42583.0\n",
       "247  2020-09-03     1326.0         6.0        NaN\n",
       "\n",
       "[72 rows x 4 columns]"
      ]
     },
     "execution_count": 35,
     "metadata": {},
     "output_type": "execute_result"
    }
   ],
   "source": [
    "#To write the above code in a simpler form\n",
    "high_new_case = covid_df[covid_df.new_cases > 1000]\n",
    "high_new_case"
   ]
  },
  {
   "cell_type": "code",
   "execution_count": 36,
   "id": "822d1a38",
   "metadata": {
    "execution": {
     "iopub.execute_input": "2025-01-31T19:10:12.001809Z",
     "iopub.status.busy": "2025-01-31T19:10:12.001531Z",
     "iopub.status.idle": "2025-01-31T19:10:12.006851Z",
     "shell.execute_reply": "2025-01-31T19:10:12.006077Z"
    },
    "papermill": {
     "duration": 0.026053,
     "end_time": "2025-01-31T19:10:12.008290",
     "exception": false,
     "start_time": "2025-01-31T19:10:11.982237",
     "status": "completed"
    },
    "tags": []
   },
   "outputs": [
    {
     "data": {
      "text/plain": [
       "(72, 4)"
      ]
     },
     "execution_count": 36,
     "metadata": {},
     "output_type": "execute_result"
    }
   ],
   "source": [
    "high_new_case.shape "
   ]
  },
  {
   "cell_type": "markdown",
   "id": "8798f236",
   "metadata": {
    "papermill": {
     "duration": 0.016677,
     "end_time": "2025-01-31T19:10:12.042812",
     "exception": false,
     "start_time": "2025-01-31T19:10:12.026135",
     "status": "completed"
    },
    "tags": []
   },
   "source": [
    "**This dataframe consists of 72 rows and 4 columns, but only the first and the last 5 datas are represented, to fix this we can do**"
   ]
  },
  {
   "cell_type": "code",
   "execution_count": 37,
   "id": "921d6152",
   "metadata": {
    "execution": {
     "iopub.execute_input": "2025-01-31T19:10:12.079062Z",
     "iopub.status.busy": "2025-01-31T19:10:12.078783Z",
     "iopub.status.idle": "2025-01-31T19:10:12.097279Z",
     "shell.execute_reply": "2025-01-31T19:10:12.096422Z"
    },
    "papermill": {
     "duration": 0.038433,
     "end_time": "2025-01-31T19:10:12.098867",
     "exception": false,
     "start_time": "2025-01-31T19:10:12.060434",
     "status": "completed"
    },
    "tags": []
   },
   "outputs": [
    {
     "data": {
      "text/html": [
       "<div>\n",
       "<style scoped>\n",
       "    .dataframe tbody tr th:only-of-type {\n",
       "        vertical-align: middle;\n",
       "    }\n",
       "\n",
       "    .dataframe tbody tr th {\n",
       "        vertical-align: top;\n",
       "    }\n",
       "\n",
       "    .dataframe thead th {\n",
       "        text-align: right;\n",
       "    }\n",
       "</style>\n",
       "<table border=\"1\" class=\"dataframe\">\n",
       "  <thead>\n",
       "    <tr style=\"text-align: right;\">\n",
       "      <th></th>\n",
       "      <th>date</th>\n",
       "      <th>new_cases</th>\n",
       "      <th>new_deaths</th>\n",
       "      <th>new_tests</th>\n",
       "    </tr>\n",
       "  </thead>\n",
       "  <tbody>\n",
       "    <tr>\n",
       "      <th>68</th>\n",
       "      <td>2020-03-08</td>\n",
       "      <td>1247.0</td>\n",
       "      <td>36.0</td>\n",
       "      <td>NaN</td>\n",
       "    </tr>\n",
       "    <tr>\n",
       "      <th>69</th>\n",
       "      <td>2020-03-09</td>\n",
       "      <td>1492.0</td>\n",
       "      <td>133.0</td>\n",
       "      <td>NaN</td>\n",
       "    </tr>\n",
       "    <tr>\n",
       "      <th>70</th>\n",
       "      <td>2020-03-10</td>\n",
       "      <td>1797.0</td>\n",
       "      <td>98.0</td>\n",
       "      <td>NaN</td>\n",
       "    </tr>\n",
       "    <tr>\n",
       "      <th>72</th>\n",
       "      <td>2020-03-12</td>\n",
       "      <td>2313.0</td>\n",
       "      <td>196.0</td>\n",
       "      <td>NaN</td>\n",
       "    </tr>\n",
       "    <tr>\n",
       "      <th>73</th>\n",
       "      <td>2020-03-13</td>\n",
       "      <td>2651.0</td>\n",
       "      <td>189.0</td>\n",
       "      <td>NaN</td>\n",
       "    </tr>\n",
       "    <tr>\n",
       "      <th>74</th>\n",
       "      <td>2020-03-14</td>\n",
       "      <td>2547.0</td>\n",
       "      <td>252.0</td>\n",
       "      <td>NaN</td>\n",
       "    </tr>\n",
       "    <tr>\n",
       "      <th>75</th>\n",
       "      <td>2020-03-15</td>\n",
       "      <td>3497.0</td>\n",
       "      <td>173.0</td>\n",
       "      <td>NaN</td>\n",
       "    </tr>\n",
       "    <tr>\n",
       "      <th>76</th>\n",
       "      <td>2020-03-16</td>\n",
       "      <td>2823.0</td>\n",
       "      <td>370.0</td>\n",
       "      <td>NaN</td>\n",
       "    </tr>\n",
       "    <tr>\n",
       "      <th>77</th>\n",
       "      <td>2020-03-17</td>\n",
       "      <td>4000.0</td>\n",
       "      <td>347.0</td>\n",
       "      <td>NaN</td>\n",
       "    </tr>\n",
       "    <tr>\n",
       "      <th>78</th>\n",
       "      <td>2020-03-18</td>\n",
       "      <td>3526.0</td>\n",
       "      <td>347.0</td>\n",
       "      <td>NaN</td>\n",
       "    </tr>\n",
       "    <tr>\n",
       "      <th>79</th>\n",
       "      <td>2020-03-19</td>\n",
       "      <td>4207.0</td>\n",
       "      <td>473.0</td>\n",
       "      <td>NaN</td>\n",
       "    </tr>\n",
       "    <tr>\n",
       "      <th>80</th>\n",
       "      <td>2020-03-20</td>\n",
       "      <td>5322.0</td>\n",
       "      <td>429.0</td>\n",
       "      <td>NaN</td>\n",
       "    </tr>\n",
       "    <tr>\n",
       "      <th>81</th>\n",
       "      <td>2020-03-21</td>\n",
       "      <td>5986.0</td>\n",
       "      <td>625.0</td>\n",
       "      <td>NaN</td>\n",
       "    </tr>\n",
       "    <tr>\n",
       "      <th>82</th>\n",
       "      <td>2020-03-22</td>\n",
       "      <td>6557.0</td>\n",
       "      <td>795.0</td>\n",
       "      <td>NaN</td>\n",
       "    </tr>\n",
       "    <tr>\n",
       "      <th>83</th>\n",
       "      <td>2020-03-23</td>\n",
       "      <td>5560.0</td>\n",
       "      <td>649.0</td>\n",
       "      <td>NaN</td>\n",
       "    </tr>\n",
       "    <tr>\n",
       "      <th>84</th>\n",
       "      <td>2020-03-24</td>\n",
       "      <td>4789.0</td>\n",
       "      <td>601.0</td>\n",
       "      <td>NaN</td>\n",
       "    </tr>\n",
       "    <tr>\n",
       "      <th>85</th>\n",
       "      <td>2020-03-25</td>\n",
       "      <td>5249.0</td>\n",
       "      <td>743.0</td>\n",
       "      <td>NaN</td>\n",
       "    </tr>\n",
       "    <tr>\n",
       "      <th>86</th>\n",
       "      <td>2020-03-26</td>\n",
       "      <td>5210.0</td>\n",
       "      <td>685.0</td>\n",
       "      <td>NaN</td>\n",
       "    </tr>\n",
       "    <tr>\n",
       "      <th>87</th>\n",
       "      <td>2020-03-27</td>\n",
       "      <td>6153.0</td>\n",
       "      <td>660.0</td>\n",
       "      <td>NaN</td>\n",
       "    </tr>\n",
       "    <tr>\n",
       "      <th>88</th>\n",
       "      <td>2020-03-28</td>\n",
       "      <td>5959.0</td>\n",
       "      <td>971.0</td>\n",
       "      <td>NaN</td>\n",
       "    </tr>\n",
       "    <tr>\n",
       "      <th>89</th>\n",
       "      <td>2020-03-29</td>\n",
       "      <td>5974.0</td>\n",
       "      <td>887.0</td>\n",
       "      <td>NaN</td>\n",
       "    </tr>\n",
       "    <tr>\n",
       "      <th>90</th>\n",
       "      <td>2020-03-30</td>\n",
       "      <td>5217.0</td>\n",
       "      <td>758.0</td>\n",
       "      <td>NaN</td>\n",
       "    </tr>\n",
       "    <tr>\n",
       "      <th>91</th>\n",
       "      <td>2020-03-31</td>\n",
       "      <td>4050.0</td>\n",
       "      <td>810.0</td>\n",
       "      <td>NaN</td>\n",
       "    </tr>\n",
       "    <tr>\n",
       "      <th>92</th>\n",
       "      <td>2020-04-01</td>\n",
       "      <td>4053.0</td>\n",
       "      <td>839.0</td>\n",
       "      <td>NaN</td>\n",
       "    </tr>\n",
       "    <tr>\n",
       "      <th>93</th>\n",
       "      <td>2020-04-02</td>\n",
       "      <td>4782.0</td>\n",
       "      <td>727.0</td>\n",
       "      <td>NaN</td>\n",
       "    </tr>\n",
       "    <tr>\n",
       "      <th>94</th>\n",
       "      <td>2020-04-03</td>\n",
       "      <td>4668.0</td>\n",
       "      <td>760.0</td>\n",
       "      <td>NaN</td>\n",
       "    </tr>\n",
       "    <tr>\n",
       "      <th>95</th>\n",
       "      <td>2020-04-04</td>\n",
       "      <td>4585.0</td>\n",
       "      <td>764.0</td>\n",
       "      <td>NaN</td>\n",
       "    </tr>\n",
       "    <tr>\n",
       "      <th>96</th>\n",
       "      <td>2020-04-05</td>\n",
       "      <td>4805.0</td>\n",
       "      <td>681.0</td>\n",
       "      <td>NaN</td>\n",
       "    </tr>\n",
       "    <tr>\n",
       "      <th>97</th>\n",
       "      <td>2020-04-06</td>\n",
       "      <td>4316.0</td>\n",
       "      <td>527.0</td>\n",
       "      <td>NaN</td>\n",
       "    </tr>\n",
       "    <tr>\n",
       "      <th>98</th>\n",
       "      <td>2020-04-07</td>\n",
       "      <td>3599.0</td>\n",
       "      <td>636.0</td>\n",
       "      <td>NaN</td>\n",
       "    </tr>\n",
       "    <tr>\n",
       "      <th>99</th>\n",
       "      <td>2020-04-08</td>\n",
       "      <td>3039.0</td>\n",
       "      <td>604.0</td>\n",
       "      <td>NaN</td>\n",
       "    </tr>\n",
       "    <tr>\n",
       "      <th>100</th>\n",
       "      <td>2020-04-09</td>\n",
       "      <td>3836.0</td>\n",
       "      <td>540.0</td>\n",
       "      <td>NaN</td>\n",
       "    </tr>\n",
       "    <tr>\n",
       "      <th>101</th>\n",
       "      <td>2020-04-10</td>\n",
       "      <td>4204.0</td>\n",
       "      <td>612.0</td>\n",
       "      <td>NaN</td>\n",
       "    </tr>\n",
       "    <tr>\n",
       "      <th>102</th>\n",
       "      <td>2020-04-11</td>\n",
       "      <td>3951.0</td>\n",
       "      <td>570.0</td>\n",
       "      <td>NaN</td>\n",
       "    </tr>\n",
       "    <tr>\n",
       "      <th>103</th>\n",
       "      <td>2020-04-12</td>\n",
       "      <td>4694.0</td>\n",
       "      <td>619.0</td>\n",
       "      <td>NaN</td>\n",
       "    </tr>\n",
       "    <tr>\n",
       "      <th>104</th>\n",
       "      <td>2020-04-13</td>\n",
       "      <td>4092.0</td>\n",
       "      <td>431.0</td>\n",
       "      <td>NaN</td>\n",
       "    </tr>\n",
       "    <tr>\n",
       "      <th>105</th>\n",
       "      <td>2020-04-14</td>\n",
       "      <td>3153.0</td>\n",
       "      <td>564.0</td>\n",
       "      <td>NaN</td>\n",
       "    </tr>\n",
       "    <tr>\n",
       "      <th>106</th>\n",
       "      <td>2020-04-15</td>\n",
       "      <td>2972.0</td>\n",
       "      <td>604.0</td>\n",
       "      <td>NaN</td>\n",
       "    </tr>\n",
       "    <tr>\n",
       "      <th>107</th>\n",
       "      <td>2020-04-16</td>\n",
       "      <td>2667.0</td>\n",
       "      <td>578.0</td>\n",
       "      <td>NaN</td>\n",
       "    </tr>\n",
       "    <tr>\n",
       "      <th>108</th>\n",
       "      <td>2020-04-17</td>\n",
       "      <td>3786.0</td>\n",
       "      <td>525.0</td>\n",
       "      <td>NaN</td>\n",
       "    </tr>\n",
       "    <tr>\n",
       "      <th>109</th>\n",
       "      <td>2020-04-18</td>\n",
       "      <td>3493.0</td>\n",
       "      <td>575.0</td>\n",
       "      <td>NaN</td>\n",
       "    </tr>\n",
       "    <tr>\n",
       "      <th>110</th>\n",
       "      <td>2020-04-19</td>\n",
       "      <td>3491.0</td>\n",
       "      <td>480.0</td>\n",
       "      <td>NaN</td>\n",
       "    </tr>\n",
       "    <tr>\n",
       "      <th>111</th>\n",
       "      <td>2020-04-20</td>\n",
       "      <td>3047.0</td>\n",
       "      <td>433.0</td>\n",
       "      <td>7841.0</td>\n",
       "    </tr>\n",
       "    <tr>\n",
       "      <th>112</th>\n",
       "      <td>2020-04-21</td>\n",
       "      <td>2256.0</td>\n",
       "      <td>454.0</td>\n",
       "      <td>28095.0</td>\n",
       "    </tr>\n",
       "    <tr>\n",
       "      <th>113</th>\n",
       "      <td>2020-04-22</td>\n",
       "      <td>2729.0</td>\n",
       "      <td>534.0</td>\n",
       "      <td>44248.0</td>\n",
       "    </tr>\n",
       "    <tr>\n",
       "      <th>114</th>\n",
       "      <td>2020-04-23</td>\n",
       "      <td>3370.0</td>\n",
       "      <td>437.0</td>\n",
       "      <td>37083.0</td>\n",
       "    </tr>\n",
       "    <tr>\n",
       "      <th>115</th>\n",
       "      <td>2020-04-24</td>\n",
       "      <td>2646.0</td>\n",
       "      <td>464.0</td>\n",
       "      <td>95273.0</td>\n",
       "    </tr>\n",
       "    <tr>\n",
       "      <th>116</th>\n",
       "      <td>2020-04-25</td>\n",
       "      <td>3021.0</td>\n",
       "      <td>420.0</td>\n",
       "      <td>38676.0</td>\n",
       "    </tr>\n",
       "    <tr>\n",
       "      <th>117</th>\n",
       "      <td>2020-04-26</td>\n",
       "      <td>2357.0</td>\n",
       "      <td>415.0</td>\n",
       "      <td>24113.0</td>\n",
       "    </tr>\n",
       "    <tr>\n",
       "      <th>118</th>\n",
       "      <td>2020-04-27</td>\n",
       "      <td>2324.0</td>\n",
       "      <td>260.0</td>\n",
       "      <td>26678.0</td>\n",
       "    </tr>\n",
       "    <tr>\n",
       "      <th>119</th>\n",
       "      <td>2020-04-28</td>\n",
       "      <td>1739.0</td>\n",
       "      <td>333.0</td>\n",
       "      <td>37554.0</td>\n",
       "    </tr>\n",
       "    <tr>\n",
       "      <th>120</th>\n",
       "      <td>2020-04-29</td>\n",
       "      <td>2091.0</td>\n",
       "      <td>382.0</td>\n",
       "      <td>38589.0</td>\n",
       "    </tr>\n",
       "    <tr>\n",
       "      <th>121</th>\n",
       "      <td>2020-04-30</td>\n",
       "      <td>2086.0</td>\n",
       "      <td>323.0</td>\n",
       "      <td>41441.0</td>\n",
       "    </tr>\n",
       "    <tr>\n",
       "      <th>122</th>\n",
       "      <td>2020-05-01</td>\n",
       "      <td>1872.0</td>\n",
       "      <td>285.0</td>\n",
       "      <td>43732.0</td>\n",
       "    </tr>\n",
       "    <tr>\n",
       "      <th>123</th>\n",
       "      <td>2020-05-02</td>\n",
       "      <td>1965.0</td>\n",
       "      <td>269.0</td>\n",
       "      <td>31231.0</td>\n",
       "    </tr>\n",
       "    <tr>\n",
       "      <th>124</th>\n",
       "      <td>2020-05-03</td>\n",
       "      <td>1900.0</td>\n",
       "      <td>474.0</td>\n",
       "      <td>27047.0</td>\n",
       "    </tr>\n",
       "    <tr>\n",
       "      <th>125</th>\n",
       "      <td>2020-05-04</td>\n",
       "      <td>1389.0</td>\n",
       "      <td>174.0</td>\n",
       "      <td>22999.0</td>\n",
       "    </tr>\n",
       "    <tr>\n",
       "      <th>126</th>\n",
       "      <td>2020-05-05</td>\n",
       "      <td>1221.0</td>\n",
       "      <td>195.0</td>\n",
       "      <td>32211.0</td>\n",
       "    </tr>\n",
       "    <tr>\n",
       "      <th>127</th>\n",
       "      <td>2020-05-06</td>\n",
       "      <td>1075.0</td>\n",
       "      <td>236.0</td>\n",
       "      <td>37771.0</td>\n",
       "    </tr>\n",
       "    <tr>\n",
       "      <th>128</th>\n",
       "      <td>2020-05-07</td>\n",
       "      <td>1444.0</td>\n",
       "      <td>369.0</td>\n",
       "      <td>13665.0</td>\n",
       "    </tr>\n",
       "    <tr>\n",
       "      <th>129</th>\n",
       "      <td>2020-05-08</td>\n",
       "      <td>1401.0</td>\n",
       "      <td>274.0</td>\n",
       "      <td>45428.0</td>\n",
       "    </tr>\n",
       "    <tr>\n",
       "      <th>130</th>\n",
       "      <td>2020-05-09</td>\n",
       "      <td>1327.0</td>\n",
       "      <td>243.0</td>\n",
       "      <td>36091.0</td>\n",
       "    </tr>\n",
       "    <tr>\n",
       "      <th>131</th>\n",
       "      <td>2020-05-10</td>\n",
       "      <td>1083.0</td>\n",
       "      <td>194.0</td>\n",
       "      <td>31384.0</td>\n",
       "    </tr>\n",
       "    <tr>\n",
       "      <th>134</th>\n",
       "      <td>2020-05-13</td>\n",
       "      <td>1402.0</td>\n",
       "      <td>172.0</td>\n",
       "      <td>37049.0</td>\n",
       "    </tr>\n",
       "    <tr>\n",
       "      <th>236</th>\n",
       "      <td>2020-08-23</td>\n",
       "      <td>1071.0</td>\n",
       "      <td>3.0</td>\n",
       "      <td>47463.0</td>\n",
       "    </tr>\n",
       "    <tr>\n",
       "      <th>237</th>\n",
       "      <td>2020-08-24</td>\n",
       "      <td>1209.0</td>\n",
       "      <td>7.0</td>\n",
       "      <td>33358.0</td>\n",
       "    </tr>\n",
       "    <tr>\n",
       "      <th>240</th>\n",
       "      <td>2020-08-27</td>\n",
       "      <td>1366.0</td>\n",
       "      <td>13.0</td>\n",
       "      <td>57640.0</td>\n",
       "    </tr>\n",
       "    <tr>\n",
       "      <th>241</th>\n",
       "      <td>2020-08-28</td>\n",
       "      <td>1409.0</td>\n",
       "      <td>5.0</td>\n",
       "      <td>65135.0</td>\n",
       "    </tr>\n",
       "    <tr>\n",
       "      <th>242</th>\n",
       "      <td>2020-08-29</td>\n",
       "      <td>1460.0</td>\n",
       "      <td>9.0</td>\n",
       "      <td>64294.0</td>\n",
       "    </tr>\n",
       "    <tr>\n",
       "      <th>243</th>\n",
       "      <td>2020-08-30</td>\n",
       "      <td>1444.0</td>\n",
       "      <td>1.0</td>\n",
       "      <td>53541.0</td>\n",
       "    </tr>\n",
       "    <tr>\n",
       "      <th>244</th>\n",
       "      <td>2020-08-31</td>\n",
       "      <td>1365.0</td>\n",
       "      <td>4.0</td>\n",
       "      <td>42583.0</td>\n",
       "    </tr>\n",
       "    <tr>\n",
       "      <th>247</th>\n",
       "      <td>2020-09-03</td>\n",
       "      <td>1326.0</td>\n",
       "      <td>6.0</td>\n",
       "      <td>NaN</td>\n",
       "    </tr>\n",
       "  </tbody>\n",
       "</table>\n",
       "</div>"
      ],
      "text/plain": [
       "           date  new_cases  new_deaths  new_tests\n",
       "68   2020-03-08     1247.0        36.0        NaN\n",
       "69   2020-03-09     1492.0       133.0        NaN\n",
       "70   2020-03-10     1797.0        98.0        NaN\n",
       "72   2020-03-12     2313.0       196.0        NaN\n",
       "73   2020-03-13     2651.0       189.0        NaN\n",
       "74   2020-03-14     2547.0       252.0        NaN\n",
       "75   2020-03-15     3497.0       173.0        NaN\n",
       "76   2020-03-16     2823.0       370.0        NaN\n",
       "77   2020-03-17     4000.0       347.0        NaN\n",
       "78   2020-03-18     3526.0       347.0        NaN\n",
       "79   2020-03-19     4207.0       473.0        NaN\n",
       "80   2020-03-20     5322.0       429.0        NaN\n",
       "81   2020-03-21     5986.0       625.0        NaN\n",
       "82   2020-03-22     6557.0       795.0        NaN\n",
       "83   2020-03-23     5560.0       649.0        NaN\n",
       "84   2020-03-24     4789.0       601.0        NaN\n",
       "85   2020-03-25     5249.0       743.0        NaN\n",
       "86   2020-03-26     5210.0       685.0        NaN\n",
       "87   2020-03-27     6153.0       660.0        NaN\n",
       "88   2020-03-28     5959.0       971.0        NaN\n",
       "89   2020-03-29     5974.0       887.0        NaN\n",
       "90   2020-03-30     5217.0       758.0        NaN\n",
       "91   2020-03-31     4050.0       810.0        NaN\n",
       "92   2020-04-01     4053.0       839.0        NaN\n",
       "93   2020-04-02     4782.0       727.0        NaN\n",
       "94   2020-04-03     4668.0       760.0        NaN\n",
       "95   2020-04-04     4585.0       764.0        NaN\n",
       "96   2020-04-05     4805.0       681.0        NaN\n",
       "97   2020-04-06     4316.0       527.0        NaN\n",
       "98   2020-04-07     3599.0       636.0        NaN\n",
       "99   2020-04-08     3039.0       604.0        NaN\n",
       "100  2020-04-09     3836.0       540.0        NaN\n",
       "101  2020-04-10     4204.0       612.0        NaN\n",
       "102  2020-04-11     3951.0       570.0        NaN\n",
       "103  2020-04-12     4694.0       619.0        NaN\n",
       "104  2020-04-13     4092.0       431.0        NaN\n",
       "105  2020-04-14     3153.0       564.0        NaN\n",
       "106  2020-04-15     2972.0       604.0        NaN\n",
       "107  2020-04-16     2667.0       578.0        NaN\n",
       "108  2020-04-17     3786.0       525.0        NaN\n",
       "109  2020-04-18     3493.0       575.0        NaN\n",
       "110  2020-04-19     3491.0       480.0        NaN\n",
       "111  2020-04-20     3047.0       433.0     7841.0\n",
       "112  2020-04-21     2256.0       454.0    28095.0\n",
       "113  2020-04-22     2729.0       534.0    44248.0\n",
       "114  2020-04-23     3370.0       437.0    37083.0\n",
       "115  2020-04-24     2646.0       464.0    95273.0\n",
       "116  2020-04-25     3021.0       420.0    38676.0\n",
       "117  2020-04-26     2357.0       415.0    24113.0\n",
       "118  2020-04-27     2324.0       260.0    26678.0\n",
       "119  2020-04-28     1739.0       333.0    37554.0\n",
       "120  2020-04-29     2091.0       382.0    38589.0\n",
       "121  2020-04-30     2086.0       323.0    41441.0\n",
       "122  2020-05-01     1872.0       285.0    43732.0\n",
       "123  2020-05-02     1965.0       269.0    31231.0\n",
       "124  2020-05-03     1900.0       474.0    27047.0\n",
       "125  2020-05-04     1389.0       174.0    22999.0\n",
       "126  2020-05-05     1221.0       195.0    32211.0\n",
       "127  2020-05-06     1075.0       236.0    37771.0\n",
       "128  2020-05-07     1444.0       369.0    13665.0\n",
       "129  2020-05-08     1401.0       274.0    45428.0\n",
       "130  2020-05-09     1327.0       243.0    36091.0\n",
       "131  2020-05-10     1083.0       194.0    31384.0\n",
       "134  2020-05-13     1402.0       172.0    37049.0\n",
       "236  2020-08-23     1071.0         3.0    47463.0\n",
       "237  2020-08-24     1209.0         7.0    33358.0\n",
       "240  2020-08-27     1366.0        13.0    57640.0\n",
       "241  2020-08-28     1409.0         5.0    65135.0\n",
       "242  2020-08-29     1460.0         9.0    64294.0\n",
       "243  2020-08-30     1444.0         1.0    53541.0\n",
       "244  2020-08-31     1365.0         4.0    42583.0\n",
       "247  2020-09-03     1326.0         6.0        NaN"
      ]
     },
     "metadata": {},
     "output_type": "display_data"
    }
   ],
   "source": [
    "from IPython.display import display\n",
    "with pd.option_context('display.max_rows', 100): # It instructs to display max no. of rows with atmost 100rows\n",
    "    display(covid_df[covid_df.new_cases > 1000])"
   ]
  },
  {
   "cell_type": "markdown",
   "id": "bae8282c",
   "metadata": {
    "papermill": {
     "duration": 0.02371,
     "end_time": "2025-01-31T19:10:12.146535",
     "exception": false,
     "start_time": "2025-01-31T19:10:12.122825",
     "status": "completed"
    },
    "tags": []
   },
   "source": [
    "**For more complex QUERIES, let's try to determine the days when the ratio of cases reported to tests conducted is higher than the overall positive_rate.**"
   ]
  },
  {
   "cell_type": "code",
   "execution_count": 38,
   "id": "ad43d07f",
   "metadata": {
    "execution": {
     "iopub.execute_input": "2025-01-31T19:10:12.188880Z",
     "iopub.status.busy": "2025-01-31T19:10:12.188596Z",
     "iopub.status.idle": "2025-01-31T19:10:12.200004Z",
     "shell.execute_reply": "2025-01-31T19:10:12.198947Z"
    },
    "papermill": {
     "duration": 0.032865,
     "end_time": "2025-01-31T19:10:12.201821",
     "exception": false,
     "start_time": "2025-01-31T19:10:12.168956",
     "status": "completed"
    },
    "tags": []
   },
   "outputs": [
    {
     "data": {
      "text/html": [
       "<div>\n",
       "<style scoped>\n",
       "    .dataframe tbody tr th:only-of-type {\n",
       "        vertical-align: middle;\n",
       "    }\n",
       "\n",
       "    .dataframe tbody tr th {\n",
       "        vertical-align: top;\n",
       "    }\n",
       "\n",
       "    .dataframe thead th {\n",
       "        text-align: right;\n",
       "    }\n",
       "</style>\n",
       "<table border=\"1\" class=\"dataframe\">\n",
       "  <thead>\n",
       "    <tr style=\"text-align: right;\">\n",
       "      <th></th>\n",
       "      <th>date</th>\n",
       "      <th>new_cases</th>\n",
       "      <th>new_deaths</th>\n",
       "      <th>new_tests</th>\n",
       "    </tr>\n",
       "  </thead>\n",
       "  <tbody>\n",
       "    <tr>\n",
       "      <th>0</th>\n",
       "      <td>2019-12-31</td>\n",
       "      <td>0.0</td>\n",
       "      <td>0.0</td>\n",
       "      <td>NaN</td>\n",
       "    </tr>\n",
       "    <tr>\n",
       "      <th>1</th>\n",
       "      <td>2020-01-01</td>\n",
       "      <td>0.0</td>\n",
       "      <td>0.0</td>\n",
       "      <td>NaN</td>\n",
       "    </tr>\n",
       "    <tr>\n",
       "      <th>2</th>\n",
       "      <td>2020-01-02</td>\n",
       "      <td>0.0</td>\n",
       "      <td>0.0</td>\n",
       "      <td>NaN</td>\n",
       "    </tr>\n",
       "    <tr>\n",
       "      <th>3</th>\n",
       "      <td>2020-01-03</td>\n",
       "      <td>0.0</td>\n",
       "      <td>0.0</td>\n",
       "      <td>NaN</td>\n",
       "    </tr>\n",
       "    <tr>\n",
       "      <th>4</th>\n",
       "      <td>2020-01-04</td>\n",
       "      <td>0.0</td>\n",
       "      <td>0.0</td>\n",
       "      <td>NaN</td>\n",
       "    </tr>\n",
       "    <tr>\n",
       "      <th>...</th>\n",
       "      <td>...</td>\n",
       "      <td>...</td>\n",
       "      <td>...</td>\n",
       "      <td>...</td>\n",
       "    </tr>\n",
       "    <tr>\n",
       "      <th>243</th>\n",
       "      <td>2020-08-30</td>\n",
       "      <td>1444.0</td>\n",
       "      <td>1.0</td>\n",
       "      <td>53541.0</td>\n",
       "    </tr>\n",
       "    <tr>\n",
       "      <th>244</th>\n",
       "      <td>2020-08-31</td>\n",
       "      <td>1365.0</td>\n",
       "      <td>4.0</td>\n",
       "      <td>42583.0</td>\n",
       "    </tr>\n",
       "    <tr>\n",
       "      <th>245</th>\n",
       "      <td>2020-09-01</td>\n",
       "      <td>996.0</td>\n",
       "      <td>6.0</td>\n",
       "      <td>54395.0</td>\n",
       "    </tr>\n",
       "    <tr>\n",
       "      <th>246</th>\n",
       "      <td>2020-09-02</td>\n",
       "      <td>975.0</td>\n",
       "      <td>8.0</td>\n",
       "      <td>NaN</td>\n",
       "    </tr>\n",
       "    <tr>\n",
       "      <th>247</th>\n",
       "      <td>2020-09-03</td>\n",
       "      <td>1326.0</td>\n",
       "      <td>6.0</td>\n",
       "      <td>NaN</td>\n",
       "    </tr>\n",
       "  </tbody>\n",
       "</table>\n",
       "<p>248 rows × 4 columns</p>\n",
       "</div>"
      ],
      "text/plain": [
       "           date  new_cases  new_deaths  new_tests\n",
       "0    2019-12-31        0.0         0.0        NaN\n",
       "1    2020-01-01        0.0         0.0        NaN\n",
       "2    2020-01-02        0.0         0.0        NaN\n",
       "3    2020-01-03        0.0         0.0        NaN\n",
       "4    2020-01-04        0.0         0.0        NaN\n",
       "..          ...        ...         ...        ...\n",
       "243  2020-08-30     1444.0         1.0    53541.0\n",
       "244  2020-08-31     1365.0         4.0    42583.0\n",
       "245  2020-09-01      996.0         6.0    54395.0\n",
       "246  2020-09-02      975.0         8.0        NaN\n",
       "247  2020-09-03     1326.0         6.0        NaN\n",
       "\n",
       "[248 rows x 4 columns]"
      ]
     },
     "execution_count": 38,
     "metadata": {},
     "output_type": "execute_result"
    }
   ],
   "source": [
    "covid_df"
   ]
  },
  {
   "cell_type": "code",
   "execution_count": 39,
   "id": "594ab738",
   "metadata": {
    "execution": {
     "iopub.execute_input": "2025-01-31T19:10:12.251240Z",
     "iopub.status.busy": "2025-01-31T19:10:12.250954Z",
     "iopub.status.idle": "2025-01-31T19:10:12.256970Z",
     "shell.execute_reply": "2025-01-31T19:10:12.255787Z"
    },
    "papermill": {
     "duration": 0.03451,
     "end_time": "2025-01-31T19:10:12.259006",
     "exception": false,
     "start_time": "2025-01-31T19:10:12.224496",
     "status": "completed"
    },
    "tags": []
   },
   "outputs": [
    {
     "data": {
      "text/plain": [
       "0.05206657403227681"
      ]
     },
     "execution_count": 39,
     "metadata": {},
     "output_type": "execute_result"
    }
   ],
   "source": [
    "positive_rate = positive_result\n",
    "positive_rate"
   ]
  },
  {
   "cell_type": "code",
   "execution_count": 40,
   "id": "0769828c",
   "metadata": {
    "execution": {
     "iopub.execute_input": "2025-01-31T19:10:12.306159Z",
     "iopub.status.busy": "2025-01-31T19:10:12.305853Z",
     "iopub.status.idle": "2025-01-31T19:10:12.317443Z",
     "shell.execute_reply": "2025-01-31T19:10:12.316314Z"
    },
    "papermill": {
     "duration": 0.034551,
     "end_time": "2025-01-31T19:10:12.319329",
     "exception": false,
     "start_time": "2025-01-31T19:10:12.284778",
     "status": "completed"
    },
    "tags": []
   },
   "outputs": [
    {
     "data": {
      "text/html": [
       "<div>\n",
       "<style scoped>\n",
       "    .dataframe tbody tr th:only-of-type {\n",
       "        vertical-align: middle;\n",
       "    }\n",
       "\n",
       "    .dataframe tbody tr th {\n",
       "        vertical-align: top;\n",
       "    }\n",
       "\n",
       "    .dataframe thead th {\n",
       "        text-align: right;\n",
       "    }\n",
       "</style>\n",
       "<table border=\"1\" class=\"dataframe\">\n",
       "  <thead>\n",
       "    <tr style=\"text-align: right;\">\n",
       "      <th></th>\n",
       "      <th>date</th>\n",
       "      <th>new_cases</th>\n",
       "      <th>new_deaths</th>\n",
       "      <th>new_tests</th>\n",
       "    </tr>\n",
       "  </thead>\n",
       "  <tbody>\n",
       "    <tr>\n",
       "      <th>111</th>\n",
       "      <td>2020-04-20</td>\n",
       "      <td>3047.0</td>\n",
       "      <td>433.0</td>\n",
       "      <td>7841.0</td>\n",
       "    </tr>\n",
       "    <tr>\n",
       "      <th>112</th>\n",
       "      <td>2020-04-21</td>\n",
       "      <td>2256.0</td>\n",
       "      <td>454.0</td>\n",
       "      <td>28095.0</td>\n",
       "    </tr>\n",
       "    <tr>\n",
       "      <th>113</th>\n",
       "      <td>2020-04-22</td>\n",
       "      <td>2729.0</td>\n",
       "      <td>534.0</td>\n",
       "      <td>44248.0</td>\n",
       "    </tr>\n",
       "    <tr>\n",
       "      <th>114</th>\n",
       "      <td>2020-04-23</td>\n",
       "      <td>3370.0</td>\n",
       "      <td>437.0</td>\n",
       "      <td>37083.0</td>\n",
       "    </tr>\n",
       "    <tr>\n",
       "      <th>116</th>\n",
       "      <td>2020-04-25</td>\n",
       "      <td>3021.0</td>\n",
       "      <td>420.0</td>\n",
       "      <td>38676.0</td>\n",
       "    </tr>\n",
       "    <tr>\n",
       "      <th>117</th>\n",
       "      <td>2020-04-26</td>\n",
       "      <td>2357.0</td>\n",
       "      <td>415.0</td>\n",
       "      <td>24113.0</td>\n",
       "    </tr>\n",
       "    <tr>\n",
       "      <th>118</th>\n",
       "      <td>2020-04-27</td>\n",
       "      <td>2324.0</td>\n",
       "      <td>260.0</td>\n",
       "      <td>26678.0</td>\n",
       "    </tr>\n",
       "    <tr>\n",
       "      <th>120</th>\n",
       "      <td>2020-04-29</td>\n",
       "      <td>2091.0</td>\n",
       "      <td>382.0</td>\n",
       "      <td>38589.0</td>\n",
       "    </tr>\n",
       "    <tr>\n",
       "      <th>123</th>\n",
       "      <td>2020-05-02</td>\n",
       "      <td>1965.0</td>\n",
       "      <td>269.0</td>\n",
       "      <td>31231.0</td>\n",
       "    </tr>\n",
       "    <tr>\n",
       "      <th>124</th>\n",
       "      <td>2020-05-03</td>\n",
       "      <td>1900.0</td>\n",
       "      <td>474.0</td>\n",
       "      <td>27047.0</td>\n",
       "    </tr>\n",
       "    <tr>\n",
       "      <th>125</th>\n",
       "      <td>2020-05-04</td>\n",
       "      <td>1389.0</td>\n",
       "      <td>174.0</td>\n",
       "      <td>22999.0</td>\n",
       "    </tr>\n",
       "    <tr>\n",
       "      <th>128</th>\n",
       "      <td>2020-05-07</td>\n",
       "      <td>1444.0</td>\n",
       "      <td>369.0</td>\n",
       "      <td>13665.0</td>\n",
       "    </tr>\n",
       "  </tbody>\n",
       "</table>\n",
       "</div>"
      ],
      "text/plain": [
       "           date  new_cases  new_deaths  new_tests\n",
       "111  2020-04-20     3047.0       433.0     7841.0\n",
       "112  2020-04-21     2256.0       454.0    28095.0\n",
       "113  2020-04-22     2729.0       534.0    44248.0\n",
       "114  2020-04-23     3370.0       437.0    37083.0\n",
       "116  2020-04-25     3021.0       420.0    38676.0\n",
       "117  2020-04-26     2357.0       415.0    24113.0\n",
       "118  2020-04-27     2324.0       260.0    26678.0\n",
       "120  2020-04-29     2091.0       382.0    38589.0\n",
       "123  2020-05-02     1965.0       269.0    31231.0\n",
       "124  2020-05-03     1900.0       474.0    27047.0\n",
       "125  2020-05-04     1389.0       174.0    22999.0\n",
       "128  2020-05-07     1444.0       369.0    13665.0"
      ]
     },
     "execution_count": 40,
     "metadata": {},
     "output_type": "execute_result"
    }
   ],
   "source": [
    "high_ratio_df = covid_df[covid_df.new_cases / covid_df.new_tests > positive_rate]\n",
    "high_ratio_df"
   ]
  },
  {
   "cell_type": "markdown",
   "id": "80b36b2f",
   "metadata": {
    "papermill": {
     "duration": 0.017767,
     "end_time": "2025-01-31T19:10:12.355617",
     "exception": false,
     "start_time": "2025-01-31T19:10:12.337850",
     "status": "completed"
    },
    "tags": []
   },
   "source": [
    "**The result of mathematical operations on two different columns forms a new SERIES**"
   ]
  },
  {
   "cell_type": "code",
   "execution_count": 41,
   "id": "13c31609",
   "metadata": {
    "execution": {
     "iopub.execute_input": "2025-01-31T19:10:12.399288Z",
     "iopub.status.busy": "2025-01-31T19:10:12.398914Z",
     "iopub.status.idle": "2025-01-31T19:10:12.407390Z",
     "shell.execute_reply": "2025-01-31T19:10:12.405931Z"
    },
    "papermill": {
     "duration": 0.034451,
     "end_time": "2025-01-31T19:10:12.409952",
     "exception": false,
     "start_time": "2025-01-31T19:10:12.375501",
     "status": "completed"
    },
    "tags": []
   },
   "outputs": [
    {
     "data": {
      "text/plain": [
       "0           NaN\n",
       "1           NaN\n",
       "2           NaN\n",
       "3           NaN\n",
       "4           NaN\n",
       "         ...   \n",
       "243    0.026970\n",
       "244    0.032055\n",
       "245    0.018311\n",
       "246         NaN\n",
       "247         NaN\n",
       "Length: 248, dtype: float64"
      ]
     },
     "execution_count": 41,
     "metadata": {},
     "output_type": "execute_result"
    }
   ],
   "source": [
    "covid_df.new_cases / covid_df.new_tests"
   ]
  },
  {
   "cell_type": "markdown",
   "id": "8f67885e",
   "metadata": {
    "papermill": {
     "duration": 0.018281,
     "end_time": "2025-01-31T19:10:12.447679",
     "exception": false,
     "start_time": "2025-01-31T19:10:12.429398",
     "status": "completed"
    },
    "tags": []
   },
   "source": [
    "**TO ADD A NEW SERIES INTO THE ORGINAL DATAFRAME, DEFINE A NEW COLUMN NAME AND THEN ASSIGN THE MATHEMATICAL OPERATION**"
   ]
  },
  {
   "cell_type": "code",
   "execution_count": 42,
   "id": "58a038e5",
   "metadata": {
    "execution": {
     "iopub.execute_input": "2025-01-31T19:10:12.489182Z",
     "iopub.status.busy": "2025-01-31T19:10:12.488902Z",
     "iopub.status.idle": "2025-01-31T19:10:12.503471Z",
     "shell.execute_reply": "2025-01-31T19:10:12.502679Z"
    },
    "papermill": {
     "duration": 0.038896,
     "end_time": "2025-01-31T19:10:12.505502",
     "exception": false,
     "start_time": "2025-01-31T19:10:12.466606",
     "status": "completed"
    },
    "tags": []
   },
   "outputs": [
    {
     "data": {
      "text/html": [
       "<div>\n",
       "<style scoped>\n",
       "    .dataframe tbody tr th:only-of-type {\n",
       "        vertical-align: middle;\n",
       "    }\n",
       "\n",
       "    .dataframe tbody tr th {\n",
       "        vertical-align: top;\n",
       "    }\n",
       "\n",
       "    .dataframe thead th {\n",
       "        text-align: right;\n",
       "    }\n",
       "</style>\n",
       "<table border=\"1\" class=\"dataframe\">\n",
       "  <thead>\n",
       "    <tr style=\"text-align: right;\">\n",
       "      <th></th>\n",
       "      <th>date</th>\n",
       "      <th>new_cases</th>\n",
       "      <th>new_deaths</th>\n",
       "      <th>new_tests</th>\n",
       "      <th>new_positive_rate</th>\n",
       "    </tr>\n",
       "  </thead>\n",
       "  <tbody>\n",
       "    <tr>\n",
       "      <th>0</th>\n",
       "      <td>2019-12-31</td>\n",
       "      <td>0.0</td>\n",
       "      <td>0.0</td>\n",
       "      <td>NaN</td>\n",
       "      <td>NaN</td>\n",
       "    </tr>\n",
       "    <tr>\n",
       "      <th>1</th>\n",
       "      <td>2020-01-01</td>\n",
       "      <td>0.0</td>\n",
       "      <td>0.0</td>\n",
       "      <td>NaN</td>\n",
       "      <td>NaN</td>\n",
       "    </tr>\n",
       "    <tr>\n",
       "      <th>2</th>\n",
       "      <td>2020-01-02</td>\n",
       "      <td>0.0</td>\n",
       "      <td>0.0</td>\n",
       "      <td>NaN</td>\n",
       "      <td>NaN</td>\n",
       "    </tr>\n",
       "    <tr>\n",
       "      <th>3</th>\n",
       "      <td>2020-01-03</td>\n",
       "      <td>0.0</td>\n",
       "      <td>0.0</td>\n",
       "      <td>NaN</td>\n",
       "      <td>NaN</td>\n",
       "    </tr>\n",
       "    <tr>\n",
       "      <th>4</th>\n",
       "      <td>2020-01-04</td>\n",
       "      <td>0.0</td>\n",
       "      <td>0.0</td>\n",
       "      <td>NaN</td>\n",
       "      <td>NaN</td>\n",
       "    </tr>\n",
       "    <tr>\n",
       "      <th>...</th>\n",
       "      <td>...</td>\n",
       "      <td>...</td>\n",
       "      <td>...</td>\n",
       "      <td>...</td>\n",
       "      <td>...</td>\n",
       "    </tr>\n",
       "    <tr>\n",
       "      <th>243</th>\n",
       "      <td>2020-08-30</td>\n",
       "      <td>1444.0</td>\n",
       "      <td>1.0</td>\n",
       "      <td>53541.0</td>\n",
       "      <td>0.026970</td>\n",
       "    </tr>\n",
       "    <tr>\n",
       "      <th>244</th>\n",
       "      <td>2020-08-31</td>\n",
       "      <td>1365.0</td>\n",
       "      <td>4.0</td>\n",
       "      <td>42583.0</td>\n",
       "      <td>0.032055</td>\n",
       "    </tr>\n",
       "    <tr>\n",
       "      <th>245</th>\n",
       "      <td>2020-09-01</td>\n",
       "      <td>996.0</td>\n",
       "      <td>6.0</td>\n",
       "      <td>54395.0</td>\n",
       "      <td>0.018311</td>\n",
       "    </tr>\n",
       "    <tr>\n",
       "      <th>246</th>\n",
       "      <td>2020-09-02</td>\n",
       "      <td>975.0</td>\n",
       "      <td>8.0</td>\n",
       "      <td>NaN</td>\n",
       "      <td>NaN</td>\n",
       "    </tr>\n",
       "    <tr>\n",
       "      <th>247</th>\n",
       "      <td>2020-09-03</td>\n",
       "      <td>1326.0</td>\n",
       "      <td>6.0</td>\n",
       "      <td>NaN</td>\n",
       "      <td>NaN</td>\n",
       "    </tr>\n",
       "  </tbody>\n",
       "</table>\n",
       "<p>248 rows × 5 columns</p>\n",
       "</div>"
      ],
      "text/plain": [
       "           date  new_cases  new_deaths  new_tests  new_positive_rate\n",
       "0    2019-12-31        0.0         0.0        NaN                NaN\n",
       "1    2020-01-01        0.0         0.0        NaN                NaN\n",
       "2    2020-01-02        0.0         0.0        NaN                NaN\n",
       "3    2020-01-03        0.0         0.0        NaN                NaN\n",
       "4    2020-01-04        0.0         0.0        NaN                NaN\n",
       "..          ...        ...         ...        ...                ...\n",
       "243  2020-08-30     1444.0         1.0    53541.0           0.026970\n",
       "244  2020-08-31     1365.0         4.0    42583.0           0.032055\n",
       "245  2020-09-01      996.0         6.0    54395.0           0.018311\n",
       "246  2020-09-02      975.0         8.0        NaN                NaN\n",
       "247  2020-09-03     1326.0         6.0        NaN                NaN\n",
       "\n",
       "[248 rows x 5 columns]"
      ]
     },
     "execution_count": 42,
     "metadata": {},
     "output_type": "execute_result"
    }
   ],
   "source": [
    "covid_df['new_positive_rate'] = covid_df.new_cases / covid_df.new_tests\n",
    "covid_df"
   ]
  },
  {
   "cell_type": "markdown",
   "id": "55601c9d",
   "metadata": {
    "papermill": {
     "duration": 0.018691,
     "end_time": "2025-01-31T19:10:12.545385",
     "exception": false,
     "start_time": "2025-01-31T19:10:12.526694",
     "status": "completed"
    },
    "tags": []
   },
   "source": [
    "**However, keep in mind that sometimes it takes a few days to get the results for a test, so we can't compare the number of new cases with the number of tests conducted on the same day. Any inference based on this new_positive_rate column is likely to be incorrect. It's essential to watch out for such subtle relationships that are often not conveyed within the CSV file and require some external context. It's always a good idea to read through the documentation provided with the dataset or ask for more information.**\n",
    "\n",
    "For now, let's remove the new_positive_rate column using the drop method."
   ]
  },
  {
   "cell_type": "code",
   "execution_count": 43,
   "id": "561e0088",
   "metadata": {
    "execution": {
     "iopub.execute_input": "2025-01-31T19:10:12.584724Z",
     "iopub.status.busy": "2025-01-31T19:10:12.584423Z",
     "iopub.status.idle": "2025-01-31T19:10:12.588524Z",
     "shell.execute_reply": "2025-01-31T19:10:12.587514Z"
    },
    "papermill": {
     "duration": 0.02657,
     "end_time": "2025-01-31T19:10:12.590737",
     "exception": false,
     "start_time": "2025-01-31T19:10:12.564167",
     "status": "completed"
    },
    "tags": []
   },
   "outputs": [],
   "source": [
    "##Drop a particular column from a dataframe"
   ]
  },
  {
   "cell_type": "markdown",
   "id": "b452a23b",
   "metadata": {
    "papermill": {
     "duration": 0.018424,
     "end_time": "2025-01-31T19:10:12.628153",
     "exception": false,
     "start_time": "2025-01-31T19:10:12.609729",
     "status": "completed"
    },
    "tags": []
   },
   "source": [
    "**SORTING ROWS USING COLUMN VALUES**\n",
    "\n",
    "Rows of the dataframe can be sorted using column values -> sort_values() of the first ten values, so we can add .head(10)"
   ]
  },
  {
   "cell_type": "code",
   "execution_count": 44,
   "id": "d32a79c6",
   "metadata": {
    "execution": {
     "iopub.execute_input": "2025-01-31T19:10:12.667457Z",
     "iopub.status.busy": "2025-01-31T19:10:12.667164Z",
     "iopub.status.idle": "2025-01-31T19:10:12.678106Z",
     "shell.execute_reply": "2025-01-31T19:10:12.677172Z"
    },
    "papermill": {
     "duration": 0.032827,
     "end_time": "2025-01-31T19:10:12.680256",
     "exception": false,
     "start_time": "2025-01-31T19:10:12.647429",
     "status": "completed"
    },
    "tags": []
   },
   "outputs": [
    {
     "data": {
      "text/html": [
       "<div>\n",
       "<style scoped>\n",
       "    .dataframe tbody tr th:only-of-type {\n",
       "        vertical-align: middle;\n",
       "    }\n",
       "\n",
       "    .dataframe tbody tr th {\n",
       "        vertical-align: top;\n",
       "    }\n",
       "\n",
       "    .dataframe thead th {\n",
       "        text-align: right;\n",
       "    }\n",
       "</style>\n",
       "<table border=\"1\" class=\"dataframe\">\n",
       "  <thead>\n",
       "    <tr style=\"text-align: right;\">\n",
       "      <th></th>\n",
       "      <th>date</th>\n",
       "      <th>new_cases</th>\n",
       "      <th>new_deaths</th>\n",
       "      <th>new_tests</th>\n",
       "      <th>new_positive_rate</th>\n",
       "    </tr>\n",
       "  </thead>\n",
       "  <tbody>\n",
       "    <tr>\n",
       "      <th>82</th>\n",
       "      <td>2020-03-22</td>\n",
       "      <td>6557.0</td>\n",
       "      <td>795.0</td>\n",
       "      <td>NaN</td>\n",
       "      <td>NaN</td>\n",
       "    </tr>\n",
       "    <tr>\n",
       "      <th>87</th>\n",
       "      <td>2020-03-27</td>\n",
       "      <td>6153.0</td>\n",
       "      <td>660.0</td>\n",
       "      <td>NaN</td>\n",
       "      <td>NaN</td>\n",
       "    </tr>\n",
       "    <tr>\n",
       "      <th>81</th>\n",
       "      <td>2020-03-21</td>\n",
       "      <td>5986.0</td>\n",
       "      <td>625.0</td>\n",
       "      <td>NaN</td>\n",
       "      <td>NaN</td>\n",
       "    </tr>\n",
       "    <tr>\n",
       "      <th>89</th>\n",
       "      <td>2020-03-29</td>\n",
       "      <td>5974.0</td>\n",
       "      <td>887.0</td>\n",
       "      <td>NaN</td>\n",
       "      <td>NaN</td>\n",
       "    </tr>\n",
       "    <tr>\n",
       "      <th>88</th>\n",
       "      <td>2020-03-28</td>\n",
       "      <td>5959.0</td>\n",
       "      <td>971.0</td>\n",
       "      <td>NaN</td>\n",
       "      <td>NaN</td>\n",
       "    </tr>\n",
       "    <tr>\n",
       "      <th>83</th>\n",
       "      <td>2020-03-23</td>\n",
       "      <td>5560.0</td>\n",
       "      <td>649.0</td>\n",
       "      <td>NaN</td>\n",
       "      <td>NaN</td>\n",
       "    </tr>\n",
       "    <tr>\n",
       "      <th>80</th>\n",
       "      <td>2020-03-20</td>\n",
       "      <td>5322.0</td>\n",
       "      <td>429.0</td>\n",
       "      <td>NaN</td>\n",
       "      <td>NaN</td>\n",
       "    </tr>\n",
       "    <tr>\n",
       "      <th>85</th>\n",
       "      <td>2020-03-25</td>\n",
       "      <td>5249.0</td>\n",
       "      <td>743.0</td>\n",
       "      <td>NaN</td>\n",
       "      <td>NaN</td>\n",
       "    </tr>\n",
       "    <tr>\n",
       "      <th>90</th>\n",
       "      <td>2020-03-30</td>\n",
       "      <td>5217.0</td>\n",
       "      <td>758.0</td>\n",
       "      <td>NaN</td>\n",
       "      <td>NaN</td>\n",
       "    </tr>\n",
       "    <tr>\n",
       "      <th>86</th>\n",
       "      <td>2020-03-26</td>\n",
       "      <td>5210.0</td>\n",
       "      <td>685.0</td>\n",
       "      <td>NaN</td>\n",
       "      <td>NaN</td>\n",
       "    </tr>\n",
       "  </tbody>\n",
       "</table>\n",
       "</div>"
      ],
      "text/plain": [
       "          date  new_cases  new_deaths  new_tests  new_positive_rate\n",
       "82  2020-03-22     6557.0       795.0        NaN                NaN\n",
       "87  2020-03-27     6153.0       660.0        NaN                NaN\n",
       "81  2020-03-21     5986.0       625.0        NaN                NaN\n",
       "89  2020-03-29     5974.0       887.0        NaN                NaN\n",
       "88  2020-03-28     5959.0       971.0        NaN                NaN\n",
       "83  2020-03-23     5560.0       649.0        NaN                NaN\n",
       "80  2020-03-20     5322.0       429.0        NaN                NaN\n",
       "85  2020-03-25     5249.0       743.0        NaN                NaN\n",
       "90  2020-03-30     5217.0       758.0        NaN                NaN\n",
       "86  2020-03-26     5210.0       685.0        NaN                NaN"
      ]
     },
     "execution_count": 44,
     "metadata": {},
     "output_type": "execute_result"
    }
   ],
   "source": [
    "covid_df.sort_values('new_cases', ascending=False).head(10) #Days with most number of new_cases"
   ]
  },
  {
   "cell_type": "code",
   "execution_count": 45,
   "id": "ae46936d",
   "metadata": {
    "execution": {
     "iopub.execute_input": "2025-01-31T19:10:12.719877Z",
     "iopub.status.busy": "2025-01-31T19:10:12.719553Z",
     "iopub.status.idle": "2025-01-31T19:10:12.731164Z",
     "shell.execute_reply": "2025-01-31T19:10:12.730411Z"
    },
    "papermill": {
     "duration": 0.03309,
     "end_time": "2025-01-31T19:10:12.732599",
     "exception": false,
     "start_time": "2025-01-31T19:10:12.699509",
     "status": "completed"
    },
    "tags": []
   },
   "outputs": [
    {
     "data": {
      "text/html": [
       "<div>\n",
       "<style scoped>\n",
       "    .dataframe tbody tr th:only-of-type {\n",
       "        vertical-align: middle;\n",
       "    }\n",
       "\n",
       "    .dataframe tbody tr th {\n",
       "        vertical-align: top;\n",
       "    }\n",
       "\n",
       "    .dataframe thead th {\n",
       "        text-align: right;\n",
       "    }\n",
       "</style>\n",
       "<table border=\"1\" class=\"dataframe\">\n",
       "  <thead>\n",
       "    <tr style=\"text-align: right;\">\n",
       "      <th></th>\n",
       "      <th>date</th>\n",
       "      <th>new_cases</th>\n",
       "      <th>new_deaths</th>\n",
       "      <th>new_tests</th>\n",
       "      <th>new_positive_rate</th>\n",
       "    </tr>\n",
       "  </thead>\n",
       "  <tbody>\n",
       "    <tr>\n",
       "      <th>88</th>\n",
       "      <td>2020-03-28</td>\n",
       "      <td>5959.0</td>\n",
       "      <td>971.0</td>\n",
       "      <td>NaN</td>\n",
       "      <td>NaN</td>\n",
       "    </tr>\n",
       "    <tr>\n",
       "      <th>89</th>\n",
       "      <td>2020-03-29</td>\n",
       "      <td>5974.0</td>\n",
       "      <td>887.0</td>\n",
       "      <td>NaN</td>\n",
       "      <td>NaN</td>\n",
       "    </tr>\n",
       "    <tr>\n",
       "      <th>92</th>\n",
       "      <td>2020-04-01</td>\n",
       "      <td>4053.0</td>\n",
       "      <td>839.0</td>\n",
       "      <td>NaN</td>\n",
       "      <td>NaN</td>\n",
       "    </tr>\n",
       "    <tr>\n",
       "      <th>91</th>\n",
       "      <td>2020-03-31</td>\n",
       "      <td>4050.0</td>\n",
       "      <td>810.0</td>\n",
       "      <td>NaN</td>\n",
       "      <td>NaN</td>\n",
       "    </tr>\n",
       "    <tr>\n",
       "      <th>82</th>\n",
       "      <td>2020-03-22</td>\n",
       "      <td>6557.0</td>\n",
       "      <td>795.0</td>\n",
       "      <td>NaN</td>\n",
       "      <td>NaN</td>\n",
       "    </tr>\n",
       "    <tr>\n",
       "      <th>95</th>\n",
       "      <td>2020-04-04</td>\n",
       "      <td>4585.0</td>\n",
       "      <td>764.0</td>\n",
       "      <td>NaN</td>\n",
       "      <td>NaN</td>\n",
       "    </tr>\n",
       "    <tr>\n",
       "      <th>94</th>\n",
       "      <td>2020-04-03</td>\n",
       "      <td>4668.0</td>\n",
       "      <td>760.0</td>\n",
       "      <td>NaN</td>\n",
       "      <td>NaN</td>\n",
       "    </tr>\n",
       "    <tr>\n",
       "      <th>90</th>\n",
       "      <td>2020-03-30</td>\n",
       "      <td>5217.0</td>\n",
       "      <td>758.0</td>\n",
       "      <td>NaN</td>\n",
       "      <td>NaN</td>\n",
       "    </tr>\n",
       "    <tr>\n",
       "      <th>85</th>\n",
       "      <td>2020-03-25</td>\n",
       "      <td>5249.0</td>\n",
       "      <td>743.0</td>\n",
       "      <td>NaN</td>\n",
       "      <td>NaN</td>\n",
       "    </tr>\n",
       "    <tr>\n",
       "      <th>93</th>\n",
       "      <td>2020-04-02</td>\n",
       "      <td>4782.0</td>\n",
       "      <td>727.0</td>\n",
       "      <td>NaN</td>\n",
       "      <td>NaN</td>\n",
       "    </tr>\n",
       "  </tbody>\n",
       "</table>\n",
       "</div>"
      ],
      "text/plain": [
       "          date  new_cases  new_deaths  new_tests  new_positive_rate\n",
       "88  2020-03-28     5959.0       971.0        NaN                NaN\n",
       "89  2020-03-29     5974.0       887.0        NaN                NaN\n",
       "92  2020-04-01     4053.0       839.0        NaN                NaN\n",
       "91  2020-03-31     4050.0       810.0        NaN                NaN\n",
       "82  2020-03-22     6557.0       795.0        NaN                NaN\n",
       "95  2020-04-04     4585.0       764.0        NaN                NaN\n",
       "94  2020-04-03     4668.0       760.0        NaN                NaN\n",
       "90  2020-03-30     5217.0       758.0        NaN                NaN\n",
       "85  2020-03-25     5249.0       743.0        NaN                NaN\n",
       "93  2020-04-02     4782.0       727.0        NaN                NaN"
      ]
     },
     "execution_count": 45,
     "metadata": {},
     "output_type": "execute_result"
    }
   ],
   "source": [
    "covid_df.sort_values('new_deaths', ascending=False).head(10) #Days with more no. of new_deaths"
   ]
  },
  {
   "cell_type": "code",
   "execution_count": 46,
   "id": "ab2a3c59",
   "metadata": {
    "execution": {
     "iopub.execute_input": "2025-01-31T19:10:12.771025Z",
     "iopub.status.busy": "2025-01-31T19:10:12.770707Z",
     "iopub.status.idle": "2025-01-31T19:10:12.781864Z",
     "shell.execute_reply": "2025-01-31T19:10:12.780925Z"
    },
    "papermill": {
     "duration": 0.03247,
     "end_time": "2025-01-31T19:10:12.783427",
     "exception": false,
     "start_time": "2025-01-31T19:10:12.750957",
     "status": "completed"
    },
    "tags": []
   },
   "outputs": [
    {
     "data": {
      "text/html": [
       "<div>\n",
       "<style scoped>\n",
       "    .dataframe tbody tr th:only-of-type {\n",
       "        vertical-align: middle;\n",
       "    }\n",
       "\n",
       "    .dataframe tbody tr th {\n",
       "        vertical-align: top;\n",
       "    }\n",
       "\n",
       "    .dataframe thead th {\n",
       "        text-align: right;\n",
       "    }\n",
       "</style>\n",
       "<table border=\"1\" class=\"dataframe\">\n",
       "  <thead>\n",
       "    <tr style=\"text-align: right;\">\n",
       "      <th></th>\n",
       "      <th>date</th>\n",
       "      <th>new_cases</th>\n",
       "      <th>new_deaths</th>\n",
       "      <th>new_tests</th>\n",
       "      <th>new_positive_rate</th>\n",
       "    </tr>\n",
       "  </thead>\n",
       "  <tbody>\n",
       "    <tr>\n",
       "      <th>172</th>\n",
       "      <td>2020-06-20</td>\n",
       "      <td>-148.0</td>\n",
       "      <td>47.0</td>\n",
       "      <td>29875.0</td>\n",
       "      <td>-0.004954</td>\n",
       "    </tr>\n",
       "    <tr>\n",
       "      <th>0</th>\n",
       "      <td>2019-12-31</td>\n",
       "      <td>0.0</td>\n",
       "      <td>0.0</td>\n",
       "      <td>NaN</td>\n",
       "      <td>NaN</td>\n",
       "    </tr>\n",
       "    <tr>\n",
       "      <th>29</th>\n",
       "      <td>2020-01-29</td>\n",
       "      <td>0.0</td>\n",
       "      <td>0.0</td>\n",
       "      <td>NaN</td>\n",
       "      <td>NaN</td>\n",
       "    </tr>\n",
       "    <tr>\n",
       "      <th>30</th>\n",
       "      <td>2020-01-30</td>\n",
       "      <td>0.0</td>\n",
       "      <td>0.0</td>\n",
       "      <td>NaN</td>\n",
       "      <td>NaN</td>\n",
       "    </tr>\n",
       "    <tr>\n",
       "      <th>32</th>\n",
       "      <td>2020-02-01</td>\n",
       "      <td>0.0</td>\n",
       "      <td>0.0</td>\n",
       "      <td>NaN</td>\n",
       "      <td>NaN</td>\n",
       "    </tr>\n",
       "    <tr>\n",
       "      <th>33</th>\n",
       "      <td>2020-02-02</td>\n",
       "      <td>0.0</td>\n",
       "      <td>0.0</td>\n",
       "      <td>NaN</td>\n",
       "      <td>NaN</td>\n",
       "    </tr>\n",
       "    <tr>\n",
       "      <th>34</th>\n",
       "      <td>2020-02-03</td>\n",
       "      <td>0.0</td>\n",
       "      <td>0.0</td>\n",
       "      <td>NaN</td>\n",
       "      <td>NaN</td>\n",
       "    </tr>\n",
       "    <tr>\n",
       "      <th>36</th>\n",
       "      <td>2020-02-05</td>\n",
       "      <td>0.0</td>\n",
       "      <td>0.0</td>\n",
       "      <td>NaN</td>\n",
       "      <td>NaN</td>\n",
       "    </tr>\n",
       "    <tr>\n",
       "      <th>37</th>\n",
       "      <td>2020-02-06</td>\n",
       "      <td>0.0</td>\n",
       "      <td>0.0</td>\n",
       "      <td>NaN</td>\n",
       "      <td>NaN</td>\n",
       "    </tr>\n",
       "    <tr>\n",
       "      <th>38</th>\n",
       "      <td>2020-02-07</td>\n",
       "      <td>0.0</td>\n",
       "      <td>0.0</td>\n",
       "      <td>NaN</td>\n",
       "      <td>NaN</td>\n",
       "    </tr>\n",
       "  </tbody>\n",
       "</table>\n",
       "</div>"
      ],
      "text/plain": [
       "           date  new_cases  new_deaths  new_tests  new_positive_rate\n",
       "172  2020-06-20     -148.0        47.0    29875.0          -0.004954\n",
       "0    2019-12-31        0.0         0.0        NaN                NaN\n",
       "29   2020-01-29        0.0         0.0        NaN                NaN\n",
       "30   2020-01-30        0.0         0.0        NaN                NaN\n",
       "32   2020-02-01        0.0         0.0        NaN                NaN\n",
       "33   2020-02-02        0.0         0.0        NaN                NaN\n",
       "34   2020-02-03        0.0         0.0        NaN                NaN\n",
       "36   2020-02-05        0.0         0.0        NaN                NaN\n",
       "37   2020-02-06        0.0         0.0        NaN                NaN\n",
       "38   2020-02-07        0.0         0.0        NaN                NaN"
      ]
     },
     "execution_count": 46,
     "metadata": {},
     "output_type": "execute_result"
    }
   ],
   "source": [
    "covid_df.sort_values('new_cases', ascending=True).head(10) ## We can exclude this ascending true statement, as it always prints true statements only"
   ]
  },
  {
   "cell_type": "markdown",
   "id": "73d77750",
   "metadata": {
    "papermill": {
     "duration": 0.018206,
     "end_time": "2025-01-31T19:10:12.820775",
     "exception": false,
     "start_time": "2025-01-31T19:10:12.802569",
     "status": "completed"
    },
    "tags": []
   },
   "source": [
    "It seems like the count of new cases on Jun 20, 2020, was `-148`, a negative number! Not something we might have expected, but that's the nature of real-world data. It could be a data entry error, or the government may have issued a correction to account for miscounting in the past. Can you dig through news articles online and figure out why the number was negative?\n",
    "\n",
    "Let's look at some days before and after Jun 20, 2020."
   ]
  },
  {
   "cell_type": "code",
   "execution_count": 47,
   "id": "cdbde0fb",
   "metadata": {
    "execution": {
     "iopub.execute_input": "2025-01-31T19:10:12.860005Z",
     "iopub.status.busy": "2025-01-31T19:10:12.859738Z",
     "iopub.status.idle": "2025-01-31T19:10:12.870237Z",
     "shell.execute_reply": "2025-01-31T19:10:12.869348Z"
    },
    "papermill": {
     "duration": 0.031991,
     "end_time": "2025-01-31T19:10:12.871786",
     "exception": false,
     "start_time": "2025-01-31T19:10:12.839795",
     "status": "completed"
    },
    "tags": []
   },
   "outputs": [
    {
     "data": {
      "text/html": [
       "<div>\n",
       "<style scoped>\n",
       "    .dataframe tbody tr th:only-of-type {\n",
       "        vertical-align: middle;\n",
       "    }\n",
       "\n",
       "    .dataframe tbody tr th {\n",
       "        vertical-align: top;\n",
       "    }\n",
       "\n",
       "    .dataframe thead th {\n",
       "        text-align: right;\n",
       "    }\n",
       "</style>\n",
       "<table border=\"1\" class=\"dataframe\">\n",
       "  <thead>\n",
       "    <tr style=\"text-align: right;\">\n",
       "      <th></th>\n",
       "      <th>date</th>\n",
       "      <th>new_cases</th>\n",
       "      <th>new_deaths</th>\n",
       "      <th>new_tests</th>\n",
       "      <th>new_positive_rate</th>\n",
       "    </tr>\n",
       "  </thead>\n",
       "  <tbody>\n",
       "    <tr>\n",
       "      <th>165</th>\n",
       "      <td>2020-06-13</td>\n",
       "      <td>163.0</td>\n",
       "      <td>56.0</td>\n",
       "      <td>32880.0</td>\n",
       "      <td>0.004957</td>\n",
       "    </tr>\n",
       "    <tr>\n",
       "      <th>166</th>\n",
       "      <td>2020-06-14</td>\n",
       "      <td>346.0</td>\n",
       "      <td>78.0</td>\n",
       "      <td>29545.0</td>\n",
       "      <td>0.011711</td>\n",
       "    </tr>\n",
       "    <tr>\n",
       "      <th>167</th>\n",
       "      <td>2020-06-15</td>\n",
       "      <td>338.0</td>\n",
       "      <td>44.0</td>\n",
       "      <td>17463.0</td>\n",
       "      <td>0.019355</td>\n",
       "    </tr>\n",
       "    <tr>\n",
       "      <th>168</th>\n",
       "      <td>2020-06-16</td>\n",
       "      <td>301.0</td>\n",
       "      <td>26.0</td>\n",
       "      <td>27762.0</td>\n",
       "      <td>0.010842</td>\n",
       "    </tr>\n",
       "    <tr>\n",
       "      <th>169</th>\n",
       "      <td>2020-06-17</td>\n",
       "      <td>210.0</td>\n",
       "      <td>34.0</td>\n",
       "      <td>33957.0</td>\n",
       "      <td>0.006184</td>\n",
       "    </tr>\n",
       "    <tr>\n",
       "      <th>170</th>\n",
       "      <td>2020-06-18</td>\n",
       "      <td>328.0</td>\n",
       "      <td>43.0</td>\n",
       "      <td>32921.0</td>\n",
       "      <td>0.009963</td>\n",
       "    </tr>\n",
       "    <tr>\n",
       "      <th>171</th>\n",
       "      <td>2020-06-19</td>\n",
       "      <td>331.0</td>\n",
       "      <td>66.0</td>\n",
       "      <td>28570.0</td>\n",
       "      <td>0.011586</td>\n",
       "    </tr>\n",
       "    <tr>\n",
       "      <th>172</th>\n",
       "      <td>2020-06-20</td>\n",
       "      <td>-148.0</td>\n",
       "      <td>47.0</td>\n",
       "      <td>29875.0</td>\n",
       "      <td>-0.004954</td>\n",
       "    </tr>\n",
       "    <tr>\n",
       "      <th>173</th>\n",
       "      <td>2020-06-21</td>\n",
       "      <td>264.0</td>\n",
       "      <td>49.0</td>\n",
       "      <td>24581.0</td>\n",
       "      <td>0.010740</td>\n",
       "    </tr>\n",
       "    <tr>\n",
       "      <th>174</th>\n",
       "      <td>2020-06-22</td>\n",
       "      <td>224.0</td>\n",
       "      <td>24.0</td>\n",
       "      <td>16152.0</td>\n",
       "      <td>0.013868</td>\n",
       "    </tr>\n",
       "    <tr>\n",
       "      <th>175</th>\n",
       "      <td>2020-06-23</td>\n",
       "      <td>221.0</td>\n",
       "      <td>23.0</td>\n",
       "      <td>23225.0</td>\n",
       "      <td>0.009516</td>\n",
       "    </tr>\n",
       "  </tbody>\n",
       "</table>\n",
       "</div>"
      ],
      "text/plain": [
       "           date  new_cases  new_deaths  new_tests  new_positive_rate\n",
       "165  2020-06-13      163.0        56.0    32880.0           0.004957\n",
       "166  2020-06-14      346.0        78.0    29545.0           0.011711\n",
       "167  2020-06-15      338.0        44.0    17463.0           0.019355\n",
       "168  2020-06-16      301.0        26.0    27762.0           0.010842\n",
       "169  2020-06-17      210.0        34.0    33957.0           0.006184\n",
       "170  2020-06-18      328.0        43.0    32921.0           0.009963\n",
       "171  2020-06-19      331.0        66.0    28570.0           0.011586\n",
       "172  2020-06-20     -148.0        47.0    29875.0          -0.004954\n",
       "173  2020-06-21      264.0        49.0    24581.0           0.010740\n",
       "174  2020-06-22      224.0        24.0    16152.0           0.013868\n",
       "175  2020-06-23      221.0        23.0    23225.0           0.009516"
      ]
     },
     "execution_count": 47,
     "metadata": {},
     "output_type": "execute_result"
    }
   ],
   "source": [
    "covid_df.loc[165:175]"
   ]
  },
  {
   "cell_type": "markdown",
   "id": "13ff5c6e",
   "metadata": {
    "papermill": {
     "duration": 0.018814,
     "end_time": "2025-01-31T19:10:12.909917",
     "exception": false,
     "start_time": "2025-01-31T19:10:12.891103",
     "status": "completed"
    },
    "tags": []
   },
   "source": [
    "**Since, the entered value cannot be negative, it is a error while collecting data. Inorder to correct the data, we can follow these approaches**\n",
    "\n",
    "*  Replace its value by 0\n",
    "*  Replace its value by the average value of the whole column\n",
    "*  Replace its value by the average value of its previous and next data\n",
    "*  Discard the row entirely"
   ]
  },
  {
   "cell_type": "code",
   "execution_count": 48,
   "id": "84c131c5",
   "metadata": {
    "execution": {
     "iopub.execute_input": "2025-01-31T19:10:12.956344Z",
     "iopub.status.busy": "2025-01-31T19:10:12.956006Z",
     "iopub.status.idle": "2025-01-31T19:10:12.967849Z",
     "shell.execute_reply": "2025-01-31T19:10:12.967011Z"
    },
    "papermill": {
     "duration": 0.036621,
     "end_time": "2025-01-31T19:10:12.969242",
     "exception": false,
     "start_time": "2025-01-31T19:10:12.932621",
     "status": "completed"
    },
    "tags": []
   },
   "outputs": [
    {
     "data": {
      "text/html": [
       "<div>\n",
       "<style scoped>\n",
       "    .dataframe tbody tr th:only-of-type {\n",
       "        vertical-align: middle;\n",
       "    }\n",
       "\n",
       "    .dataframe tbody tr th {\n",
       "        vertical-align: top;\n",
       "    }\n",
       "\n",
       "    .dataframe thead th {\n",
       "        text-align: right;\n",
       "    }\n",
       "</style>\n",
       "<table border=\"1\" class=\"dataframe\">\n",
       "  <thead>\n",
       "    <tr style=\"text-align: right;\">\n",
       "      <th></th>\n",
       "      <th>date</th>\n",
       "      <th>new_cases</th>\n",
       "      <th>new_deaths</th>\n",
       "      <th>new_tests</th>\n",
       "      <th>new_positive_rate</th>\n",
       "    </tr>\n",
       "  </thead>\n",
       "  <tbody>\n",
       "    <tr>\n",
       "      <th>170</th>\n",
       "      <td>2020-06-18</td>\n",
       "      <td>328.0</td>\n",
       "      <td>43.0</td>\n",
       "      <td>32921.0</td>\n",
       "      <td>0.009963</td>\n",
       "    </tr>\n",
       "    <tr>\n",
       "      <th>171</th>\n",
       "      <td>2020-06-19</td>\n",
       "      <td>331.0</td>\n",
       "      <td>66.0</td>\n",
       "      <td>28570.0</td>\n",
       "      <td>0.011586</td>\n",
       "    </tr>\n",
       "    <tr>\n",
       "      <th>172</th>\n",
       "      <td>2020-06-20</td>\n",
       "      <td>297.5</td>\n",
       "      <td>47.0</td>\n",
       "      <td>29875.0</td>\n",
       "      <td>-0.004954</td>\n",
       "    </tr>\n",
       "    <tr>\n",
       "      <th>173</th>\n",
       "      <td>2020-06-21</td>\n",
       "      <td>264.0</td>\n",
       "      <td>49.0</td>\n",
       "      <td>24581.0</td>\n",
       "      <td>0.010740</td>\n",
       "    </tr>\n",
       "    <tr>\n",
       "      <th>174</th>\n",
       "      <td>2020-06-22</td>\n",
       "      <td>224.0</td>\n",
       "      <td>24.0</td>\n",
       "      <td>16152.0</td>\n",
       "      <td>0.013868</td>\n",
       "    </tr>\n",
       "    <tr>\n",
       "      <th>175</th>\n",
       "      <td>2020-06-23</td>\n",
       "      <td>221.0</td>\n",
       "      <td>23.0</td>\n",
       "      <td>23225.0</td>\n",
       "      <td>0.009516</td>\n",
       "    </tr>\n",
       "  </tbody>\n",
       "</table>\n",
       "</div>"
      ],
      "text/plain": [
       "           date  new_cases  new_deaths  new_tests  new_positive_rate\n",
       "170  2020-06-18      328.0        43.0    32921.0           0.009963\n",
       "171  2020-06-19      331.0        66.0    28570.0           0.011586\n",
       "172  2020-06-20      297.5        47.0    29875.0          -0.004954\n",
       "173  2020-06-21      264.0        49.0    24581.0           0.010740\n",
       "174  2020-06-22      224.0        24.0    16152.0           0.013868\n",
       "175  2020-06-23      221.0        23.0    23225.0           0.009516"
      ]
     },
     "execution_count": 48,
     "metadata": {},
     "output_type": "execute_result"
    }
   ],
   "source": [
    "covid_df.at[172, 'new_cases'] = (covid_df.at[171, 'new_cases'] + covid_df.at[173, 'new_cases'])/2\n",
    "covid_df.loc[170:175]"
   ]
  },
  {
   "cell_type": "markdown",
   "id": "95bc3c66",
   "metadata": {
    "papermill": {
     "duration": 0.019002,
     "end_time": "2025-01-31T19:10:13.010420",
     "exception": false,
     "start_time": "2025-01-31T19:10:12.991418",
     "status": "completed"
    },
    "tags": []
   },
   "source": [
    "**WORKING WITH DATES**\n",
    "\n",
    "Pandas is used for working with dates as it can be used to analyse based on days, months and even year-wise"
   ]
  },
  {
   "cell_type": "code",
   "execution_count": 49,
   "id": "f45c288b",
   "metadata": {
    "execution": {
     "iopub.execute_input": "2025-01-31T19:10:13.049582Z",
     "iopub.status.busy": "2025-01-31T19:10:13.048927Z",
     "iopub.status.idle": "2025-01-31T19:10:13.055837Z",
     "shell.execute_reply": "2025-01-31T19:10:13.055015Z"
    },
    "papermill": {
     "duration": 0.028727,
     "end_time": "2025-01-31T19:10:13.057627",
     "exception": false,
     "start_time": "2025-01-31T19:10:13.028900",
     "status": "completed"
    },
    "tags": []
   },
   "outputs": [
    {
     "data": {
      "text/plain": [
       "0      2019-12-31\n",
       "1      2020-01-01\n",
       "2      2020-01-02\n",
       "3      2020-01-03\n",
       "4      2020-01-04\n",
       "          ...    \n",
       "243    2020-08-30\n",
       "244    2020-08-31\n",
       "245    2020-09-01\n",
       "246    2020-09-02\n",
       "247    2020-09-03\n",
       "Name: date, Length: 248, dtype: object"
      ]
     },
     "execution_count": 49,
     "metadata": {},
     "output_type": "execute_result"
    }
   ],
   "source": [
    "covid_df.date\n",
    "#here the datatype is OBJECT"
   ]
  },
  {
   "cell_type": "markdown",
   "id": "d9d8f372",
   "metadata": {
    "papermill": {
     "duration": 0.018707,
     "end_time": "2025-01-31T19:10:13.095669",
     "exception": false,
     "start_time": "2025-01-31T19:10:13.076962",
     "status": "completed"
    },
    "tags": []
   },
   "source": [
    "Pandas does not know that this a date (since the name is date), so it can be converted to **datetime** using to_datetime()"
   ]
  },
  {
   "cell_type": "code",
   "execution_count": 50,
   "id": "03f62794",
   "metadata": {
    "execution": {
     "iopub.execute_input": "2025-01-31T19:10:13.137786Z",
     "iopub.status.busy": "2025-01-31T19:10:13.137525Z",
     "iopub.status.idle": "2025-01-31T19:10:13.149139Z",
     "shell.execute_reply": "2025-01-31T19:10:13.148254Z"
    },
    "papermill": {
     "duration": 0.034622,
     "end_time": "2025-01-31T19:10:13.150610",
     "exception": false,
     "start_time": "2025-01-31T19:10:13.115988",
     "status": "completed"
    },
    "tags": []
   },
   "outputs": [
    {
     "data": {
      "text/plain": [
       "0     2019-12-31\n",
       "1     2020-01-01\n",
       "2     2020-01-02\n",
       "3     2020-01-03\n",
       "4     2020-01-04\n",
       "         ...    \n",
       "243   2020-08-30\n",
       "244   2020-08-31\n",
       "245   2020-09-01\n",
       "246   2020-09-02\n",
       "247   2020-09-03\n",
       "Name: date, Length: 248, dtype: datetime64[ns]"
      ]
     },
     "execution_count": 50,
     "metadata": {},
     "output_type": "execute_result"
    }
   ],
   "source": [
    "covid_df['date'] = pd.to_datetime(covid_df.date)\n",
    "covid_df['date']\n",
    "## here the data type is DATATIME"
   ]
  },
  {
   "cell_type": "markdown",
   "id": "b5293932",
   "metadata": {
    "papermill": {
     "duration": 0.018135,
     "end_time": "2025-01-31T19:10:13.188315",
     "exception": false,
     "start_time": "2025-01-31T19:10:13.170180",
     "status": "completed"
    },
    "tags": []
   },
   "source": [
    "Note that the data type is changed to datetime 64 .\n",
    "\n",
    "**We can now extract different parts of the data into separate columns, using the DatetimeIndex class (view docs)**."
   ]
  },
  {
   "cell_type": "code",
   "execution_count": 51,
   "id": "e8449d89",
   "metadata": {
    "execution": {
     "iopub.execute_input": "2025-01-31T19:10:13.227575Z",
     "iopub.status.busy": "2025-01-31T19:10:13.227250Z",
     "iopub.status.idle": "2025-01-31T19:10:13.233625Z",
     "shell.execute_reply": "2025-01-31T19:10:13.232836Z"
    },
    "papermill": {
     "duration": 0.028194,
     "end_time": "2025-01-31T19:10:13.235099",
     "exception": false,
     "start_time": "2025-01-31T19:10:13.206905",
     "status": "completed"
    },
    "tags": []
   },
   "outputs": [],
   "source": [
    "covid_df['year'] = pd.DatetimeIndex(covid_df.date).year\n",
    "covid_df['month'] = pd.DatetimeIndex(covid_df.date).month\n",
    "covid_df['day'] = pd.DatetimeIndex(covid_df.date).day\n",
    "covid_df['weekday'] = pd.DatetimeIndex(covid_df.date).weekday"
   ]
  },
  {
   "cell_type": "code",
   "execution_count": 52,
   "id": "e8e22887",
   "metadata": {
    "execution": {
     "iopub.execute_input": "2025-01-31T19:10:13.274897Z",
     "iopub.status.busy": "2025-01-31T19:10:13.274645Z",
     "iopub.status.idle": "2025-01-31T19:10:13.287683Z",
     "shell.execute_reply": "2025-01-31T19:10:13.286847Z"
    },
    "papermill": {
     "duration": 0.034579,
     "end_time": "2025-01-31T19:10:13.289230",
     "exception": false,
     "start_time": "2025-01-31T19:10:13.254651",
     "status": "completed"
    },
    "tags": []
   },
   "outputs": [
    {
     "data": {
      "text/html": [
       "<div>\n",
       "<style scoped>\n",
       "    .dataframe tbody tr th:only-of-type {\n",
       "        vertical-align: middle;\n",
       "    }\n",
       "\n",
       "    .dataframe tbody tr th {\n",
       "        vertical-align: top;\n",
       "    }\n",
       "\n",
       "    .dataframe thead th {\n",
       "        text-align: right;\n",
       "    }\n",
       "</style>\n",
       "<table border=\"1\" class=\"dataframe\">\n",
       "  <thead>\n",
       "    <tr style=\"text-align: right;\">\n",
       "      <th></th>\n",
       "      <th>date</th>\n",
       "      <th>new_cases</th>\n",
       "      <th>new_deaths</th>\n",
       "      <th>new_tests</th>\n",
       "      <th>new_positive_rate</th>\n",
       "      <th>year</th>\n",
       "      <th>month</th>\n",
       "      <th>day</th>\n",
       "      <th>weekday</th>\n",
       "    </tr>\n",
       "  </thead>\n",
       "  <tbody>\n",
       "    <tr>\n",
       "      <th>0</th>\n",
       "      <td>2019-12-31</td>\n",
       "      <td>0.0</td>\n",
       "      <td>0.0</td>\n",
       "      <td>NaN</td>\n",
       "      <td>NaN</td>\n",
       "      <td>2019</td>\n",
       "      <td>12</td>\n",
       "      <td>31</td>\n",
       "      <td>1</td>\n",
       "    </tr>\n",
       "    <tr>\n",
       "      <th>1</th>\n",
       "      <td>2020-01-01</td>\n",
       "      <td>0.0</td>\n",
       "      <td>0.0</td>\n",
       "      <td>NaN</td>\n",
       "      <td>NaN</td>\n",
       "      <td>2020</td>\n",
       "      <td>1</td>\n",
       "      <td>1</td>\n",
       "      <td>2</td>\n",
       "    </tr>\n",
       "    <tr>\n",
       "      <th>2</th>\n",
       "      <td>2020-01-02</td>\n",
       "      <td>0.0</td>\n",
       "      <td>0.0</td>\n",
       "      <td>NaN</td>\n",
       "      <td>NaN</td>\n",
       "      <td>2020</td>\n",
       "      <td>1</td>\n",
       "      <td>2</td>\n",
       "      <td>3</td>\n",
       "    </tr>\n",
       "    <tr>\n",
       "      <th>3</th>\n",
       "      <td>2020-01-03</td>\n",
       "      <td>0.0</td>\n",
       "      <td>0.0</td>\n",
       "      <td>NaN</td>\n",
       "      <td>NaN</td>\n",
       "      <td>2020</td>\n",
       "      <td>1</td>\n",
       "      <td>3</td>\n",
       "      <td>4</td>\n",
       "    </tr>\n",
       "    <tr>\n",
       "      <th>4</th>\n",
       "      <td>2020-01-04</td>\n",
       "      <td>0.0</td>\n",
       "      <td>0.0</td>\n",
       "      <td>NaN</td>\n",
       "      <td>NaN</td>\n",
       "      <td>2020</td>\n",
       "      <td>1</td>\n",
       "      <td>4</td>\n",
       "      <td>5</td>\n",
       "    </tr>\n",
       "    <tr>\n",
       "      <th>...</th>\n",
       "      <td>...</td>\n",
       "      <td>...</td>\n",
       "      <td>...</td>\n",
       "      <td>...</td>\n",
       "      <td>...</td>\n",
       "      <td>...</td>\n",
       "      <td>...</td>\n",
       "      <td>...</td>\n",
       "      <td>...</td>\n",
       "    </tr>\n",
       "    <tr>\n",
       "      <th>243</th>\n",
       "      <td>2020-08-30</td>\n",
       "      <td>1444.0</td>\n",
       "      <td>1.0</td>\n",
       "      <td>53541.0</td>\n",
       "      <td>0.026970</td>\n",
       "      <td>2020</td>\n",
       "      <td>8</td>\n",
       "      <td>30</td>\n",
       "      <td>6</td>\n",
       "    </tr>\n",
       "    <tr>\n",
       "      <th>244</th>\n",
       "      <td>2020-08-31</td>\n",
       "      <td>1365.0</td>\n",
       "      <td>4.0</td>\n",
       "      <td>42583.0</td>\n",
       "      <td>0.032055</td>\n",
       "      <td>2020</td>\n",
       "      <td>8</td>\n",
       "      <td>31</td>\n",
       "      <td>0</td>\n",
       "    </tr>\n",
       "    <tr>\n",
       "      <th>245</th>\n",
       "      <td>2020-09-01</td>\n",
       "      <td>996.0</td>\n",
       "      <td>6.0</td>\n",
       "      <td>54395.0</td>\n",
       "      <td>0.018311</td>\n",
       "      <td>2020</td>\n",
       "      <td>9</td>\n",
       "      <td>1</td>\n",
       "      <td>1</td>\n",
       "    </tr>\n",
       "    <tr>\n",
       "      <th>246</th>\n",
       "      <td>2020-09-02</td>\n",
       "      <td>975.0</td>\n",
       "      <td>8.0</td>\n",
       "      <td>NaN</td>\n",
       "      <td>NaN</td>\n",
       "      <td>2020</td>\n",
       "      <td>9</td>\n",
       "      <td>2</td>\n",
       "      <td>2</td>\n",
       "    </tr>\n",
       "    <tr>\n",
       "      <th>247</th>\n",
       "      <td>2020-09-03</td>\n",
       "      <td>1326.0</td>\n",
       "      <td>6.0</td>\n",
       "      <td>NaN</td>\n",
       "      <td>NaN</td>\n",
       "      <td>2020</td>\n",
       "      <td>9</td>\n",
       "      <td>3</td>\n",
       "      <td>3</td>\n",
       "    </tr>\n",
       "  </tbody>\n",
       "</table>\n",
       "<p>248 rows × 9 columns</p>\n",
       "</div>"
      ],
      "text/plain": [
       "          date  new_cases  new_deaths  new_tests  new_positive_rate  year  \\\n",
       "0   2019-12-31        0.0         0.0        NaN                NaN  2019   \n",
       "1   2020-01-01        0.0         0.0        NaN                NaN  2020   \n",
       "2   2020-01-02        0.0         0.0        NaN                NaN  2020   \n",
       "3   2020-01-03        0.0         0.0        NaN                NaN  2020   \n",
       "4   2020-01-04        0.0         0.0        NaN                NaN  2020   \n",
       "..         ...        ...         ...        ...                ...   ...   \n",
       "243 2020-08-30     1444.0         1.0    53541.0           0.026970  2020   \n",
       "244 2020-08-31     1365.0         4.0    42583.0           0.032055  2020   \n",
       "245 2020-09-01      996.0         6.0    54395.0           0.018311  2020   \n",
       "246 2020-09-02      975.0         8.0        NaN                NaN  2020   \n",
       "247 2020-09-03     1326.0         6.0        NaN                NaN  2020   \n",
       "\n",
       "     month  day  weekday  \n",
       "0       12   31        1  \n",
       "1        1    1        2  \n",
       "2        1    2        3  \n",
       "3        1    3        4  \n",
       "4        1    4        5  \n",
       "..     ...  ...      ...  \n",
       "243      8   30        6  \n",
       "244      8   31        0  \n",
       "245      9    1        1  \n",
       "246      9    2        2  \n",
       "247      9    3        3  \n",
       "\n",
       "[248 rows x 9 columns]"
      ]
     },
     "execution_count": 52,
     "metadata": {},
     "output_type": "execute_result"
    }
   ],
   "source": [
    "covid_df"
   ]
  },
  {
   "cell_type": "markdown",
   "id": "603d1398",
   "metadata": {
    "papermill": {
     "duration": 0.01884,
     "end_time": "2025-01-31T19:10:13.328095",
     "exception": false,
     "start_time": "2025-01-31T19:10:13.309255",
     "status": "completed"
    },
    "tags": []
   },
   "source": [
    "**WE CAN CHECK THE TOTAL METRICS FOR MAY.**\n",
    "\n",
    "We can query the rows for May, choose a subset of columns, and use the sum method to aggregate each selected column's values."
   ]
  },
  {
   "cell_type": "code",
   "execution_count": 53,
   "id": "6327ada1",
   "metadata": {
    "execution": {
     "iopub.execute_input": "2025-01-31T19:10:13.368704Z",
     "iopub.status.busy": "2025-01-31T19:10:13.368441Z",
     "iopub.status.idle": "2025-01-31T19:10:13.374424Z",
     "shell.execute_reply": "2025-01-31T19:10:13.373620Z"
    },
    "papermill": {
     "duration": 0.028055,
     "end_time": "2025-01-31T19:10:13.375857",
     "exception": false,
     "start_time": "2025-01-31T19:10:13.347802",
     "status": "completed"
    },
    "tags": []
   },
   "outputs": [],
   "source": [
    "#Ouery the rows for May\n",
    "covid_df_may = covid_df[covid_df.month == 5]\n",
    "\n",
    "#Choosing subset of columns\n",
    "covid_df_may_metrics = covid_df_may[['new_cases', 'new_deaths', 'new_tests']]\n",
    "\n",
    "#Column wise sum\n",
    "covid_may_totals = covid_df_may_metrics.sum()\n",
    "\n"
   ]
  },
  {
   "cell_type": "code",
   "execution_count": 54,
   "id": "362a9ca1",
   "metadata": {
    "execution": {
     "iopub.execute_input": "2025-01-31T19:10:13.417328Z",
     "iopub.status.busy": "2025-01-31T19:10:13.417003Z",
     "iopub.status.idle": "2025-01-31T19:10:13.422954Z",
     "shell.execute_reply": "2025-01-31T19:10:13.422235Z"
    },
    "papermill": {
     "duration": 0.028526,
     "end_time": "2025-01-31T19:10:13.424597",
     "exception": false,
     "start_time": "2025-01-31T19:10:13.396071",
     "status": "completed"
    },
    "tags": []
   },
   "outputs": [
    {
     "data": {
      "text/plain": [
       "new_cases       29073.0\n",
       "new_deaths       5658.0\n",
       "new_tests     1078720.0\n",
       "dtype: float64"
      ]
     },
     "execution_count": 54,
     "metadata": {},
     "output_type": "execute_result"
    }
   ],
   "source": [
    "covid_may_totals"
   ]
  },
  {
   "cell_type": "code",
   "execution_count": 55,
   "id": "ce360075",
   "metadata": {
    "execution": {
     "iopub.execute_input": "2025-01-31T19:10:13.465694Z",
     "iopub.status.busy": "2025-01-31T19:10:13.465424Z",
     "iopub.status.idle": "2025-01-31T19:10:13.470684Z",
     "shell.execute_reply": "2025-01-31T19:10:13.469849Z"
    },
    "papermill": {
     "duration": 0.028041,
     "end_time": "2025-01-31T19:10:13.472506",
     "exception": false,
     "start_time": "2025-01-31T19:10:13.444465",
     "status": "completed"
    },
    "tags": []
   },
   "outputs": [
    {
     "data": {
      "text/plain": [
       "pandas.core.series.Series"
      ]
     },
     "execution_count": 55,
     "metadata": {},
     "output_type": "execute_result"
    }
   ],
   "source": [
    "type(covid_may_totals)"
   ]
  },
  {
   "cell_type": "code",
   "execution_count": 56,
   "id": "6575947e",
   "metadata": {
    "execution": {
     "iopub.execute_input": "2025-01-31T19:10:13.514607Z",
     "iopub.status.busy": "2025-01-31T19:10:13.514313Z",
     "iopub.status.idle": "2025-01-31T19:10:13.521980Z",
     "shell.execute_reply": "2025-01-31T19:10:13.521306Z"
    },
    "papermill": {
     "duration": 0.030966,
     "end_time": "2025-01-31T19:10:13.523813",
     "exception": false,
     "start_time": "2025-01-31T19:10:13.492847",
     "status": "completed"
    },
    "tags": []
   },
   "outputs": [
    {
     "data": {
      "text/plain": [
       "new_cases       29073.0\n",
       "new_deaths       5658.0\n",
       "new_tests     1078720.0\n",
       "dtype: float64"
      ]
     },
     "execution_count": 56,
     "metadata": {},
     "output_type": "execute_result"
    }
   ],
   "source": [
    "## Above code can be written in single line as\n",
    "covid_may_totals = covid_df[covid_df.month == 5][['new_cases', 'new_deaths', 'new_tests']].sum()\n",
    "covid_may_totals"
   ]
  },
  {
   "cell_type": "markdown",
   "id": "76e95948",
   "metadata": {
    "papermill": {
     "duration": 0.019157,
     "end_time": "2025-01-31T19:10:13.562624",
     "exception": false,
     "start_time": "2025-01-31T19:10:13.543467",
     "status": "completed"
    },
    "tags": []
   },
   "source": [
    "Let's check if the number of cases reported on Sundays is higher than the average number of cases reported every day. This time, we might want to aggregate columns using the **.mean method.**"
   ]
  },
  {
   "cell_type": "code",
   "execution_count": 57,
   "id": "604542c7",
   "metadata": {
    "execution": {
     "iopub.execute_input": "2025-01-31T19:10:13.602578Z",
     "iopub.status.busy": "2025-01-31T19:10:13.602285Z",
     "iopub.status.idle": "2025-01-31T19:10:13.607783Z",
     "shell.execute_reply": "2025-01-31T19:10:13.606998Z"
    },
    "papermill": {
     "duration": 0.027556,
     "end_time": "2025-01-31T19:10:13.609251",
     "exception": false,
     "start_time": "2025-01-31T19:10:13.581695",
     "status": "completed"
    },
    "tags": []
   },
   "outputs": [
    {
     "data": {
      "text/plain": [
       "1096.6149193548388"
      ]
     },
     "execution_count": 57,
     "metadata": {},
     "output_type": "execute_result"
    }
   ],
   "source": [
    "#Total Average\n",
    "covid_df.new_cases.mean()"
   ]
  },
  {
   "cell_type": "code",
   "execution_count": 58,
   "id": "12936294",
   "metadata": {
    "execution": {
     "iopub.execute_input": "2025-01-31T19:10:13.650523Z",
     "iopub.status.busy": "2025-01-31T19:10:13.650174Z",
     "iopub.status.idle": "2025-01-31T19:10:13.658477Z",
     "shell.execute_reply": "2025-01-31T19:10:13.657640Z"
    },
    "papermill": {
     "duration": 0.030353,
     "end_time": "2025-01-31T19:10:13.659922",
     "exception": false,
     "start_time": "2025-01-31T19:10:13.629569",
     "status": "completed"
    },
    "tags": []
   },
   "outputs": [
    {
     "data": {
      "text/plain": [
       "1247.2571428571428"
      ]
     },
     "execution_count": 58,
     "metadata": {},
     "output_type": "execute_result"
    }
   ],
   "source": [
    "#Number of new_cases in Sunday Average\n",
    "covid_df[covid_df.weekday == 6].new_cases.mean()"
   ]
  },
  {
   "cell_type": "markdown",
   "id": "3d780588",
   "metadata": {
    "papermill": {
     "duration": 0.01961,
     "end_time": "2025-01-31T19:10:13.699295",
     "exception": false,
     "start_time": "2025-01-31T19:10:13.679685",
     "status": "completed"
    },
    "tags": []
   },
   "source": [
    "**GROUPING AND AGGREGATION**\n",
    "\n",
    "We can create a new dataframe with month-wise data. This is called grouping of data. We can use the groupby function to create a group for each month, select the columns we wish to aggregate, and aggregate them using the sum method."
   ]
  },
  {
   "cell_type": "code",
   "execution_count": 59,
   "id": "5c4e43ba",
   "metadata": {
    "execution": {
     "iopub.execute_input": "2025-01-31T19:10:13.741008Z",
     "iopub.status.busy": "2025-01-31T19:10:13.740405Z",
     "iopub.status.idle": "2025-01-31T19:10:13.753230Z",
     "shell.execute_reply": "2025-01-31T19:10:13.752168Z"
    },
    "papermill": {
     "duration": 0.036228,
     "end_time": "2025-01-31T19:10:13.755526",
     "exception": false,
     "start_time": "2025-01-31T19:10:13.719298",
     "status": "completed"
    },
    "tags": []
   },
   "outputs": [
    {
     "data": {
      "text/html": [
       "<div>\n",
       "<style scoped>\n",
       "    .dataframe tbody tr th:only-of-type {\n",
       "        vertical-align: middle;\n",
       "    }\n",
       "\n",
       "    .dataframe tbody tr th {\n",
       "        vertical-align: top;\n",
       "    }\n",
       "\n",
       "    .dataframe thead th {\n",
       "        text-align: right;\n",
       "    }\n",
       "</style>\n",
       "<table border=\"1\" class=\"dataframe\">\n",
       "  <thead>\n",
       "    <tr style=\"text-align: right;\">\n",
       "      <th></th>\n",
       "      <th>date</th>\n",
       "      <th>new_cases</th>\n",
       "      <th>new_deaths</th>\n",
       "      <th>new_tests</th>\n",
       "      <th>new_positive_rate</th>\n",
       "      <th>year</th>\n",
       "      <th>month</th>\n",
       "      <th>day</th>\n",
       "      <th>weekday</th>\n",
       "    </tr>\n",
       "  </thead>\n",
       "  <tbody>\n",
       "    <tr>\n",
       "      <th>0</th>\n",
       "      <td>2019-12-31</td>\n",
       "      <td>0.0</td>\n",
       "      <td>0.0</td>\n",
       "      <td>NaN</td>\n",
       "      <td>NaN</td>\n",
       "      <td>2019</td>\n",
       "      <td>12</td>\n",
       "      <td>31</td>\n",
       "      <td>1</td>\n",
       "    </tr>\n",
       "    <tr>\n",
       "      <th>1</th>\n",
       "      <td>2020-01-01</td>\n",
       "      <td>0.0</td>\n",
       "      <td>0.0</td>\n",
       "      <td>NaN</td>\n",
       "      <td>NaN</td>\n",
       "      <td>2020</td>\n",
       "      <td>1</td>\n",
       "      <td>1</td>\n",
       "      <td>2</td>\n",
       "    </tr>\n",
       "    <tr>\n",
       "      <th>2</th>\n",
       "      <td>2020-01-02</td>\n",
       "      <td>0.0</td>\n",
       "      <td>0.0</td>\n",
       "      <td>NaN</td>\n",
       "      <td>NaN</td>\n",
       "      <td>2020</td>\n",
       "      <td>1</td>\n",
       "      <td>2</td>\n",
       "      <td>3</td>\n",
       "    </tr>\n",
       "    <tr>\n",
       "      <th>3</th>\n",
       "      <td>2020-01-03</td>\n",
       "      <td>0.0</td>\n",
       "      <td>0.0</td>\n",
       "      <td>NaN</td>\n",
       "      <td>NaN</td>\n",
       "      <td>2020</td>\n",
       "      <td>1</td>\n",
       "      <td>3</td>\n",
       "      <td>4</td>\n",
       "    </tr>\n",
       "    <tr>\n",
       "      <th>4</th>\n",
       "      <td>2020-01-04</td>\n",
       "      <td>0.0</td>\n",
       "      <td>0.0</td>\n",
       "      <td>NaN</td>\n",
       "      <td>NaN</td>\n",
       "      <td>2020</td>\n",
       "      <td>1</td>\n",
       "      <td>4</td>\n",
       "      <td>5</td>\n",
       "    </tr>\n",
       "    <tr>\n",
       "      <th>...</th>\n",
       "      <td>...</td>\n",
       "      <td>...</td>\n",
       "      <td>...</td>\n",
       "      <td>...</td>\n",
       "      <td>...</td>\n",
       "      <td>...</td>\n",
       "      <td>...</td>\n",
       "      <td>...</td>\n",
       "      <td>...</td>\n",
       "    </tr>\n",
       "    <tr>\n",
       "      <th>243</th>\n",
       "      <td>2020-08-30</td>\n",
       "      <td>1444.0</td>\n",
       "      <td>1.0</td>\n",
       "      <td>53541.0</td>\n",
       "      <td>0.026970</td>\n",
       "      <td>2020</td>\n",
       "      <td>8</td>\n",
       "      <td>30</td>\n",
       "      <td>6</td>\n",
       "    </tr>\n",
       "    <tr>\n",
       "      <th>244</th>\n",
       "      <td>2020-08-31</td>\n",
       "      <td>1365.0</td>\n",
       "      <td>4.0</td>\n",
       "      <td>42583.0</td>\n",
       "      <td>0.032055</td>\n",
       "      <td>2020</td>\n",
       "      <td>8</td>\n",
       "      <td>31</td>\n",
       "      <td>0</td>\n",
       "    </tr>\n",
       "    <tr>\n",
       "      <th>245</th>\n",
       "      <td>2020-09-01</td>\n",
       "      <td>996.0</td>\n",
       "      <td>6.0</td>\n",
       "      <td>54395.0</td>\n",
       "      <td>0.018311</td>\n",
       "      <td>2020</td>\n",
       "      <td>9</td>\n",
       "      <td>1</td>\n",
       "      <td>1</td>\n",
       "    </tr>\n",
       "    <tr>\n",
       "      <th>246</th>\n",
       "      <td>2020-09-02</td>\n",
       "      <td>975.0</td>\n",
       "      <td>8.0</td>\n",
       "      <td>NaN</td>\n",
       "      <td>NaN</td>\n",
       "      <td>2020</td>\n",
       "      <td>9</td>\n",
       "      <td>2</td>\n",
       "      <td>2</td>\n",
       "    </tr>\n",
       "    <tr>\n",
       "      <th>247</th>\n",
       "      <td>2020-09-03</td>\n",
       "      <td>1326.0</td>\n",
       "      <td>6.0</td>\n",
       "      <td>NaN</td>\n",
       "      <td>NaN</td>\n",
       "      <td>2020</td>\n",
       "      <td>9</td>\n",
       "      <td>3</td>\n",
       "      <td>3</td>\n",
       "    </tr>\n",
       "  </tbody>\n",
       "</table>\n",
       "<p>248 rows × 9 columns</p>\n",
       "</div>"
      ],
      "text/plain": [
       "          date  new_cases  new_deaths  new_tests  new_positive_rate  year  \\\n",
       "0   2019-12-31        0.0         0.0        NaN                NaN  2019   \n",
       "1   2020-01-01        0.0         0.0        NaN                NaN  2020   \n",
       "2   2020-01-02        0.0         0.0        NaN                NaN  2020   \n",
       "3   2020-01-03        0.0         0.0        NaN                NaN  2020   \n",
       "4   2020-01-04        0.0         0.0        NaN                NaN  2020   \n",
       "..         ...        ...         ...        ...                ...   ...   \n",
       "243 2020-08-30     1444.0         1.0    53541.0           0.026970  2020   \n",
       "244 2020-08-31     1365.0         4.0    42583.0           0.032055  2020   \n",
       "245 2020-09-01      996.0         6.0    54395.0           0.018311  2020   \n",
       "246 2020-09-02      975.0         8.0        NaN                NaN  2020   \n",
       "247 2020-09-03     1326.0         6.0        NaN                NaN  2020   \n",
       "\n",
       "     month  day  weekday  \n",
       "0       12   31        1  \n",
       "1        1    1        2  \n",
       "2        1    2        3  \n",
       "3        1    3        4  \n",
       "4        1    4        5  \n",
       "..     ...  ...      ...  \n",
       "243      8   30        6  \n",
       "244      8   31        0  \n",
       "245      9    1        1  \n",
       "246      9    2        2  \n",
       "247      9    3        3  \n",
       "\n",
       "[248 rows x 9 columns]"
      ]
     },
     "execution_count": 59,
     "metadata": {},
     "output_type": "execute_result"
    }
   ],
   "source": [
    "covid_df"
   ]
  },
  {
   "cell_type": "code",
   "execution_count": 60,
   "id": "e80f0d14",
   "metadata": {
    "execution": {
     "iopub.execute_input": "2025-01-31T19:10:13.797573Z",
     "iopub.status.busy": "2025-01-31T19:10:13.797221Z",
     "iopub.status.idle": "2025-01-31T19:10:13.813667Z",
     "shell.execute_reply": "2025-01-31T19:10:13.812841Z"
    },
    "papermill": {
     "duration": 0.03941,
     "end_time": "2025-01-31T19:10:13.815136",
     "exception": false,
     "start_time": "2025-01-31T19:10:13.775726",
     "status": "completed"
    },
    "tags": []
   },
   "outputs": [
    {
     "data": {
      "text/html": [
       "<div>\n",
       "<style scoped>\n",
       "    .dataframe tbody tr th:only-of-type {\n",
       "        vertical-align: middle;\n",
       "    }\n",
       "\n",
       "    .dataframe tbody tr th {\n",
       "        vertical-align: top;\n",
       "    }\n",
       "\n",
       "    .dataframe thead th {\n",
       "        text-align: right;\n",
       "    }\n",
       "</style>\n",
       "<table border=\"1\" class=\"dataframe\">\n",
       "  <thead>\n",
       "    <tr style=\"text-align: right;\">\n",
       "      <th></th>\n",
       "      <th>new_cases</th>\n",
       "      <th>new_deaths</th>\n",
       "      <th>new_tests</th>\n",
       "    </tr>\n",
       "    <tr>\n",
       "      <th>month</th>\n",
       "      <th></th>\n",
       "      <th></th>\n",
       "      <th></th>\n",
       "    </tr>\n",
       "  </thead>\n",
       "  <tbody>\n",
       "    <tr>\n",
       "      <th>1</th>\n",
       "      <td>3.0</td>\n",
       "      <td>0.0</td>\n",
       "      <td>0.0</td>\n",
       "    </tr>\n",
       "    <tr>\n",
       "      <th>2</th>\n",
       "      <td>885.0</td>\n",
       "      <td>21.0</td>\n",
       "      <td>0.0</td>\n",
       "    </tr>\n",
       "    <tr>\n",
       "      <th>3</th>\n",
       "      <td>100851.0</td>\n",
       "      <td>11570.0</td>\n",
       "      <td>0.0</td>\n",
       "    </tr>\n",
       "    <tr>\n",
       "      <th>4</th>\n",
       "      <td>101852.0</td>\n",
       "      <td>16091.0</td>\n",
       "      <td>419591.0</td>\n",
       "    </tr>\n",
       "    <tr>\n",
       "      <th>5</th>\n",
       "      <td>29073.0</td>\n",
       "      <td>5658.0</td>\n",
       "      <td>1078720.0</td>\n",
       "    </tr>\n",
       "    <tr>\n",
       "      <th>6</th>\n",
       "      <td>8217.5</td>\n",
       "      <td>1404.0</td>\n",
       "      <td>830354.0</td>\n",
       "    </tr>\n",
       "    <tr>\n",
       "      <th>7</th>\n",
       "      <td>6722.0</td>\n",
       "      <td>388.0</td>\n",
       "      <td>797692.0</td>\n",
       "    </tr>\n",
       "    <tr>\n",
       "      <th>8</th>\n",
       "      <td>21060.0</td>\n",
       "      <td>345.0</td>\n",
       "      <td>1098704.0</td>\n",
       "    </tr>\n",
       "    <tr>\n",
       "      <th>9</th>\n",
       "      <td>3297.0</td>\n",
       "      <td>20.0</td>\n",
       "      <td>54395.0</td>\n",
       "    </tr>\n",
       "    <tr>\n",
       "      <th>12</th>\n",
       "      <td>0.0</td>\n",
       "      <td>0.0</td>\n",
       "      <td>0.0</td>\n",
       "    </tr>\n",
       "  </tbody>\n",
       "</table>\n",
       "</div>"
      ],
      "text/plain": [
       "       new_cases  new_deaths  new_tests\n",
       "month                                  \n",
       "1            3.0         0.0        0.0\n",
       "2          885.0        21.0        0.0\n",
       "3       100851.0     11570.0        0.0\n",
       "4       101852.0     16091.0   419591.0\n",
       "5        29073.0      5658.0  1078720.0\n",
       "6         8217.5      1404.0   830354.0\n",
       "7         6722.0       388.0   797692.0\n",
       "8        21060.0       345.0  1098704.0\n",
       "9         3297.0        20.0    54395.0\n",
       "12           0.0         0.0        0.0"
      ]
     },
     "execution_count": 60,
     "metadata": {},
     "output_type": "execute_result"
    }
   ],
   "source": [
    "covid_month_df = covid_df.groupby('month')[['new_cases', 'new_deaths', 'new_tests']].sum()\n",
    "covid_month_df"
   ]
  },
  {
   "cell_type": "markdown",
   "id": "9c1e7608",
   "metadata": {
    "papermill": {
     "duration": 0.019632,
     "end_time": "2025-01-31T19:10:13.855240",
     "exception": false,
     "start_time": "2025-01-31T19:10:13.835608",
     "status": "completed"
    },
    "tags": []
   },
   "source": [
    "**GROUPING AND AGGREGATION**\n",
    "\n",
    "**Grouping and aggregation** is a powerful method for progressively summarizing data into smaller data frames.\n",
    "\n",
    "Instead of aggregating by sum, you can also aggregate by other measures like mean. Let's compute the average number of daily new cases, deaths, and tests for each month."
   ]
  },
  {
   "cell_type": "code",
   "execution_count": 61,
   "id": "f98848eb",
   "metadata": {
    "execution": {
     "iopub.execute_input": "2025-01-31T19:10:13.896853Z",
     "iopub.status.busy": "2025-01-31T19:10:13.896570Z",
     "iopub.status.idle": "2025-01-31T19:10:13.909155Z",
     "shell.execute_reply": "2025-01-31T19:10:13.908232Z"
    },
    "papermill": {
     "duration": 0.035694,
     "end_time": "2025-01-31T19:10:13.911083",
     "exception": false,
     "start_time": "2025-01-31T19:10:13.875389",
     "status": "completed"
    },
    "tags": []
   },
   "outputs": [
    {
     "data": {
      "text/html": [
       "<div>\n",
       "<style scoped>\n",
       "    .dataframe tbody tr th:only-of-type {\n",
       "        vertical-align: middle;\n",
       "    }\n",
       "\n",
       "    .dataframe tbody tr th {\n",
       "        vertical-align: top;\n",
       "    }\n",
       "\n",
       "    .dataframe thead th {\n",
       "        text-align: right;\n",
       "    }\n",
       "</style>\n",
       "<table border=\"1\" class=\"dataframe\">\n",
       "  <thead>\n",
       "    <tr style=\"text-align: right;\">\n",
       "      <th></th>\n",
       "      <th>new_cases</th>\n",
       "      <th>new_deaths</th>\n",
       "      <th>new_tests</th>\n",
       "    </tr>\n",
       "    <tr>\n",
       "      <th>month</th>\n",
       "      <th></th>\n",
       "      <th></th>\n",
       "      <th></th>\n",
       "    </tr>\n",
       "  </thead>\n",
       "  <tbody>\n",
       "    <tr>\n",
       "      <th>1</th>\n",
       "      <td>0.096774</td>\n",
       "      <td>0.000000</td>\n",
       "      <td>NaN</td>\n",
       "    </tr>\n",
       "    <tr>\n",
       "      <th>2</th>\n",
       "      <td>30.517241</td>\n",
       "      <td>0.724138</td>\n",
       "      <td>NaN</td>\n",
       "    </tr>\n",
       "    <tr>\n",
       "      <th>3</th>\n",
       "      <td>3253.258065</td>\n",
       "      <td>373.225806</td>\n",
       "      <td>NaN</td>\n",
       "    </tr>\n",
       "    <tr>\n",
       "      <th>4</th>\n",
       "      <td>3395.066667</td>\n",
       "      <td>536.366667</td>\n",
       "      <td>38144.636364</td>\n",
       "    </tr>\n",
       "    <tr>\n",
       "      <th>5</th>\n",
       "      <td>937.838710</td>\n",
       "      <td>182.516129</td>\n",
       "      <td>34797.419355</td>\n",
       "    </tr>\n",
       "    <tr>\n",
       "      <th>6</th>\n",
       "      <td>273.916667</td>\n",
       "      <td>46.800000</td>\n",
       "      <td>27678.466667</td>\n",
       "    </tr>\n",
       "    <tr>\n",
       "      <th>7</th>\n",
       "      <td>216.838710</td>\n",
       "      <td>12.516129</td>\n",
       "      <td>25732.000000</td>\n",
       "    </tr>\n",
       "    <tr>\n",
       "      <th>8</th>\n",
       "      <td>679.354839</td>\n",
       "      <td>11.129032</td>\n",
       "      <td>35442.064516</td>\n",
       "    </tr>\n",
       "    <tr>\n",
       "      <th>9</th>\n",
       "      <td>1099.000000</td>\n",
       "      <td>6.666667</td>\n",
       "      <td>54395.000000</td>\n",
       "    </tr>\n",
       "    <tr>\n",
       "      <th>12</th>\n",
       "      <td>0.000000</td>\n",
       "      <td>0.000000</td>\n",
       "      <td>NaN</td>\n",
       "    </tr>\n",
       "  </tbody>\n",
       "</table>\n",
       "</div>"
      ],
      "text/plain": [
       "         new_cases  new_deaths     new_tests\n",
       "month                                       \n",
       "1         0.096774    0.000000           NaN\n",
       "2        30.517241    0.724138           NaN\n",
       "3      3253.258065  373.225806           NaN\n",
       "4      3395.066667  536.366667  38144.636364\n",
       "5       937.838710  182.516129  34797.419355\n",
       "6       273.916667   46.800000  27678.466667\n",
       "7       216.838710   12.516129  25732.000000\n",
       "8       679.354839   11.129032  35442.064516\n",
       "9      1099.000000    6.666667  54395.000000\n",
       "12        0.000000    0.000000           NaN"
      ]
     },
     "execution_count": 61,
     "metadata": {},
     "output_type": "execute_result"
    }
   ],
   "source": [
    "covid_month_mean_df = covid_df.groupby('month')[['new_cases', 'new_deaths', 'new_tests']].mean()\n",
    "covid_month_mean_df"
   ]
  },
  {
   "cell_type": "markdown",
   "id": "68593659",
   "metadata": {
    "papermill": {
     "duration": 0.020278,
     "end_time": "2025-01-31T19:10:13.951839",
     "exception": false,
     "start_time": "2025-01-31T19:10:13.931561",
     "status": "completed"
    },
    "tags": []
   },
   "source": [
    "Apart from grouping, another form of aggregation is the running or cumulative sum of cases, tests, or death up to each row's date. We can use the `cumsum` method to compute the cumulative sum of a column as a new series. Let's add three new columns: `total_cases`, `total_deaths`, and `total_tests`."
   ]
  },
  {
   "cell_type": "code",
   "execution_count": 62,
   "id": "082fa488",
   "metadata": {
    "execution": {
     "iopub.execute_input": "2025-01-31T19:10:13.993147Z",
     "iopub.status.busy": "2025-01-31T19:10:13.992877Z",
     "iopub.status.idle": "2025-01-31T19:10:14.009145Z",
     "shell.execute_reply": "2025-01-31T19:10:14.008301Z"
    },
    "papermill": {
     "duration": 0.038832,
     "end_time": "2025-01-31T19:10:14.010760",
     "exception": false,
     "start_time": "2025-01-31T19:10:13.971928",
     "status": "completed"
    },
    "tags": []
   },
   "outputs": [
    {
     "data": {
      "text/html": [
       "<div>\n",
       "<style scoped>\n",
       "    .dataframe tbody tr th:only-of-type {\n",
       "        vertical-align: middle;\n",
       "    }\n",
       "\n",
       "    .dataframe tbody tr th {\n",
       "        vertical-align: top;\n",
       "    }\n",
       "\n",
       "    .dataframe thead th {\n",
       "        text-align: right;\n",
       "    }\n",
       "</style>\n",
       "<table border=\"1\" class=\"dataframe\">\n",
       "  <thead>\n",
       "    <tr style=\"text-align: right;\">\n",
       "      <th></th>\n",
       "      <th>date</th>\n",
       "      <th>new_cases</th>\n",
       "      <th>new_deaths</th>\n",
       "      <th>new_tests</th>\n",
       "      <th>new_positive_rate</th>\n",
       "      <th>year</th>\n",
       "      <th>month</th>\n",
       "      <th>day</th>\n",
       "      <th>weekday</th>\n",
       "      <th>total_cases</th>\n",
       "      <th>total_deaths</th>\n",
       "      <th>total_tests</th>\n",
       "    </tr>\n",
       "  </thead>\n",
       "  <tbody>\n",
       "    <tr>\n",
       "      <th>0</th>\n",
       "      <td>2019-12-31</td>\n",
       "      <td>0.0</td>\n",
       "      <td>0.0</td>\n",
       "      <td>NaN</td>\n",
       "      <td>NaN</td>\n",
       "      <td>2019</td>\n",
       "      <td>12</td>\n",
       "      <td>31</td>\n",
       "      <td>1</td>\n",
       "      <td>0.0</td>\n",
       "      <td>0.0</td>\n",
       "      <td>NaN</td>\n",
       "    </tr>\n",
       "    <tr>\n",
       "      <th>1</th>\n",
       "      <td>2020-01-01</td>\n",
       "      <td>0.0</td>\n",
       "      <td>0.0</td>\n",
       "      <td>NaN</td>\n",
       "      <td>NaN</td>\n",
       "      <td>2020</td>\n",
       "      <td>1</td>\n",
       "      <td>1</td>\n",
       "      <td>2</td>\n",
       "      <td>0.0</td>\n",
       "      <td>0.0</td>\n",
       "      <td>NaN</td>\n",
       "    </tr>\n",
       "    <tr>\n",
       "      <th>2</th>\n",
       "      <td>2020-01-02</td>\n",
       "      <td>0.0</td>\n",
       "      <td>0.0</td>\n",
       "      <td>NaN</td>\n",
       "      <td>NaN</td>\n",
       "      <td>2020</td>\n",
       "      <td>1</td>\n",
       "      <td>2</td>\n",
       "      <td>3</td>\n",
       "      <td>0.0</td>\n",
       "      <td>0.0</td>\n",
       "      <td>NaN</td>\n",
       "    </tr>\n",
       "    <tr>\n",
       "      <th>3</th>\n",
       "      <td>2020-01-03</td>\n",
       "      <td>0.0</td>\n",
       "      <td>0.0</td>\n",
       "      <td>NaN</td>\n",
       "      <td>NaN</td>\n",
       "      <td>2020</td>\n",
       "      <td>1</td>\n",
       "      <td>3</td>\n",
       "      <td>4</td>\n",
       "      <td>0.0</td>\n",
       "      <td>0.0</td>\n",
       "      <td>NaN</td>\n",
       "    </tr>\n",
       "    <tr>\n",
       "      <th>4</th>\n",
       "      <td>2020-01-04</td>\n",
       "      <td>0.0</td>\n",
       "      <td>0.0</td>\n",
       "      <td>NaN</td>\n",
       "      <td>NaN</td>\n",
       "      <td>2020</td>\n",
       "      <td>1</td>\n",
       "      <td>4</td>\n",
       "      <td>5</td>\n",
       "      <td>0.0</td>\n",
       "      <td>0.0</td>\n",
       "      <td>NaN</td>\n",
       "    </tr>\n",
       "    <tr>\n",
       "      <th>...</th>\n",
       "      <td>...</td>\n",
       "      <td>...</td>\n",
       "      <td>...</td>\n",
       "      <td>...</td>\n",
       "      <td>...</td>\n",
       "      <td>...</td>\n",
       "      <td>...</td>\n",
       "      <td>...</td>\n",
       "      <td>...</td>\n",
       "      <td>...</td>\n",
       "      <td>...</td>\n",
       "      <td>...</td>\n",
       "    </tr>\n",
       "    <tr>\n",
       "      <th>243</th>\n",
       "      <td>2020-08-30</td>\n",
       "      <td>1444.0</td>\n",
       "      <td>1.0</td>\n",
       "      <td>53541.0</td>\n",
       "      <td>0.026970</td>\n",
       "      <td>2020</td>\n",
       "      <td>8</td>\n",
       "      <td>30</td>\n",
       "      <td>6</td>\n",
       "      <td>267298.5</td>\n",
       "      <td>35473.0</td>\n",
       "      <td>5117788.0</td>\n",
       "    </tr>\n",
       "    <tr>\n",
       "      <th>244</th>\n",
       "      <td>2020-08-31</td>\n",
       "      <td>1365.0</td>\n",
       "      <td>4.0</td>\n",
       "      <td>42583.0</td>\n",
       "      <td>0.032055</td>\n",
       "      <td>2020</td>\n",
       "      <td>8</td>\n",
       "      <td>31</td>\n",
       "      <td>0</td>\n",
       "      <td>268663.5</td>\n",
       "      <td>35477.0</td>\n",
       "      <td>5160371.0</td>\n",
       "    </tr>\n",
       "    <tr>\n",
       "      <th>245</th>\n",
       "      <td>2020-09-01</td>\n",
       "      <td>996.0</td>\n",
       "      <td>6.0</td>\n",
       "      <td>54395.0</td>\n",
       "      <td>0.018311</td>\n",
       "      <td>2020</td>\n",
       "      <td>9</td>\n",
       "      <td>1</td>\n",
       "      <td>1</td>\n",
       "      <td>269659.5</td>\n",
       "      <td>35483.0</td>\n",
       "      <td>5214766.0</td>\n",
       "    </tr>\n",
       "    <tr>\n",
       "      <th>246</th>\n",
       "      <td>2020-09-02</td>\n",
       "      <td>975.0</td>\n",
       "      <td>8.0</td>\n",
       "      <td>NaN</td>\n",
       "      <td>NaN</td>\n",
       "      <td>2020</td>\n",
       "      <td>9</td>\n",
       "      <td>2</td>\n",
       "      <td>2</td>\n",
       "      <td>270634.5</td>\n",
       "      <td>35491.0</td>\n",
       "      <td>NaN</td>\n",
       "    </tr>\n",
       "    <tr>\n",
       "      <th>247</th>\n",
       "      <td>2020-09-03</td>\n",
       "      <td>1326.0</td>\n",
       "      <td>6.0</td>\n",
       "      <td>NaN</td>\n",
       "      <td>NaN</td>\n",
       "      <td>2020</td>\n",
       "      <td>9</td>\n",
       "      <td>3</td>\n",
       "      <td>3</td>\n",
       "      <td>271960.5</td>\n",
       "      <td>35497.0</td>\n",
       "      <td>NaN</td>\n",
       "    </tr>\n",
       "  </tbody>\n",
       "</table>\n",
       "<p>248 rows × 12 columns</p>\n",
       "</div>"
      ],
      "text/plain": [
       "          date  new_cases  new_deaths  new_tests  new_positive_rate  year  \\\n",
       "0   2019-12-31        0.0         0.0        NaN                NaN  2019   \n",
       "1   2020-01-01        0.0         0.0        NaN                NaN  2020   \n",
       "2   2020-01-02        0.0         0.0        NaN                NaN  2020   \n",
       "3   2020-01-03        0.0         0.0        NaN                NaN  2020   \n",
       "4   2020-01-04        0.0         0.0        NaN                NaN  2020   \n",
       "..         ...        ...         ...        ...                ...   ...   \n",
       "243 2020-08-30     1444.0         1.0    53541.0           0.026970  2020   \n",
       "244 2020-08-31     1365.0         4.0    42583.0           0.032055  2020   \n",
       "245 2020-09-01      996.0         6.0    54395.0           0.018311  2020   \n",
       "246 2020-09-02      975.0         8.0        NaN                NaN  2020   \n",
       "247 2020-09-03     1326.0         6.0        NaN                NaN  2020   \n",
       "\n",
       "     month  day  weekday  total_cases  total_deaths  total_tests  \n",
       "0       12   31        1          0.0           0.0          NaN  \n",
       "1        1    1        2          0.0           0.0          NaN  \n",
       "2        1    2        3          0.0           0.0          NaN  \n",
       "3        1    3        4          0.0           0.0          NaN  \n",
       "4        1    4        5          0.0           0.0          NaN  \n",
       "..     ...  ...      ...          ...           ...          ...  \n",
       "243      8   30        6     267298.5       35473.0    5117788.0  \n",
       "244      8   31        0     268663.5       35477.0    5160371.0  \n",
       "245      9    1        1     269659.5       35483.0    5214766.0  \n",
       "246      9    2        2     270634.5       35491.0          NaN  \n",
       "247      9    3        3     271960.5       35497.0          NaN  \n",
       "\n",
       "[248 rows x 12 columns]"
      ]
     },
     "execution_count": 62,
     "metadata": {},
     "output_type": "execute_result"
    }
   ],
   "source": [
    "covid_df['total_cases'] = covid_df.new_cases.cumsum()\n",
    "covid_df['total_deaths'] = covid_df.new_deaths.cumsum()\n",
    "covid_df['total_tests'] = covid_df.new_tests.cumsum() + tests_before_reported\n",
    "covid_df"
   ]
  },
  {
   "cell_type": "markdown",
   "id": "8fc6621d",
   "metadata": {
    "papermill": {
     "duration": 0.019591,
     "end_time": "2025-01-31T19:10:14.050917",
     "exception": false,
     "start_time": "2025-01-31T19:10:14.031326",
     "status": "completed"
    },
    "tags": []
   },
   "source": [
    "**MERGING DATA FROM MULTIPLE SOURCES**\n",
    "\n",
    "To know about the other information test per million, cases per million, etc. We have to know the country's population. So we will download another csv file locations.csv which contains health-related information for many countries, including Italy"
   ]
  },
  {
   "cell_type": "code",
   "execution_count": 63,
   "id": "06476498",
   "metadata": {
    "execution": {
     "iopub.execute_input": "2025-01-31T19:10:14.091996Z",
     "iopub.status.busy": "2025-01-31T19:10:14.091702Z",
     "iopub.status.idle": "2025-01-31T19:10:14.737081Z",
     "shell.execute_reply": "2025-01-31T19:10:14.736130Z"
    },
    "papermill": {
     "duration": 0.667956,
     "end_time": "2025-01-31T19:10:14.738900",
     "exception": false,
     "start_time": "2025-01-31T19:10:14.070944",
     "status": "completed"
    },
    "tags": []
   },
   "outputs": [
    {
     "data": {
      "text/plain": [
       "('locations.csv', <http.client.HTTPMessage at 0x799076b33bb0>)"
      ]
     },
     "execution_count": 63,
     "metadata": {},
     "output_type": "execute_result"
    }
   ],
   "source": [
    "urlretrieve('https://gist.githubusercontent.com/aakashns/8684589ef4f266116cdce023377fc9c8/raw/99ce3826b2a9d1e6d0bde7e9e559fc8b6e9ac88b/locations.csv', \n",
    "            'locations.csv')\n"
   ]
  },
  {
   "cell_type": "code",
   "execution_count": 64,
   "id": "adbbfdbb",
   "metadata": {
    "execution": {
     "iopub.execute_input": "2025-01-31T19:10:14.782969Z",
     "iopub.status.busy": "2025-01-31T19:10:14.782698Z",
     "iopub.status.idle": "2025-01-31T19:10:14.796131Z",
     "shell.execute_reply": "2025-01-31T19:10:14.794977Z"
    },
    "papermill": {
     "duration": 0.037819,
     "end_time": "2025-01-31T19:10:14.797863",
     "exception": false,
     "start_time": "2025-01-31T19:10:14.760044",
     "status": "completed"
    },
    "tags": []
   },
   "outputs": [
    {
     "data": {
      "text/html": [
       "<div>\n",
       "<style scoped>\n",
       "    .dataframe tbody tr th:only-of-type {\n",
       "        vertical-align: middle;\n",
       "    }\n",
       "\n",
       "    .dataframe tbody tr th {\n",
       "        vertical-align: top;\n",
       "    }\n",
       "\n",
       "    .dataframe thead th {\n",
       "        text-align: right;\n",
       "    }\n",
       "</style>\n",
       "<table border=\"1\" class=\"dataframe\">\n",
       "  <thead>\n",
       "    <tr style=\"text-align: right;\">\n",
       "      <th></th>\n",
       "      <th>location</th>\n",
       "      <th>continent</th>\n",
       "      <th>population</th>\n",
       "      <th>life_expectancy</th>\n",
       "      <th>hospital_beds_per_thousand</th>\n",
       "      <th>gdp_per_capita</th>\n",
       "    </tr>\n",
       "  </thead>\n",
       "  <tbody>\n",
       "    <tr>\n",
       "      <th>0</th>\n",
       "      <td>Afghanistan</td>\n",
       "      <td>Asia</td>\n",
       "      <td>3.892834e+07</td>\n",
       "      <td>64.83</td>\n",
       "      <td>0.500</td>\n",
       "      <td>1803.987</td>\n",
       "    </tr>\n",
       "    <tr>\n",
       "      <th>1</th>\n",
       "      <td>Albania</td>\n",
       "      <td>Europe</td>\n",
       "      <td>2.877800e+06</td>\n",
       "      <td>78.57</td>\n",
       "      <td>2.890</td>\n",
       "      <td>11803.431</td>\n",
       "    </tr>\n",
       "    <tr>\n",
       "      <th>2</th>\n",
       "      <td>Algeria</td>\n",
       "      <td>Africa</td>\n",
       "      <td>4.385104e+07</td>\n",
       "      <td>76.88</td>\n",
       "      <td>1.900</td>\n",
       "      <td>13913.839</td>\n",
       "    </tr>\n",
       "    <tr>\n",
       "      <th>3</th>\n",
       "      <td>Andorra</td>\n",
       "      <td>Europe</td>\n",
       "      <td>7.726500e+04</td>\n",
       "      <td>83.73</td>\n",
       "      <td>NaN</td>\n",
       "      <td>NaN</td>\n",
       "    </tr>\n",
       "    <tr>\n",
       "      <th>4</th>\n",
       "      <td>Angola</td>\n",
       "      <td>Africa</td>\n",
       "      <td>3.286627e+07</td>\n",
       "      <td>61.15</td>\n",
       "      <td>NaN</td>\n",
       "      <td>5819.495</td>\n",
       "    </tr>\n",
       "    <tr>\n",
       "      <th>...</th>\n",
       "      <td>...</td>\n",
       "      <td>...</td>\n",
       "      <td>...</td>\n",
       "      <td>...</td>\n",
       "      <td>...</td>\n",
       "      <td>...</td>\n",
       "    </tr>\n",
       "    <tr>\n",
       "      <th>207</th>\n",
       "      <td>Yemen</td>\n",
       "      <td>Asia</td>\n",
       "      <td>2.982597e+07</td>\n",
       "      <td>66.12</td>\n",
       "      <td>0.700</td>\n",
       "      <td>1479.147</td>\n",
       "    </tr>\n",
       "    <tr>\n",
       "      <th>208</th>\n",
       "      <td>Zambia</td>\n",
       "      <td>Africa</td>\n",
       "      <td>1.838396e+07</td>\n",
       "      <td>63.89</td>\n",
       "      <td>2.000</td>\n",
       "      <td>3689.251</td>\n",
       "    </tr>\n",
       "    <tr>\n",
       "      <th>209</th>\n",
       "      <td>Zimbabwe</td>\n",
       "      <td>Africa</td>\n",
       "      <td>1.486293e+07</td>\n",
       "      <td>61.49</td>\n",
       "      <td>1.700</td>\n",
       "      <td>1899.775</td>\n",
       "    </tr>\n",
       "    <tr>\n",
       "      <th>210</th>\n",
       "      <td>World</td>\n",
       "      <td>NaN</td>\n",
       "      <td>7.794799e+09</td>\n",
       "      <td>72.58</td>\n",
       "      <td>2.705</td>\n",
       "      <td>15469.207</td>\n",
       "    </tr>\n",
       "    <tr>\n",
       "      <th>211</th>\n",
       "      <td>International</td>\n",
       "      <td>NaN</td>\n",
       "      <td>NaN</td>\n",
       "      <td>NaN</td>\n",
       "      <td>NaN</td>\n",
       "      <td>NaN</td>\n",
       "    </tr>\n",
       "  </tbody>\n",
       "</table>\n",
       "<p>212 rows × 6 columns</p>\n",
       "</div>"
      ],
      "text/plain": [
       "          location continent    population  life_expectancy  \\\n",
       "0      Afghanistan      Asia  3.892834e+07            64.83   \n",
       "1          Albania    Europe  2.877800e+06            78.57   \n",
       "2          Algeria    Africa  4.385104e+07            76.88   \n",
       "3          Andorra    Europe  7.726500e+04            83.73   \n",
       "4           Angola    Africa  3.286627e+07            61.15   \n",
       "..             ...       ...           ...              ...   \n",
       "207          Yemen      Asia  2.982597e+07            66.12   \n",
       "208         Zambia    Africa  1.838396e+07            63.89   \n",
       "209       Zimbabwe    Africa  1.486293e+07            61.49   \n",
       "210          World       NaN  7.794799e+09            72.58   \n",
       "211  International       NaN           NaN              NaN   \n",
       "\n",
       "     hospital_beds_per_thousand  gdp_per_capita  \n",
       "0                         0.500        1803.987  \n",
       "1                         2.890       11803.431  \n",
       "2                         1.900       13913.839  \n",
       "3                           NaN             NaN  \n",
       "4                           NaN        5819.495  \n",
       "..                          ...             ...  \n",
       "207                       0.700        1479.147  \n",
       "208                       2.000        3689.251  \n",
       "209                       1.700        1899.775  \n",
       "210                       2.705       15469.207  \n",
       "211                         NaN             NaN  \n",
       "\n",
       "[212 rows x 6 columns]"
      ]
     },
     "execution_count": 64,
     "metadata": {},
     "output_type": "execute_result"
    }
   ],
   "source": [
    "locations_df = pd.read_csv('locations.csv')\n",
    "locations_df"
   ]
  },
  {
   "cell_type": "code",
   "execution_count": 65,
   "id": "b76ec01e",
   "metadata": {
    "execution": {
     "iopub.execute_input": "2025-01-31T19:10:14.841985Z",
     "iopub.status.busy": "2025-01-31T19:10:14.841718Z",
     "iopub.status.idle": "2025-01-31T19:10:14.851468Z",
     "shell.execute_reply": "2025-01-31T19:10:14.850657Z"
    },
    "papermill": {
     "duration": 0.03426,
     "end_time": "2025-01-31T19:10:14.853023",
     "exception": false,
     "start_time": "2025-01-31T19:10:14.818763",
     "status": "completed"
    },
    "tags": []
   },
   "outputs": [
    {
     "data": {
      "text/html": [
       "<div>\n",
       "<style scoped>\n",
       "    .dataframe tbody tr th:only-of-type {\n",
       "        vertical-align: middle;\n",
       "    }\n",
       "\n",
       "    .dataframe tbody tr th {\n",
       "        vertical-align: top;\n",
       "    }\n",
       "\n",
       "    .dataframe thead th {\n",
       "        text-align: right;\n",
       "    }\n",
       "</style>\n",
       "<table border=\"1\" class=\"dataframe\">\n",
       "  <thead>\n",
       "    <tr style=\"text-align: right;\">\n",
       "      <th></th>\n",
       "      <th>location</th>\n",
       "      <th>continent</th>\n",
       "      <th>population</th>\n",
       "      <th>life_expectancy</th>\n",
       "      <th>hospital_beds_per_thousand</th>\n",
       "      <th>gdp_per_capita</th>\n",
       "    </tr>\n",
       "  </thead>\n",
       "  <tbody>\n",
       "    <tr>\n",
       "      <th>97</th>\n",
       "      <td>Italy</td>\n",
       "      <td>Europe</td>\n",
       "      <td>60461828.0</td>\n",
       "      <td>83.51</td>\n",
       "      <td>3.18</td>\n",
       "      <td>35220.084</td>\n",
       "    </tr>\n",
       "  </tbody>\n",
       "</table>\n",
       "</div>"
      ],
      "text/plain": [
       "   location continent  population  life_expectancy  \\\n",
       "97    Italy    Europe  60461828.0            83.51   \n",
       "\n",
       "    hospital_beds_per_thousand  gdp_per_capita  \n",
       "97                        3.18       35220.084  "
      ]
     },
     "execution_count": 65,
     "metadata": {},
     "output_type": "execute_result"
    }
   ],
   "source": [
    "locations_df[locations_df.location == 'Italy']"
   ]
  },
  {
   "cell_type": "markdown",
   "id": "5c2f437c",
   "metadata": {
    "papermill": {
     "duration": 0.021781,
     "end_time": "2025-01-31T19:10:14.899593",
     "exception": false,
     "start_time": "2025-01-31T19:10:14.877812",
     "status": "completed"
    },
    "tags": []
   },
   "source": [
    "**In order to merge two dataframes, atleast one of the column(series) should be common in both the dataframes. So we will insert the location column in covid_df**"
   ]
  },
  {
   "cell_type": "code",
   "execution_count": 66,
   "id": "7215d727",
   "metadata": {
    "execution": {
     "iopub.execute_input": "2025-01-31T19:10:14.944309Z",
     "iopub.status.busy": "2025-01-31T19:10:14.943988Z",
     "iopub.status.idle": "2025-01-31T19:10:14.959854Z",
     "shell.execute_reply": "2025-01-31T19:10:14.958652Z"
    },
    "papermill": {
     "duration": 0.040119,
     "end_time": "2025-01-31T19:10:14.961765",
     "exception": false,
     "start_time": "2025-01-31T19:10:14.921646",
     "status": "completed"
    },
    "tags": []
   },
   "outputs": [
    {
     "data": {
      "text/html": [
       "<div>\n",
       "<style scoped>\n",
       "    .dataframe tbody tr th:only-of-type {\n",
       "        vertical-align: middle;\n",
       "    }\n",
       "\n",
       "    .dataframe tbody tr th {\n",
       "        vertical-align: top;\n",
       "    }\n",
       "\n",
       "    .dataframe thead th {\n",
       "        text-align: right;\n",
       "    }\n",
       "</style>\n",
       "<table border=\"1\" class=\"dataframe\">\n",
       "  <thead>\n",
       "    <tr style=\"text-align: right;\">\n",
       "      <th></th>\n",
       "      <th>date</th>\n",
       "      <th>new_cases</th>\n",
       "      <th>new_deaths</th>\n",
       "      <th>new_tests</th>\n",
       "      <th>new_positive_rate</th>\n",
       "      <th>year</th>\n",
       "      <th>month</th>\n",
       "      <th>day</th>\n",
       "      <th>weekday</th>\n",
       "      <th>total_cases</th>\n",
       "      <th>total_deaths</th>\n",
       "      <th>total_tests</th>\n",
       "      <th>location</th>\n",
       "    </tr>\n",
       "  </thead>\n",
       "  <tbody>\n",
       "    <tr>\n",
       "      <th>0</th>\n",
       "      <td>2019-12-31</td>\n",
       "      <td>0.0</td>\n",
       "      <td>0.0</td>\n",
       "      <td>NaN</td>\n",
       "      <td>NaN</td>\n",
       "      <td>2019</td>\n",
       "      <td>12</td>\n",
       "      <td>31</td>\n",
       "      <td>1</td>\n",
       "      <td>0.0</td>\n",
       "      <td>0.0</td>\n",
       "      <td>NaN</td>\n",
       "      <td>Italy</td>\n",
       "    </tr>\n",
       "    <tr>\n",
       "      <th>1</th>\n",
       "      <td>2020-01-01</td>\n",
       "      <td>0.0</td>\n",
       "      <td>0.0</td>\n",
       "      <td>NaN</td>\n",
       "      <td>NaN</td>\n",
       "      <td>2020</td>\n",
       "      <td>1</td>\n",
       "      <td>1</td>\n",
       "      <td>2</td>\n",
       "      <td>0.0</td>\n",
       "      <td>0.0</td>\n",
       "      <td>NaN</td>\n",
       "      <td>Italy</td>\n",
       "    </tr>\n",
       "    <tr>\n",
       "      <th>2</th>\n",
       "      <td>2020-01-02</td>\n",
       "      <td>0.0</td>\n",
       "      <td>0.0</td>\n",
       "      <td>NaN</td>\n",
       "      <td>NaN</td>\n",
       "      <td>2020</td>\n",
       "      <td>1</td>\n",
       "      <td>2</td>\n",
       "      <td>3</td>\n",
       "      <td>0.0</td>\n",
       "      <td>0.0</td>\n",
       "      <td>NaN</td>\n",
       "      <td>Italy</td>\n",
       "    </tr>\n",
       "    <tr>\n",
       "      <th>3</th>\n",
       "      <td>2020-01-03</td>\n",
       "      <td>0.0</td>\n",
       "      <td>0.0</td>\n",
       "      <td>NaN</td>\n",
       "      <td>NaN</td>\n",
       "      <td>2020</td>\n",
       "      <td>1</td>\n",
       "      <td>3</td>\n",
       "      <td>4</td>\n",
       "      <td>0.0</td>\n",
       "      <td>0.0</td>\n",
       "      <td>NaN</td>\n",
       "      <td>Italy</td>\n",
       "    </tr>\n",
       "    <tr>\n",
       "      <th>4</th>\n",
       "      <td>2020-01-04</td>\n",
       "      <td>0.0</td>\n",
       "      <td>0.0</td>\n",
       "      <td>NaN</td>\n",
       "      <td>NaN</td>\n",
       "      <td>2020</td>\n",
       "      <td>1</td>\n",
       "      <td>4</td>\n",
       "      <td>5</td>\n",
       "      <td>0.0</td>\n",
       "      <td>0.0</td>\n",
       "      <td>NaN</td>\n",
       "      <td>Italy</td>\n",
       "    </tr>\n",
       "    <tr>\n",
       "      <th>...</th>\n",
       "      <td>...</td>\n",
       "      <td>...</td>\n",
       "      <td>...</td>\n",
       "      <td>...</td>\n",
       "      <td>...</td>\n",
       "      <td>...</td>\n",
       "      <td>...</td>\n",
       "      <td>...</td>\n",
       "      <td>...</td>\n",
       "      <td>...</td>\n",
       "      <td>...</td>\n",
       "      <td>...</td>\n",
       "      <td>...</td>\n",
       "    </tr>\n",
       "    <tr>\n",
       "      <th>243</th>\n",
       "      <td>2020-08-30</td>\n",
       "      <td>1444.0</td>\n",
       "      <td>1.0</td>\n",
       "      <td>53541.0</td>\n",
       "      <td>0.026970</td>\n",
       "      <td>2020</td>\n",
       "      <td>8</td>\n",
       "      <td>30</td>\n",
       "      <td>6</td>\n",
       "      <td>267298.5</td>\n",
       "      <td>35473.0</td>\n",
       "      <td>5117788.0</td>\n",
       "      <td>Italy</td>\n",
       "    </tr>\n",
       "    <tr>\n",
       "      <th>244</th>\n",
       "      <td>2020-08-31</td>\n",
       "      <td>1365.0</td>\n",
       "      <td>4.0</td>\n",
       "      <td>42583.0</td>\n",
       "      <td>0.032055</td>\n",
       "      <td>2020</td>\n",
       "      <td>8</td>\n",
       "      <td>31</td>\n",
       "      <td>0</td>\n",
       "      <td>268663.5</td>\n",
       "      <td>35477.0</td>\n",
       "      <td>5160371.0</td>\n",
       "      <td>Italy</td>\n",
       "    </tr>\n",
       "    <tr>\n",
       "      <th>245</th>\n",
       "      <td>2020-09-01</td>\n",
       "      <td>996.0</td>\n",
       "      <td>6.0</td>\n",
       "      <td>54395.0</td>\n",
       "      <td>0.018311</td>\n",
       "      <td>2020</td>\n",
       "      <td>9</td>\n",
       "      <td>1</td>\n",
       "      <td>1</td>\n",
       "      <td>269659.5</td>\n",
       "      <td>35483.0</td>\n",
       "      <td>5214766.0</td>\n",
       "      <td>Italy</td>\n",
       "    </tr>\n",
       "    <tr>\n",
       "      <th>246</th>\n",
       "      <td>2020-09-02</td>\n",
       "      <td>975.0</td>\n",
       "      <td>8.0</td>\n",
       "      <td>NaN</td>\n",
       "      <td>NaN</td>\n",
       "      <td>2020</td>\n",
       "      <td>9</td>\n",
       "      <td>2</td>\n",
       "      <td>2</td>\n",
       "      <td>270634.5</td>\n",
       "      <td>35491.0</td>\n",
       "      <td>NaN</td>\n",
       "      <td>Italy</td>\n",
       "    </tr>\n",
       "    <tr>\n",
       "      <th>247</th>\n",
       "      <td>2020-09-03</td>\n",
       "      <td>1326.0</td>\n",
       "      <td>6.0</td>\n",
       "      <td>NaN</td>\n",
       "      <td>NaN</td>\n",
       "      <td>2020</td>\n",
       "      <td>9</td>\n",
       "      <td>3</td>\n",
       "      <td>3</td>\n",
       "      <td>271960.5</td>\n",
       "      <td>35497.0</td>\n",
       "      <td>NaN</td>\n",
       "      <td>Italy</td>\n",
       "    </tr>\n",
       "  </tbody>\n",
       "</table>\n",
       "<p>248 rows × 13 columns</p>\n",
       "</div>"
      ],
      "text/plain": [
       "          date  new_cases  new_deaths  new_tests  new_positive_rate  year  \\\n",
       "0   2019-12-31        0.0         0.0        NaN                NaN  2019   \n",
       "1   2020-01-01        0.0         0.0        NaN                NaN  2020   \n",
       "2   2020-01-02        0.0         0.0        NaN                NaN  2020   \n",
       "3   2020-01-03        0.0         0.0        NaN                NaN  2020   \n",
       "4   2020-01-04        0.0         0.0        NaN                NaN  2020   \n",
       "..         ...        ...         ...        ...                ...   ...   \n",
       "243 2020-08-30     1444.0         1.0    53541.0           0.026970  2020   \n",
       "244 2020-08-31     1365.0         4.0    42583.0           0.032055  2020   \n",
       "245 2020-09-01      996.0         6.0    54395.0           0.018311  2020   \n",
       "246 2020-09-02      975.0         8.0        NaN                NaN  2020   \n",
       "247 2020-09-03     1326.0         6.0        NaN                NaN  2020   \n",
       "\n",
       "     month  day  weekday  total_cases  total_deaths  total_tests location  \n",
       "0       12   31        1          0.0           0.0          NaN    Italy  \n",
       "1        1    1        2          0.0           0.0          NaN    Italy  \n",
       "2        1    2        3          0.0           0.0          NaN    Italy  \n",
       "3        1    3        4          0.0           0.0          NaN    Italy  \n",
       "4        1    4        5          0.0           0.0          NaN    Italy  \n",
       "..     ...  ...      ...          ...           ...          ...      ...  \n",
       "243      8   30        6     267298.5       35473.0    5117788.0    Italy  \n",
       "244      8   31        0     268663.5       35477.0    5160371.0    Italy  \n",
       "245      9    1        1     269659.5       35483.0    5214766.0    Italy  \n",
       "246      9    2        2     270634.5       35491.0          NaN    Italy  \n",
       "247      9    3        3     271960.5       35497.0          NaN    Italy  \n",
       "\n",
       "[248 rows x 13 columns]"
      ]
     },
     "execution_count": 66,
     "metadata": {},
     "output_type": "execute_result"
    }
   ],
   "source": [
    "covid_df['location'] = \"Italy\" ##Since covid_df is for Italy, we are declaring Italy for all the columns so that it can be merged with locations.csv\n",
    "covid_df"
   ]
  },
  {
   "cell_type": "markdown",
   "id": "a1a0d257",
   "metadata": {
    "papermill": {
     "duration": 0.020833,
     "end_time": "2025-01-31T19:10:15.004081",
     "exception": false,
     "start_time": "2025-01-31T19:10:14.983248",
     "status": "completed"
    },
    "tags": []
   },
   "source": [
    "**We can now merge the dataframes with location as the common dataframe using .merge() method**"
   ]
  },
  {
   "cell_type": "code",
   "execution_count": 67,
   "id": "7e459112",
   "metadata": {
    "execution": {
     "iopub.execute_input": "2025-01-31T19:10:15.050043Z",
     "iopub.status.busy": "2025-01-31T19:10:15.049148Z",
     "iopub.status.idle": "2025-01-31T19:10:15.076831Z",
     "shell.execute_reply": "2025-01-31T19:10:15.075894Z"
    },
    "papermill": {
     "duration": 0.052393,
     "end_time": "2025-01-31T19:10:15.078407",
     "exception": false,
     "start_time": "2025-01-31T19:10:15.026014",
     "status": "completed"
    },
    "tags": []
   },
   "outputs": [
    {
     "data": {
      "text/html": [
       "<div>\n",
       "<style scoped>\n",
       "    .dataframe tbody tr th:only-of-type {\n",
       "        vertical-align: middle;\n",
       "    }\n",
       "\n",
       "    .dataframe tbody tr th {\n",
       "        vertical-align: top;\n",
       "    }\n",
       "\n",
       "    .dataframe thead th {\n",
       "        text-align: right;\n",
       "    }\n",
       "</style>\n",
       "<table border=\"1\" class=\"dataframe\">\n",
       "  <thead>\n",
       "    <tr style=\"text-align: right;\">\n",
       "      <th></th>\n",
       "      <th>date</th>\n",
       "      <th>new_cases</th>\n",
       "      <th>new_deaths</th>\n",
       "      <th>new_tests</th>\n",
       "      <th>new_positive_rate</th>\n",
       "      <th>year</th>\n",
       "      <th>month</th>\n",
       "      <th>day</th>\n",
       "      <th>weekday</th>\n",
       "      <th>total_cases</th>\n",
       "      <th>total_deaths</th>\n",
       "      <th>total_tests</th>\n",
       "      <th>location</th>\n",
       "      <th>continent</th>\n",
       "      <th>population</th>\n",
       "      <th>life_expectancy</th>\n",
       "      <th>hospital_beds_per_thousand</th>\n",
       "      <th>gdp_per_capita</th>\n",
       "    </tr>\n",
       "  </thead>\n",
       "  <tbody>\n",
       "    <tr>\n",
       "      <th>0</th>\n",
       "      <td>2019-12-31</td>\n",
       "      <td>0.0</td>\n",
       "      <td>0.0</td>\n",
       "      <td>NaN</td>\n",
       "      <td>NaN</td>\n",
       "      <td>2019</td>\n",
       "      <td>12</td>\n",
       "      <td>31</td>\n",
       "      <td>1</td>\n",
       "      <td>0.0</td>\n",
       "      <td>0.0</td>\n",
       "      <td>NaN</td>\n",
       "      <td>Italy</td>\n",
       "      <td>Europe</td>\n",
       "      <td>60461828.0</td>\n",
       "      <td>83.51</td>\n",
       "      <td>3.18</td>\n",
       "      <td>35220.084</td>\n",
       "    </tr>\n",
       "    <tr>\n",
       "      <th>1</th>\n",
       "      <td>2020-01-01</td>\n",
       "      <td>0.0</td>\n",
       "      <td>0.0</td>\n",
       "      <td>NaN</td>\n",
       "      <td>NaN</td>\n",
       "      <td>2020</td>\n",
       "      <td>1</td>\n",
       "      <td>1</td>\n",
       "      <td>2</td>\n",
       "      <td>0.0</td>\n",
       "      <td>0.0</td>\n",
       "      <td>NaN</td>\n",
       "      <td>Italy</td>\n",
       "      <td>Europe</td>\n",
       "      <td>60461828.0</td>\n",
       "      <td>83.51</td>\n",
       "      <td>3.18</td>\n",
       "      <td>35220.084</td>\n",
       "    </tr>\n",
       "    <tr>\n",
       "      <th>2</th>\n",
       "      <td>2020-01-02</td>\n",
       "      <td>0.0</td>\n",
       "      <td>0.0</td>\n",
       "      <td>NaN</td>\n",
       "      <td>NaN</td>\n",
       "      <td>2020</td>\n",
       "      <td>1</td>\n",
       "      <td>2</td>\n",
       "      <td>3</td>\n",
       "      <td>0.0</td>\n",
       "      <td>0.0</td>\n",
       "      <td>NaN</td>\n",
       "      <td>Italy</td>\n",
       "      <td>Europe</td>\n",
       "      <td>60461828.0</td>\n",
       "      <td>83.51</td>\n",
       "      <td>3.18</td>\n",
       "      <td>35220.084</td>\n",
       "    </tr>\n",
       "    <tr>\n",
       "      <th>3</th>\n",
       "      <td>2020-01-03</td>\n",
       "      <td>0.0</td>\n",
       "      <td>0.0</td>\n",
       "      <td>NaN</td>\n",
       "      <td>NaN</td>\n",
       "      <td>2020</td>\n",
       "      <td>1</td>\n",
       "      <td>3</td>\n",
       "      <td>4</td>\n",
       "      <td>0.0</td>\n",
       "      <td>0.0</td>\n",
       "      <td>NaN</td>\n",
       "      <td>Italy</td>\n",
       "      <td>Europe</td>\n",
       "      <td>60461828.0</td>\n",
       "      <td>83.51</td>\n",
       "      <td>3.18</td>\n",
       "      <td>35220.084</td>\n",
       "    </tr>\n",
       "    <tr>\n",
       "      <th>4</th>\n",
       "      <td>2020-01-04</td>\n",
       "      <td>0.0</td>\n",
       "      <td>0.0</td>\n",
       "      <td>NaN</td>\n",
       "      <td>NaN</td>\n",
       "      <td>2020</td>\n",
       "      <td>1</td>\n",
       "      <td>4</td>\n",
       "      <td>5</td>\n",
       "      <td>0.0</td>\n",
       "      <td>0.0</td>\n",
       "      <td>NaN</td>\n",
       "      <td>Italy</td>\n",
       "      <td>Europe</td>\n",
       "      <td>60461828.0</td>\n",
       "      <td>83.51</td>\n",
       "      <td>3.18</td>\n",
       "      <td>35220.084</td>\n",
       "    </tr>\n",
       "    <tr>\n",
       "      <th>...</th>\n",
       "      <td>...</td>\n",
       "      <td>...</td>\n",
       "      <td>...</td>\n",
       "      <td>...</td>\n",
       "      <td>...</td>\n",
       "      <td>...</td>\n",
       "      <td>...</td>\n",
       "      <td>...</td>\n",
       "      <td>...</td>\n",
       "      <td>...</td>\n",
       "      <td>...</td>\n",
       "      <td>...</td>\n",
       "      <td>...</td>\n",
       "      <td>...</td>\n",
       "      <td>...</td>\n",
       "      <td>...</td>\n",
       "      <td>...</td>\n",
       "      <td>...</td>\n",
       "    </tr>\n",
       "    <tr>\n",
       "      <th>243</th>\n",
       "      <td>2020-08-30</td>\n",
       "      <td>1444.0</td>\n",
       "      <td>1.0</td>\n",
       "      <td>53541.0</td>\n",
       "      <td>0.026970</td>\n",
       "      <td>2020</td>\n",
       "      <td>8</td>\n",
       "      <td>30</td>\n",
       "      <td>6</td>\n",
       "      <td>267298.5</td>\n",
       "      <td>35473.0</td>\n",
       "      <td>5117788.0</td>\n",
       "      <td>Italy</td>\n",
       "      <td>Europe</td>\n",
       "      <td>60461828.0</td>\n",
       "      <td>83.51</td>\n",
       "      <td>3.18</td>\n",
       "      <td>35220.084</td>\n",
       "    </tr>\n",
       "    <tr>\n",
       "      <th>244</th>\n",
       "      <td>2020-08-31</td>\n",
       "      <td>1365.0</td>\n",
       "      <td>4.0</td>\n",
       "      <td>42583.0</td>\n",
       "      <td>0.032055</td>\n",
       "      <td>2020</td>\n",
       "      <td>8</td>\n",
       "      <td>31</td>\n",
       "      <td>0</td>\n",
       "      <td>268663.5</td>\n",
       "      <td>35477.0</td>\n",
       "      <td>5160371.0</td>\n",
       "      <td>Italy</td>\n",
       "      <td>Europe</td>\n",
       "      <td>60461828.0</td>\n",
       "      <td>83.51</td>\n",
       "      <td>3.18</td>\n",
       "      <td>35220.084</td>\n",
       "    </tr>\n",
       "    <tr>\n",
       "      <th>245</th>\n",
       "      <td>2020-09-01</td>\n",
       "      <td>996.0</td>\n",
       "      <td>6.0</td>\n",
       "      <td>54395.0</td>\n",
       "      <td>0.018311</td>\n",
       "      <td>2020</td>\n",
       "      <td>9</td>\n",
       "      <td>1</td>\n",
       "      <td>1</td>\n",
       "      <td>269659.5</td>\n",
       "      <td>35483.0</td>\n",
       "      <td>5214766.0</td>\n",
       "      <td>Italy</td>\n",
       "      <td>Europe</td>\n",
       "      <td>60461828.0</td>\n",
       "      <td>83.51</td>\n",
       "      <td>3.18</td>\n",
       "      <td>35220.084</td>\n",
       "    </tr>\n",
       "    <tr>\n",
       "      <th>246</th>\n",
       "      <td>2020-09-02</td>\n",
       "      <td>975.0</td>\n",
       "      <td>8.0</td>\n",
       "      <td>NaN</td>\n",
       "      <td>NaN</td>\n",
       "      <td>2020</td>\n",
       "      <td>9</td>\n",
       "      <td>2</td>\n",
       "      <td>2</td>\n",
       "      <td>270634.5</td>\n",
       "      <td>35491.0</td>\n",
       "      <td>NaN</td>\n",
       "      <td>Italy</td>\n",
       "      <td>Europe</td>\n",
       "      <td>60461828.0</td>\n",
       "      <td>83.51</td>\n",
       "      <td>3.18</td>\n",
       "      <td>35220.084</td>\n",
       "    </tr>\n",
       "    <tr>\n",
       "      <th>247</th>\n",
       "      <td>2020-09-03</td>\n",
       "      <td>1326.0</td>\n",
       "      <td>6.0</td>\n",
       "      <td>NaN</td>\n",
       "      <td>NaN</td>\n",
       "      <td>2020</td>\n",
       "      <td>9</td>\n",
       "      <td>3</td>\n",
       "      <td>3</td>\n",
       "      <td>271960.5</td>\n",
       "      <td>35497.0</td>\n",
       "      <td>NaN</td>\n",
       "      <td>Italy</td>\n",
       "      <td>Europe</td>\n",
       "      <td>60461828.0</td>\n",
       "      <td>83.51</td>\n",
       "      <td>3.18</td>\n",
       "      <td>35220.084</td>\n",
       "    </tr>\n",
       "  </tbody>\n",
       "</table>\n",
       "<p>248 rows × 18 columns</p>\n",
       "</div>"
      ],
      "text/plain": [
       "          date  new_cases  new_deaths  new_tests  new_positive_rate  year  \\\n",
       "0   2019-12-31        0.0         0.0        NaN                NaN  2019   \n",
       "1   2020-01-01        0.0         0.0        NaN                NaN  2020   \n",
       "2   2020-01-02        0.0         0.0        NaN                NaN  2020   \n",
       "3   2020-01-03        0.0         0.0        NaN                NaN  2020   \n",
       "4   2020-01-04        0.0         0.0        NaN                NaN  2020   \n",
       "..         ...        ...         ...        ...                ...   ...   \n",
       "243 2020-08-30     1444.0         1.0    53541.0           0.026970  2020   \n",
       "244 2020-08-31     1365.0         4.0    42583.0           0.032055  2020   \n",
       "245 2020-09-01      996.0         6.0    54395.0           0.018311  2020   \n",
       "246 2020-09-02      975.0         8.0        NaN                NaN  2020   \n",
       "247 2020-09-03     1326.0         6.0        NaN                NaN  2020   \n",
       "\n",
       "     month  day  weekday  total_cases  total_deaths  total_tests location  \\\n",
       "0       12   31        1          0.0           0.0          NaN    Italy   \n",
       "1        1    1        2          0.0           0.0          NaN    Italy   \n",
       "2        1    2        3          0.0           0.0          NaN    Italy   \n",
       "3        1    3        4          0.0           0.0          NaN    Italy   \n",
       "4        1    4        5          0.0           0.0          NaN    Italy   \n",
       "..     ...  ...      ...          ...           ...          ...      ...   \n",
       "243      8   30        6     267298.5       35473.0    5117788.0    Italy   \n",
       "244      8   31        0     268663.5       35477.0    5160371.0    Italy   \n",
       "245      9    1        1     269659.5       35483.0    5214766.0    Italy   \n",
       "246      9    2        2     270634.5       35491.0          NaN    Italy   \n",
       "247      9    3        3     271960.5       35497.0          NaN    Italy   \n",
       "\n",
       "    continent  population  life_expectancy  hospital_beds_per_thousand  \\\n",
       "0      Europe  60461828.0            83.51                        3.18   \n",
       "1      Europe  60461828.0            83.51                        3.18   \n",
       "2      Europe  60461828.0            83.51                        3.18   \n",
       "3      Europe  60461828.0            83.51                        3.18   \n",
       "4      Europe  60461828.0            83.51                        3.18   \n",
       "..        ...         ...              ...                         ...   \n",
       "243    Europe  60461828.0            83.51                        3.18   \n",
       "244    Europe  60461828.0            83.51                        3.18   \n",
       "245    Europe  60461828.0            83.51                        3.18   \n",
       "246    Europe  60461828.0            83.51                        3.18   \n",
       "247    Europe  60461828.0            83.51                        3.18   \n",
       "\n",
       "     gdp_per_capita  \n",
       "0         35220.084  \n",
       "1         35220.084  \n",
       "2         35220.084  \n",
       "3         35220.084  \n",
       "4         35220.084  \n",
       "..              ...  \n",
       "243       35220.084  \n",
       "244       35220.084  \n",
       "245       35220.084  \n",
       "246       35220.084  \n",
       "247       35220.084  \n",
       "\n",
       "[248 rows x 18 columns]"
      ]
     },
     "execution_count": 67,
     "metadata": {},
     "output_type": "execute_result"
    }
   ],
   "source": [
    "merged_df = covid_df.merge(locations_df, on='location')\n",
    "merged_df"
   ]
  },
  {
   "cell_type": "markdown",
   "id": "f43a9e93",
   "metadata": {
    "papermill": {
     "duration": 0.022876,
     "end_time": "2025-01-31T19:10:15.123708",
     "exception": false,
     "start_time": "2025-01-31T19:10:15.100832",
     "status": "completed"
    },
    "tags": []
   },
   "source": [
    "**The locations for only Italy is appended(added) to each row of covid_df. If there are multiple countries present in covid_df, then the respective country's data is appended to its respective row**"
   ]
  },
  {
   "cell_type": "markdown",
   "id": "4427d418",
   "metadata": {
    "papermill": {
     "duration": 0.02191,
     "end_time": "2025-01-31T19:10:15.168676",
     "exception": false,
     "start_time": "2025-01-31T19:10:15.146766",
     "status": "completed"
    },
    "tags": []
   },
   "source": [
    "**Calculating parameters like cases per million, deaths per million, tests per million**\n",
    "\n",
    "**NOTE**\n",
    "\n",
    "*1e6 represents that 6 zeros are present in a million so it is written as 1 to exponent power of 6*"
   ]
  },
  {
   "cell_type": "code",
   "execution_count": 68,
   "id": "19342895",
   "metadata": {
    "execution": {
     "iopub.execute_input": "2025-01-31T19:10:15.212469Z",
     "iopub.status.busy": "2025-01-31T19:10:15.212156Z",
     "iopub.status.idle": "2025-01-31T19:10:15.217769Z",
     "shell.execute_reply": "2025-01-31T19:10:15.216648Z"
    },
    "papermill": {
     "duration": 0.030428,
     "end_time": "2025-01-31T19:10:15.219646",
     "exception": false,
     "start_time": "2025-01-31T19:10:15.189218",
     "status": "completed"
    },
    "tags": []
   },
   "outputs": [],
   "source": [
    "merged_df['cases_per_million'] = merged_df.total_cases * 1e6 / merged_df.population"
   ]
  },
  {
   "cell_type": "code",
   "execution_count": 69,
   "id": "b6e474d3",
   "metadata": {
    "execution": {
     "iopub.execute_input": "2025-01-31T19:10:15.264386Z",
     "iopub.status.busy": "2025-01-31T19:10:15.264057Z",
     "iopub.status.idle": "2025-01-31T19:10:15.269304Z",
     "shell.execute_reply": "2025-01-31T19:10:15.268339Z"
    },
    "papermill": {
     "duration": 0.029845,
     "end_time": "2025-01-31T19:10:15.271382",
     "exception": false,
     "start_time": "2025-01-31T19:10:15.241537",
     "status": "completed"
    },
    "tags": []
   },
   "outputs": [],
   "source": [
    "merged_df['deaths_per_million'] = merged_df.total_deaths * 1e6 / merged_df.population"
   ]
  },
  {
   "cell_type": "code",
   "execution_count": 70,
   "id": "5bd673fb",
   "metadata": {
    "execution": {
     "iopub.execute_input": "2025-01-31T19:10:15.320661Z",
     "iopub.status.busy": "2025-01-31T19:10:15.319803Z",
     "iopub.status.idle": "2025-01-31T19:10:15.325039Z",
     "shell.execute_reply": "2025-01-31T19:10:15.323947Z"
    },
    "papermill": {
     "duration": 0.032467,
     "end_time": "2025-01-31T19:10:15.326703",
     "exception": false,
     "start_time": "2025-01-31T19:10:15.294236",
     "status": "completed"
    },
    "tags": []
   },
   "outputs": [],
   "source": [
    "merged_df['tests_per_million'] = merged_df.total_tests * 1e6 / merged_df.population"
   ]
  },
  {
   "cell_type": "code",
   "execution_count": 71,
   "id": "a43905b7",
   "metadata": {
    "execution": {
     "iopub.execute_input": "2025-01-31T19:10:15.372303Z",
     "iopub.status.busy": "2025-01-31T19:10:15.371985Z",
     "iopub.status.idle": "2025-01-31T19:10:15.394851Z",
     "shell.execute_reply": "2025-01-31T19:10:15.394017Z"
    },
    "papermill": {
     "duration": 0.047074,
     "end_time": "2025-01-31T19:10:15.396193",
     "exception": false,
     "start_time": "2025-01-31T19:10:15.349119",
     "status": "completed"
    },
    "tags": []
   },
   "outputs": [
    {
     "data": {
      "text/html": [
       "<div>\n",
       "<style scoped>\n",
       "    .dataframe tbody tr th:only-of-type {\n",
       "        vertical-align: middle;\n",
       "    }\n",
       "\n",
       "    .dataframe tbody tr th {\n",
       "        vertical-align: top;\n",
       "    }\n",
       "\n",
       "    .dataframe thead th {\n",
       "        text-align: right;\n",
       "    }\n",
       "</style>\n",
       "<table border=\"1\" class=\"dataframe\">\n",
       "  <thead>\n",
       "    <tr style=\"text-align: right;\">\n",
       "      <th></th>\n",
       "      <th>date</th>\n",
       "      <th>new_cases</th>\n",
       "      <th>new_deaths</th>\n",
       "      <th>new_tests</th>\n",
       "      <th>new_positive_rate</th>\n",
       "      <th>year</th>\n",
       "      <th>month</th>\n",
       "      <th>day</th>\n",
       "      <th>weekday</th>\n",
       "      <th>total_cases</th>\n",
       "      <th>...</th>\n",
       "      <th>total_tests</th>\n",
       "      <th>location</th>\n",
       "      <th>continent</th>\n",
       "      <th>population</th>\n",
       "      <th>life_expectancy</th>\n",
       "      <th>hospital_beds_per_thousand</th>\n",
       "      <th>gdp_per_capita</th>\n",
       "      <th>cases_per_million</th>\n",
       "      <th>deaths_per_million</th>\n",
       "      <th>tests_per_million</th>\n",
       "    </tr>\n",
       "  </thead>\n",
       "  <tbody>\n",
       "    <tr>\n",
       "      <th>0</th>\n",
       "      <td>2019-12-31</td>\n",
       "      <td>0.0</td>\n",
       "      <td>0.0</td>\n",
       "      <td>NaN</td>\n",
       "      <td>NaN</td>\n",
       "      <td>2019</td>\n",
       "      <td>12</td>\n",
       "      <td>31</td>\n",
       "      <td>1</td>\n",
       "      <td>0.0</td>\n",
       "      <td>...</td>\n",
       "      <td>NaN</td>\n",
       "      <td>Italy</td>\n",
       "      <td>Europe</td>\n",
       "      <td>60461828.0</td>\n",
       "      <td>83.51</td>\n",
       "      <td>3.18</td>\n",
       "      <td>35220.084</td>\n",
       "      <td>0.000000</td>\n",
       "      <td>0.000000</td>\n",
       "      <td>NaN</td>\n",
       "    </tr>\n",
       "    <tr>\n",
       "      <th>1</th>\n",
       "      <td>2020-01-01</td>\n",
       "      <td>0.0</td>\n",
       "      <td>0.0</td>\n",
       "      <td>NaN</td>\n",
       "      <td>NaN</td>\n",
       "      <td>2020</td>\n",
       "      <td>1</td>\n",
       "      <td>1</td>\n",
       "      <td>2</td>\n",
       "      <td>0.0</td>\n",
       "      <td>...</td>\n",
       "      <td>NaN</td>\n",
       "      <td>Italy</td>\n",
       "      <td>Europe</td>\n",
       "      <td>60461828.0</td>\n",
       "      <td>83.51</td>\n",
       "      <td>3.18</td>\n",
       "      <td>35220.084</td>\n",
       "      <td>0.000000</td>\n",
       "      <td>0.000000</td>\n",
       "      <td>NaN</td>\n",
       "    </tr>\n",
       "    <tr>\n",
       "      <th>2</th>\n",
       "      <td>2020-01-02</td>\n",
       "      <td>0.0</td>\n",
       "      <td>0.0</td>\n",
       "      <td>NaN</td>\n",
       "      <td>NaN</td>\n",
       "      <td>2020</td>\n",
       "      <td>1</td>\n",
       "      <td>2</td>\n",
       "      <td>3</td>\n",
       "      <td>0.0</td>\n",
       "      <td>...</td>\n",
       "      <td>NaN</td>\n",
       "      <td>Italy</td>\n",
       "      <td>Europe</td>\n",
       "      <td>60461828.0</td>\n",
       "      <td>83.51</td>\n",
       "      <td>3.18</td>\n",
       "      <td>35220.084</td>\n",
       "      <td>0.000000</td>\n",
       "      <td>0.000000</td>\n",
       "      <td>NaN</td>\n",
       "    </tr>\n",
       "    <tr>\n",
       "      <th>3</th>\n",
       "      <td>2020-01-03</td>\n",
       "      <td>0.0</td>\n",
       "      <td>0.0</td>\n",
       "      <td>NaN</td>\n",
       "      <td>NaN</td>\n",
       "      <td>2020</td>\n",
       "      <td>1</td>\n",
       "      <td>3</td>\n",
       "      <td>4</td>\n",
       "      <td>0.0</td>\n",
       "      <td>...</td>\n",
       "      <td>NaN</td>\n",
       "      <td>Italy</td>\n",
       "      <td>Europe</td>\n",
       "      <td>60461828.0</td>\n",
       "      <td>83.51</td>\n",
       "      <td>3.18</td>\n",
       "      <td>35220.084</td>\n",
       "      <td>0.000000</td>\n",
       "      <td>0.000000</td>\n",
       "      <td>NaN</td>\n",
       "    </tr>\n",
       "    <tr>\n",
       "      <th>4</th>\n",
       "      <td>2020-01-04</td>\n",
       "      <td>0.0</td>\n",
       "      <td>0.0</td>\n",
       "      <td>NaN</td>\n",
       "      <td>NaN</td>\n",
       "      <td>2020</td>\n",
       "      <td>1</td>\n",
       "      <td>4</td>\n",
       "      <td>5</td>\n",
       "      <td>0.0</td>\n",
       "      <td>...</td>\n",
       "      <td>NaN</td>\n",
       "      <td>Italy</td>\n",
       "      <td>Europe</td>\n",
       "      <td>60461828.0</td>\n",
       "      <td>83.51</td>\n",
       "      <td>3.18</td>\n",
       "      <td>35220.084</td>\n",
       "      <td>0.000000</td>\n",
       "      <td>0.000000</td>\n",
       "      <td>NaN</td>\n",
       "    </tr>\n",
       "    <tr>\n",
       "      <th>...</th>\n",
       "      <td>...</td>\n",
       "      <td>...</td>\n",
       "      <td>...</td>\n",
       "      <td>...</td>\n",
       "      <td>...</td>\n",
       "      <td>...</td>\n",
       "      <td>...</td>\n",
       "      <td>...</td>\n",
       "      <td>...</td>\n",
       "      <td>...</td>\n",
       "      <td>...</td>\n",
       "      <td>...</td>\n",
       "      <td>...</td>\n",
       "      <td>...</td>\n",
       "      <td>...</td>\n",
       "      <td>...</td>\n",
       "      <td>...</td>\n",
       "      <td>...</td>\n",
       "      <td>...</td>\n",
       "      <td>...</td>\n",
       "      <td>...</td>\n",
       "    </tr>\n",
       "    <tr>\n",
       "      <th>243</th>\n",
       "      <td>2020-08-30</td>\n",
       "      <td>1444.0</td>\n",
       "      <td>1.0</td>\n",
       "      <td>53541.0</td>\n",
       "      <td>0.026970</td>\n",
       "      <td>2020</td>\n",
       "      <td>8</td>\n",
       "      <td>30</td>\n",
       "      <td>6</td>\n",
       "      <td>267298.5</td>\n",
       "      <td>...</td>\n",
       "      <td>5117788.0</td>\n",
       "      <td>Italy</td>\n",
       "      <td>Europe</td>\n",
       "      <td>60461828.0</td>\n",
       "      <td>83.51</td>\n",
       "      <td>3.18</td>\n",
       "      <td>35220.084</td>\n",
       "      <td>4420.946386</td>\n",
       "      <td>586.700753</td>\n",
       "      <td>84644.943252</td>\n",
       "    </tr>\n",
       "    <tr>\n",
       "      <th>244</th>\n",
       "      <td>2020-08-31</td>\n",
       "      <td>1365.0</td>\n",
       "      <td>4.0</td>\n",
       "      <td>42583.0</td>\n",
       "      <td>0.032055</td>\n",
       "      <td>2020</td>\n",
       "      <td>8</td>\n",
       "      <td>31</td>\n",
       "      <td>0</td>\n",
       "      <td>268663.5</td>\n",
       "      <td>...</td>\n",
       "      <td>5160371.0</td>\n",
       "      <td>Italy</td>\n",
       "      <td>Europe</td>\n",
       "      <td>60461828.0</td>\n",
       "      <td>83.51</td>\n",
       "      <td>3.18</td>\n",
       "      <td>35220.084</td>\n",
       "      <td>4443.522614</td>\n",
       "      <td>586.766910</td>\n",
       "      <td>85349.238862</td>\n",
       "    </tr>\n",
       "    <tr>\n",
       "      <th>245</th>\n",
       "      <td>2020-09-01</td>\n",
       "      <td>996.0</td>\n",
       "      <td>6.0</td>\n",
       "      <td>54395.0</td>\n",
       "      <td>0.018311</td>\n",
       "      <td>2020</td>\n",
       "      <td>9</td>\n",
       "      <td>1</td>\n",
       "      <td>1</td>\n",
       "      <td>269659.5</td>\n",
       "      <td>...</td>\n",
       "      <td>5214766.0</td>\n",
       "      <td>Italy</td>\n",
       "      <td>Europe</td>\n",
       "      <td>60461828.0</td>\n",
       "      <td>83.51</td>\n",
       "      <td>3.18</td>\n",
       "      <td>35220.084</td>\n",
       "      <td>4459.995818</td>\n",
       "      <td>586.866146</td>\n",
       "      <td>86248.897403</td>\n",
       "    </tr>\n",
       "    <tr>\n",
       "      <th>246</th>\n",
       "      <td>2020-09-02</td>\n",
       "      <td>975.0</td>\n",
       "      <td>8.0</td>\n",
       "      <td>NaN</td>\n",
       "      <td>NaN</td>\n",
       "      <td>2020</td>\n",
       "      <td>9</td>\n",
       "      <td>2</td>\n",
       "      <td>2</td>\n",
       "      <td>270634.5</td>\n",
       "      <td>...</td>\n",
       "      <td>NaN</td>\n",
       "      <td>Italy</td>\n",
       "      <td>Europe</td>\n",
       "      <td>60461828.0</td>\n",
       "      <td>83.51</td>\n",
       "      <td>3.18</td>\n",
       "      <td>35220.084</td>\n",
       "      <td>4476.121695</td>\n",
       "      <td>586.998461</td>\n",
       "      <td>NaN</td>\n",
       "    </tr>\n",
       "    <tr>\n",
       "      <th>247</th>\n",
       "      <td>2020-09-03</td>\n",
       "      <td>1326.0</td>\n",
       "      <td>6.0</td>\n",
       "      <td>NaN</td>\n",
       "      <td>NaN</td>\n",
       "      <td>2020</td>\n",
       "      <td>9</td>\n",
       "      <td>3</td>\n",
       "      <td>3</td>\n",
       "      <td>271960.5</td>\n",
       "      <td>...</td>\n",
       "      <td>NaN</td>\n",
       "      <td>Italy</td>\n",
       "      <td>Europe</td>\n",
       "      <td>60461828.0</td>\n",
       "      <td>83.51</td>\n",
       "      <td>3.18</td>\n",
       "      <td>35220.084</td>\n",
       "      <td>4498.052887</td>\n",
       "      <td>587.097697</td>\n",
       "      <td>NaN</td>\n",
       "    </tr>\n",
       "  </tbody>\n",
       "</table>\n",
       "<p>248 rows × 21 columns</p>\n",
       "</div>"
      ],
      "text/plain": [
       "          date  new_cases  new_deaths  new_tests  new_positive_rate  year  \\\n",
       "0   2019-12-31        0.0         0.0        NaN                NaN  2019   \n",
       "1   2020-01-01        0.0         0.0        NaN                NaN  2020   \n",
       "2   2020-01-02        0.0         0.0        NaN                NaN  2020   \n",
       "3   2020-01-03        0.0         0.0        NaN                NaN  2020   \n",
       "4   2020-01-04        0.0         0.0        NaN                NaN  2020   \n",
       "..         ...        ...         ...        ...                ...   ...   \n",
       "243 2020-08-30     1444.0         1.0    53541.0           0.026970  2020   \n",
       "244 2020-08-31     1365.0         4.0    42583.0           0.032055  2020   \n",
       "245 2020-09-01      996.0         6.0    54395.0           0.018311  2020   \n",
       "246 2020-09-02      975.0         8.0        NaN                NaN  2020   \n",
       "247 2020-09-03     1326.0         6.0        NaN                NaN  2020   \n",
       "\n",
       "     month  day  weekday  total_cases  ...  total_tests  location continent  \\\n",
       "0       12   31        1          0.0  ...          NaN     Italy    Europe   \n",
       "1        1    1        2          0.0  ...          NaN     Italy    Europe   \n",
       "2        1    2        3          0.0  ...          NaN     Italy    Europe   \n",
       "3        1    3        4          0.0  ...          NaN     Italy    Europe   \n",
       "4        1    4        5          0.0  ...          NaN     Italy    Europe   \n",
       "..     ...  ...      ...          ...  ...          ...       ...       ...   \n",
       "243      8   30        6     267298.5  ...    5117788.0     Italy    Europe   \n",
       "244      8   31        0     268663.5  ...    5160371.0     Italy    Europe   \n",
       "245      9    1        1     269659.5  ...    5214766.0     Italy    Europe   \n",
       "246      9    2        2     270634.5  ...          NaN     Italy    Europe   \n",
       "247      9    3        3     271960.5  ...          NaN     Italy    Europe   \n",
       "\n",
       "     population  life_expectancy  hospital_beds_per_thousand  gdp_per_capita  \\\n",
       "0    60461828.0            83.51                        3.18       35220.084   \n",
       "1    60461828.0            83.51                        3.18       35220.084   \n",
       "2    60461828.0            83.51                        3.18       35220.084   \n",
       "3    60461828.0            83.51                        3.18       35220.084   \n",
       "4    60461828.0            83.51                        3.18       35220.084   \n",
       "..          ...              ...                         ...             ...   \n",
       "243  60461828.0            83.51                        3.18       35220.084   \n",
       "244  60461828.0            83.51                        3.18       35220.084   \n",
       "245  60461828.0            83.51                        3.18       35220.084   \n",
       "246  60461828.0            83.51                        3.18       35220.084   \n",
       "247  60461828.0            83.51                        3.18       35220.084   \n",
       "\n",
       "     cases_per_million  deaths_per_million  tests_per_million  \n",
       "0             0.000000            0.000000                NaN  \n",
       "1             0.000000            0.000000                NaN  \n",
       "2             0.000000            0.000000                NaN  \n",
       "3             0.000000            0.000000                NaN  \n",
       "4             0.000000            0.000000                NaN  \n",
       "..                 ...                 ...                ...  \n",
       "243        4420.946386          586.700753       84644.943252  \n",
       "244        4443.522614          586.766910       85349.238862  \n",
       "245        4459.995818          586.866146       86248.897403  \n",
       "246        4476.121695          586.998461                NaN  \n",
       "247        4498.052887          587.097697                NaN  \n",
       "\n",
       "[248 rows x 21 columns]"
      ]
     },
     "execution_count": 71,
     "metadata": {},
     "output_type": "execute_result"
    }
   ],
   "source": [
    "merged_df"
   ]
  },
  {
   "cell_type": "markdown",
   "id": "e6fc595e",
   "metadata": {
    "papermill": {
     "duration": 0.021935,
     "end_time": "2025-01-31T19:10:15.439651",
     "exception": false,
     "start_time": "2025-01-31T19:10:15.417716",
     "status": "completed"
    },
    "tags": []
   },
   "source": [
    "**WRITING DATA BACK TO FILES**\n",
    "\n",
    "After manipulating data or after data analysis, the results should be written back to file. Otherwise the data will be lost. So a new dataframe consisting of the columns that we need to record for the result is created."
   ]
  },
  {
   "cell_type": "code",
   "execution_count": 72,
   "id": "b9fe9dad",
   "metadata": {
    "execution": {
     "iopub.execute_input": "2025-01-31T19:10:15.486405Z",
     "iopub.status.busy": "2025-01-31T19:10:15.486074Z",
     "iopub.status.idle": "2025-01-31T19:10:15.491702Z",
     "shell.execute_reply": "2025-01-31T19:10:15.490855Z"
    },
    "papermill": {
     "duration": 0.030938,
     "end_time": "2025-01-31T19:10:15.493163",
     "exception": false,
     "start_time": "2025-01-31T19:10:15.462225",
     "status": "completed"
    },
    "tags": []
   },
   "outputs": [],
   "source": [
    "result_df = merged_df[['date', 'new_cases', 'total_cases', 'new_deaths', 'total_deaths', 'new_tests', 'total_tests', 'cases_per_million', 'deaths_per_million', 'tests_per_million']]"
   ]
  },
  {
   "cell_type": "code",
   "execution_count": 73,
   "id": "bb0a4bdf",
   "metadata": {
    "execution": {
     "iopub.execute_input": "2025-01-31T19:10:15.541387Z",
     "iopub.status.busy": "2025-01-31T19:10:15.541092Z",
     "iopub.status.idle": "2025-01-31T19:10:15.555590Z",
     "shell.execute_reply": "2025-01-31T19:10:15.554763Z"
    },
    "papermill": {
     "duration": 0.041678,
     "end_time": "2025-01-31T19:10:15.556962",
     "exception": false,
     "start_time": "2025-01-31T19:10:15.515284",
     "status": "completed"
    },
    "tags": []
   },
   "outputs": [
    {
     "data": {
      "text/html": [
       "<div>\n",
       "<style scoped>\n",
       "    .dataframe tbody tr th:only-of-type {\n",
       "        vertical-align: middle;\n",
       "    }\n",
       "\n",
       "    .dataframe tbody tr th {\n",
       "        vertical-align: top;\n",
       "    }\n",
       "\n",
       "    .dataframe thead th {\n",
       "        text-align: right;\n",
       "    }\n",
       "</style>\n",
       "<table border=\"1\" class=\"dataframe\">\n",
       "  <thead>\n",
       "    <tr style=\"text-align: right;\">\n",
       "      <th></th>\n",
       "      <th>date</th>\n",
       "      <th>new_cases</th>\n",
       "      <th>total_cases</th>\n",
       "      <th>new_deaths</th>\n",
       "      <th>total_deaths</th>\n",
       "      <th>new_tests</th>\n",
       "      <th>total_tests</th>\n",
       "      <th>cases_per_million</th>\n",
       "      <th>deaths_per_million</th>\n",
       "      <th>tests_per_million</th>\n",
       "    </tr>\n",
       "  </thead>\n",
       "  <tbody>\n",
       "    <tr>\n",
       "      <th>0</th>\n",
       "      <td>2019-12-31</td>\n",
       "      <td>0.0</td>\n",
       "      <td>0.0</td>\n",
       "      <td>0.0</td>\n",
       "      <td>0.0</td>\n",
       "      <td>NaN</td>\n",
       "      <td>NaN</td>\n",
       "      <td>0.000000</td>\n",
       "      <td>0.000000</td>\n",
       "      <td>NaN</td>\n",
       "    </tr>\n",
       "    <tr>\n",
       "      <th>1</th>\n",
       "      <td>2020-01-01</td>\n",
       "      <td>0.0</td>\n",
       "      <td>0.0</td>\n",
       "      <td>0.0</td>\n",
       "      <td>0.0</td>\n",
       "      <td>NaN</td>\n",
       "      <td>NaN</td>\n",
       "      <td>0.000000</td>\n",
       "      <td>0.000000</td>\n",
       "      <td>NaN</td>\n",
       "    </tr>\n",
       "    <tr>\n",
       "      <th>2</th>\n",
       "      <td>2020-01-02</td>\n",
       "      <td>0.0</td>\n",
       "      <td>0.0</td>\n",
       "      <td>0.0</td>\n",
       "      <td>0.0</td>\n",
       "      <td>NaN</td>\n",
       "      <td>NaN</td>\n",
       "      <td>0.000000</td>\n",
       "      <td>0.000000</td>\n",
       "      <td>NaN</td>\n",
       "    </tr>\n",
       "    <tr>\n",
       "      <th>3</th>\n",
       "      <td>2020-01-03</td>\n",
       "      <td>0.0</td>\n",
       "      <td>0.0</td>\n",
       "      <td>0.0</td>\n",
       "      <td>0.0</td>\n",
       "      <td>NaN</td>\n",
       "      <td>NaN</td>\n",
       "      <td>0.000000</td>\n",
       "      <td>0.000000</td>\n",
       "      <td>NaN</td>\n",
       "    </tr>\n",
       "    <tr>\n",
       "      <th>4</th>\n",
       "      <td>2020-01-04</td>\n",
       "      <td>0.0</td>\n",
       "      <td>0.0</td>\n",
       "      <td>0.0</td>\n",
       "      <td>0.0</td>\n",
       "      <td>NaN</td>\n",
       "      <td>NaN</td>\n",
       "      <td>0.000000</td>\n",
       "      <td>0.000000</td>\n",
       "      <td>NaN</td>\n",
       "    </tr>\n",
       "    <tr>\n",
       "      <th>...</th>\n",
       "      <td>...</td>\n",
       "      <td>...</td>\n",
       "      <td>...</td>\n",
       "      <td>...</td>\n",
       "      <td>...</td>\n",
       "      <td>...</td>\n",
       "      <td>...</td>\n",
       "      <td>...</td>\n",
       "      <td>...</td>\n",
       "      <td>...</td>\n",
       "    </tr>\n",
       "    <tr>\n",
       "      <th>243</th>\n",
       "      <td>2020-08-30</td>\n",
       "      <td>1444.0</td>\n",
       "      <td>267298.5</td>\n",
       "      <td>1.0</td>\n",
       "      <td>35473.0</td>\n",
       "      <td>53541.0</td>\n",
       "      <td>5117788.0</td>\n",
       "      <td>4420.946386</td>\n",
       "      <td>586.700753</td>\n",
       "      <td>84644.943252</td>\n",
       "    </tr>\n",
       "    <tr>\n",
       "      <th>244</th>\n",
       "      <td>2020-08-31</td>\n",
       "      <td>1365.0</td>\n",
       "      <td>268663.5</td>\n",
       "      <td>4.0</td>\n",
       "      <td>35477.0</td>\n",
       "      <td>42583.0</td>\n",
       "      <td>5160371.0</td>\n",
       "      <td>4443.522614</td>\n",
       "      <td>586.766910</td>\n",
       "      <td>85349.238862</td>\n",
       "    </tr>\n",
       "    <tr>\n",
       "      <th>245</th>\n",
       "      <td>2020-09-01</td>\n",
       "      <td>996.0</td>\n",
       "      <td>269659.5</td>\n",
       "      <td>6.0</td>\n",
       "      <td>35483.0</td>\n",
       "      <td>54395.0</td>\n",
       "      <td>5214766.0</td>\n",
       "      <td>4459.995818</td>\n",
       "      <td>586.866146</td>\n",
       "      <td>86248.897403</td>\n",
       "    </tr>\n",
       "    <tr>\n",
       "      <th>246</th>\n",
       "      <td>2020-09-02</td>\n",
       "      <td>975.0</td>\n",
       "      <td>270634.5</td>\n",
       "      <td>8.0</td>\n",
       "      <td>35491.0</td>\n",
       "      <td>NaN</td>\n",
       "      <td>NaN</td>\n",
       "      <td>4476.121695</td>\n",
       "      <td>586.998461</td>\n",
       "      <td>NaN</td>\n",
       "    </tr>\n",
       "    <tr>\n",
       "      <th>247</th>\n",
       "      <td>2020-09-03</td>\n",
       "      <td>1326.0</td>\n",
       "      <td>271960.5</td>\n",
       "      <td>6.0</td>\n",
       "      <td>35497.0</td>\n",
       "      <td>NaN</td>\n",
       "      <td>NaN</td>\n",
       "      <td>4498.052887</td>\n",
       "      <td>587.097697</td>\n",
       "      <td>NaN</td>\n",
       "    </tr>\n",
       "  </tbody>\n",
       "</table>\n",
       "<p>248 rows × 10 columns</p>\n",
       "</div>"
      ],
      "text/plain": [
       "          date  new_cases  total_cases  new_deaths  total_deaths  new_tests  \\\n",
       "0   2019-12-31        0.0          0.0         0.0           0.0        NaN   \n",
       "1   2020-01-01        0.0          0.0         0.0           0.0        NaN   \n",
       "2   2020-01-02        0.0          0.0         0.0           0.0        NaN   \n",
       "3   2020-01-03        0.0          0.0         0.0           0.0        NaN   \n",
       "4   2020-01-04        0.0          0.0         0.0           0.0        NaN   \n",
       "..         ...        ...          ...         ...           ...        ...   \n",
       "243 2020-08-30     1444.0     267298.5         1.0       35473.0    53541.0   \n",
       "244 2020-08-31     1365.0     268663.5         4.0       35477.0    42583.0   \n",
       "245 2020-09-01      996.0     269659.5         6.0       35483.0    54395.0   \n",
       "246 2020-09-02      975.0     270634.5         8.0       35491.0        NaN   \n",
       "247 2020-09-03     1326.0     271960.5         6.0       35497.0        NaN   \n",
       "\n",
       "     total_tests  cases_per_million  deaths_per_million  tests_per_million  \n",
       "0            NaN           0.000000            0.000000                NaN  \n",
       "1            NaN           0.000000            0.000000                NaN  \n",
       "2            NaN           0.000000            0.000000                NaN  \n",
       "3            NaN           0.000000            0.000000                NaN  \n",
       "4            NaN           0.000000            0.000000                NaN  \n",
       "..           ...                ...                 ...                ...  \n",
       "243    5117788.0        4420.946386          586.700753       84644.943252  \n",
       "244    5160371.0        4443.522614          586.766910       85349.238862  \n",
       "245    5214766.0        4459.995818          586.866146       86248.897403  \n",
       "246          NaN        4476.121695          586.998461                NaN  \n",
       "247          NaN        4498.052887          587.097697                NaN  \n",
       "\n",
       "[248 rows x 10 columns]"
      ]
     },
     "execution_count": 73,
     "metadata": {},
     "output_type": "execute_result"
    }
   ],
   "source": [
    "result_df"
   ]
  },
  {
   "cell_type": "markdown",
   "id": "dd24ca04",
   "metadata": {
    "papermill": {
     "duration": 0.022202,
     "end_time": "2025-01-31T19:10:15.601026",
     "exception": false,
     "start_time": "2025-01-31T19:10:15.578824",
     "status": "completed"
    },
    "tags": []
   },
   "source": [
    "**To convert the data from dataframe to csv, we can use to_csv() method**"
   ]
  },
  {
   "cell_type": "code",
   "execution_count": 74,
   "id": "a149604d",
   "metadata": {
    "execution": {
     "iopub.execute_input": "2025-01-31T19:10:15.647359Z",
     "iopub.status.busy": "2025-01-31T19:10:15.647032Z",
     "iopub.status.idle": "2025-01-31T19:10:15.656479Z",
     "shell.execute_reply": "2025-01-31T19:10:15.655551Z"
    },
    "papermill": {
     "duration": 0.034816,
     "end_time": "2025-01-31T19:10:15.658448",
     "exception": false,
     "start_time": "2025-01-31T19:10:15.623632",
     "status": "completed"
    },
    "tags": []
   },
   "outputs": [],
   "source": [
    "result_df.to_csv('result.csv',index=None )"
   ]
  },
  {
   "cell_type": "markdown",
   "id": "5fa06367",
   "metadata": {
    "papermill": {
     "duration": 0.022075,
     "end_time": "2025-01-31T19:10:15.702932",
     "exception": false,
     "start_time": "2025-01-31T19:10:15.680857",
     "status": "completed"
    },
    "tags": []
   },
   "source": [
    "**The to_csv function also includes an additional column for storing the index of the dataframe by default. We pass index=None to turn off this behavior. You can now verify that the results.csv is created and contains data from the data frame in CSV format**"
   ]
  },
  {
   "cell_type": "markdown",
   "id": "2e6e3a8f",
   "metadata": {
    "papermill": {
     "duration": 0.021639,
     "end_time": "2025-01-31T19:10:15.747198",
     "exception": false,
     "start_time": "2025-01-31T19:10:15.725559",
     "status": "completed"
    },
    "tags": []
   },
   "source": [
    "**BASIC PLOTTING WITH PANDAS**"
   ]
  },
  {
   "cell_type": "markdown",
   "id": "7d0bf1ed",
   "metadata": {
    "papermill": {
     "duration": 0.021513,
     "end_time": "2025-01-31T19:10:15.790964",
     "exception": false,
     "start_time": "2025-01-31T19:10:15.769451",
     "status": "completed"
    },
    "tags": []
   },
   "source": [
    "Usually the data is plotted using **matplotlib** or **seaborn** libraries, but pandas offers a some plotting functions\n",
    ".plot() method is used to plot the **column with respect to time**\n",
    "\n",
    "Let's plot a line graph showing how the number of daily cases varies over time."
   ]
  },
  {
   "cell_type": "code",
   "execution_count": 75,
   "id": "08da7a66",
   "metadata": {
    "execution": {
     "iopub.execute_input": "2025-01-31T19:10:15.839133Z",
     "iopub.status.busy": "2025-01-31T19:10:15.838846Z",
     "iopub.status.idle": "2025-01-31T19:10:16.019179Z",
     "shell.execute_reply": "2025-01-31T19:10:16.018223Z"
    },
    "papermill": {
     "duration": 0.207123,
     "end_time": "2025-01-31T19:10:16.021161",
     "exception": false,
     "start_time": "2025-01-31T19:10:15.814038",
     "status": "completed"
    },
    "tags": []
   },
   "outputs": [
    {
     "data": {
      "image/png": "[encoded data removed]",
      "text/plain": [
       "<Figure size 640x480 with 1 Axes>"
      ]
     },
     "metadata": {},
     "output_type": "display_data"
    }
   ],
   "source": [
    "result_df.new_cases.plot();"
   ]
  },
  {
   "cell_type": "markdown",
   "id": "d6bd79fa",
   "metadata": {
    "papermill": {
     "duration": 0.022381,
     "end_time": "2025-01-31T19:10:16.066591",
     "exception": false,
     "start_time": "2025-01-31T19:10:16.044210",
     "status": "completed"
    },
    "tags": []
   },
   "source": [
    "**While this plot shows the overall trend, it's hard to tell where the peak occurred, as there are no dates on the X-axis. We can use the date column as the index for the data frame to address this issue.**"
   ]
  },
  {
   "cell_type": "code",
   "execution_count": 76,
   "id": "4d2a5953",
   "metadata": {
    "execution": {
     "iopub.execute_input": "2025-01-31T19:10:16.113868Z",
     "iopub.status.busy": "2025-01-31T19:10:16.113542Z",
     "iopub.status.idle": "2025-01-31T19:10:16.128845Z",
     "shell.execute_reply": "2025-01-31T19:10:16.127802Z"
    },
    "papermill": {
     "duration": 0.040948,
     "end_time": "2025-01-31T19:10:16.130379",
     "exception": false,
     "start_time": "2025-01-31T19:10:16.089431",
     "status": "completed"
    },
    "tags": []
   },
   "outputs": [
    {
     "data": {
      "text/html": [
       "<div>\n",
       "<style scoped>\n",
       "    .dataframe tbody tr th:only-of-type {\n",
       "        vertical-align: middle;\n",
       "    }\n",
       "\n",
       "    .dataframe tbody tr th {\n",
       "        vertical-align: top;\n",
       "    }\n",
       "\n",
       "    .dataframe thead th {\n",
       "        text-align: right;\n",
       "    }\n",
       "</style>\n",
       "<table border=\"1\" class=\"dataframe\">\n",
       "  <thead>\n",
       "    <tr style=\"text-align: right;\">\n",
       "      <th></th>\n",
       "      <th>new_cases</th>\n",
       "      <th>total_cases</th>\n",
       "      <th>new_deaths</th>\n",
       "      <th>total_deaths</th>\n",
       "      <th>new_tests</th>\n",
       "      <th>total_tests</th>\n",
       "      <th>cases_per_million</th>\n",
       "      <th>deaths_per_million</th>\n",
       "      <th>tests_per_million</th>\n",
       "    </tr>\n",
       "    <tr>\n",
       "      <th>date</th>\n",
       "      <th></th>\n",
       "      <th></th>\n",
       "      <th></th>\n",
       "      <th></th>\n",
       "      <th></th>\n",
       "      <th></th>\n",
       "      <th></th>\n",
       "      <th></th>\n",
       "      <th></th>\n",
       "    </tr>\n",
       "  </thead>\n",
       "  <tbody>\n",
       "    <tr>\n",
       "      <th>2019-12-31</th>\n",
       "      <td>0.0</td>\n",
       "      <td>0.0</td>\n",
       "      <td>0.0</td>\n",
       "      <td>0.0</td>\n",
       "      <td>NaN</td>\n",
       "      <td>NaN</td>\n",
       "      <td>0.000000</td>\n",
       "      <td>0.000000</td>\n",
       "      <td>NaN</td>\n",
       "    </tr>\n",
       "    <tr>\n",
       "      <th>2020-01-01</th>\n",
       "      <td>0.0</td>\n",
       "      <td>0.0</td>\n",
       "      <td>0.0</td>\n",
       "      <td>0.0</td>\n",
       "      <td>NaN</td>\n",
       "      <td>NaN</td>\n",
       "      <td>0.000000</td>\n",
       "      <td>0.000000</td>\n",
       "      <td>NaN</td>\n",
       "    </tr>\n",
       "    <tr>\n",
       "      <th>2020-01-02</th>\n",
       "      <td>0.0</td>\n",
       "      <td>0.0</td>\n",
       "      <td>0.0</td>\n",
       "      <td>0.0</td>\n",
       "      <td>NaN</td>\n",
       "      <td>NaN</td>\n",
       "      <td>0.000000</td>\n",
       "      <td>0.000000</td>\n",
       "      <td>NaN</td>\n",
       "    </tr>\n",
       "    <tr>\n",
       "      <th>2020-01-03</th>\n",
       "      <td>0.0</td>\n",
       "      <td>0.0</td>\n",
       "      <td>0.0</td>\n",
       "      <td>0.0</td>\n",
       "      <td>NaN</td>\n",
       "      <td>NaN</td>\n",
       "      <td>0.000000</td>\n",
       "      <td>0.000000</td>\n",
       "      <td>NaN</td>\n",
       "    </tr>\n",
       "    <tr>\n",
       "      <th>2020-01-04</th>\n",
       "      <td>0.0</td>\n",
       "      <td>0.0</td>\n",
       "      <td>0.0</td>\n",
       "      <td>0.0</td>\n",
       "      <td>NaN</td>\n",
       "      <td>NaN</td>\n",
       "      <td>0.000000</td>\n",
       "      <td>0.000000</td>\n",
       "      <td>NaN</td>\n",
       "    </tr>\n",
       "    <tr>\n",
       "      <th>...</th>\n",
       "      <td>...</td>\n",
       "      <td>...</td>\n",
       "      <td>...</td>\n",
       "      <td>...</td>\n",
       "      <td>...</td>\n",
       "      <td>...</td>\n",
       "      <td>...</td>\n",
       "      <td>...</td>\n",
       "      <td>...</td>\n",
       "    </tr>\n",
       "    <tr>\n",
       "      <th>2020-08-30</th>\n",
       "      <td>1444.0</td>\n",
       "      <td>267298.5</td>\n",
       "      <td>1.0</td>\n",
       "      <td>35473.0</td>\n",
       "      <td>53541.0</td>\n",
       "      <td>5117788.0</td>\n",
       "      <td>4420.946386</td>\n",
       "      <td>586.700753</td>\n",
       "      <td>84644.943252</td>\n",
       "    </tr>\n",
       "    <tr>\n",
       "      <th>2020-08-31</th>\n",
       "      <td>1365.0</td>\n",
       "      <td>268663.5</td>\n",
       "      <td>4.0</td>\n",
       "      <td>35477.0</td>\n",
       "      <td>42583.0</td>\n",
       "      <td>5160371.0</td>\n",
       "      <td>4443.522614</td>\n",
       "      <td>586.766910</td>\n",
       "      <td>85349.238862</td>\n",
       "    </tr>\n",
       "    <tr>\n",
       "      <th>2020-09-01</th>\n",
       "      <td>996.0</td>\n",
       "      <td>269659.5</td>\n",
       "      <td>6.0</td>\n",
       "      <td>35483.0</td>\n",
       "      <td>54395.0</td>\n",
       "      <td>5214766.0</td>\n",
       "      <td>4459.995818</td>\n",
       "      <td>586.866146</td>\n",
       "      <td>86248.897403</td>\n",
       "    </tr>\n",
       "    <tr>\n",
       "      <th>2020-09-02</th>\n",
       "      <td>975.0</td>\n",
       "      <td>270634.5</td>\n",
       "      <td>8.0</td>\n",
       "      <td>35491.0</td>\n",
       "      <td>NaN</td>\n",
       "      <td>NaN</td>\n",
       "      <td>4476.121695</td>\n",
       "      <td>586.998461</td>\n",
       "      <td>NaN</td>\n",
       "    </tr>\n",
       "    <tr>\n",
       "      <th>2020-09-03</th>\n",
       "      <td>1326.0</td>\n",
       "      <td>271960.5</td>\n",
       "      <td>6.0</td>\n",
       "      <td>35497.0</td>\n",
       "      <td>NaN</td>\n",
       "      <td>NaN</td>\n",
       "      <td>4498.052887</td>\n",
       "      <td>587.097697</td>\n",
       "      <td>NaN</td>\n",
       "    </tr>\n",
       "  </tbody>\n",
       "</table>\n",
       "<p>248 rows × 9 columns</p>\n",
       "</div>"
      ],
      "text/plain": [
       "            new_cases  total_cases  new_deaths  total_deaths  new_tests  \\\n",
       "date                                                                      \n",
       "2019-12-31        0.0          0.0         0.0           0.0        NaN   \n",
       "2020-01-01        0.0          0.0         0.0           0.0        NaN   \n",
       "2020-01-02        0.0          0.0         0.0           0.0        NaN   \n",
       "2020-01-03        0.0          0.0         0.0           0.0        NaN   \n",
       "2020-01-04        0.0          0.0         0.0           0.0        NaN   \n",
       "...               ...          ...         ...           ...        ...   \n",
       "2020-08-30     1444.0     267298.5         1.0       35473.0    53541.0   \n",
       "2020-08-31     1365.0     268663.5         4.0       35477.0    42583.0   \n",
       "2020-09-01      996.0     269659.5         6.0       35483.0    54395.0   \n",
       "2020-09-02      975.0     270634.5         8.0       35491.0        NaN   \n",
       "2020-09-03     1326.0     271960.5         6.0       35497.0        NaN   \n",
       "\n",
       "            total_tests  cases_per_million  deaths_per_million  \\\n",
       "date                                                             \n",
       "2019-12-31          NaN           0.000000            0.000000   \n",
       "2020-01-01          NaN           0.000000            0.000000   \n",
       "2020-01-02          NaN           0.000000            0.000000   \n",
       "2020-01-03          NaN           0.000000            0.000000   \n",
       "2020-01-04          NaN           0.000000            0.000000   \n",
       "...                 ...                ...                 ...   \n",
       "2020-08-30    5117788.0        4420.946386          586.700753   \n",
       "2020-08-31    5160371.0        4443.522614          586.766910   \n",
       "2020-09-01    5214766.0        4459.995818          586.866146   \n",
       "2020-09-02          NaN        4476.121695          586.998461   \n",
       "2020-09-03          NaN        4498.052887          587.097697   \n",
       "\n",
       "            tests_per_million  \n",
       "date                           \n",
       "2019-12-31                NaN  \n",
       "2020-01-01                NaN  \n",
       "2020-01-02                NaN  \n",
       "2020-01-03                NaN  \n",
       "2020-01-04                NaN  \n",
       "...                       ...  \n",
       "2020-08-30       84644.943252  \n",
       "2020-08-31       85349.238862  \n",
       "2020-09-01       86248.897403  \n",
       "2020-09-02                NaN  \n",
       "2020-09-03                NaN  \n",
       "\n",
       "[248 rows x 9 columns]"
      ]
     },
     "execution_count": 76,
     "metadata": {},
     "output_type": "execute_result"
    }
   ],
   "source": [
    "result_df.set_index('date', inplace = True)\n",
    "result_df"
   ]
  },
  {
   "cell_type": "markdown",
   "id": "8aa90860",
   "metadata": {
    "papermill": {
     "duration": 0.022496,
     "end_time": "2025-01-31T19:10:16.176826",
     "exception": false,
     "start_time": "2025-01-31T19:10:16.154330",
     "status": "completed"
    },
    "tags": []
   },
   "source": [
    "**Notice that the index of a data frame doesn't have to be numeric. Using the date as the index also allows us to get the data for a specific data using .loc.**"
   ]
  },
  {
   "cell_type": "code",
   "execution_count": 77,
   "id": "9f643943",
   "metadata": {
    "execution": {
     "iopub.execute_input": "2025-01-31T19:10:16.221422Z",
     "iopub.status.busy": "2025-01-31T19:10:16.221098Z",
     "iopub.status.idle": "2025-01-31T19:10:16.228800Z",
     "shell.execute_reply": "2025-01-31T19:10:16.228022Z"
    },
    "papermill": {
     "duration": 0.031988,
     "end_time": "2025-01-31T19:10:16.230170",
     "exception": false,
     "start_time": "2025-01-31T19:10:16.198182",
     "status": "completed"
    },
    "tags": []
   },
   "outputs": [
    {
     "data": {
      "text/plain": [
       "new_cases                975.000000\n",
       "total_cases           270634.500000\n",
       "new_deaths                 8.000000\n",
       "total_deaths           35491.000000\n",
       "new_tests                       NaN\n",
       "total_tests                     NaN\n",
       "cases_per_million       4476.121695\n",
       "deaths_per_million       586.998461\n",
       "tests_per_million               NaN\n",
       "Name: 2020-09-02 00:00:00, dtype: float64"
      ]
     },
     "execution_count": 77,
     "metadata": {},
     "output_type": "execute_result"
    }
   ],
   "source": [
    "result_df.loc['2020-09-02']"
   ]
  },
  {
   "cell_type": "markdown",
   "id": "75f3aaf9",
   "metadata": {
    "papermill": {
     "duration": 0.022986,
     "end_time": "2025-01-31T19:10:16.274961",
     "exception": false,
     "start_time": "2025-01-31T19:10:16.251975",
     "status": "completed"
    },
    "tags": []
   },
   "source": [
    "**Let's plot the graph for new_cases and new_deaths**"
   ]
  },
  {
   "cell_type": "code",
   "execution_count": 78,
   "id": "b5bf942d",
   "metadata": {
    "execution": {
     "iopub.execute_input": "2025-01-31T19:10:16.322042Z",
     "iopub.status.busy": "2025-01-31T19:10:16.321748Z",
     "iopub.status.idle": "2025-01-31T19:10:16.699846Z",
     "shell.execute_reply": "2025-01-31T19:10:16.698974Z"
    },
    "papermill": {
     "duration": 0.403667,
     "end_time": "2025-01-31T19:10:16.701218",
     "exception": false,
     "start_time": "2025-01-31T19:10:16.297551",
     "status": "completed"
    },
    "tags": []
   },
   "outputs": [
    {
     "data": {
      "image/png": "[encoded data removed]",
      "text/plain": [
       "<Figure size 640x480 with 1 Axes>"
      ]
     },
     "metadata": {},
     "output_type": "display_data"
    }
   ],
   "source": [
    "result_df.new_cases.plot()\n",
    "result_df.new_deaths.plot();"
   ]
  },
  {
   "cell_type": "markdown",
   "id": "c99f4b66",
   "metadata": {
    "papermill": {
     "duration": 0.022615,
     "end_time": "2025-01-31T19:10:16.746224",
     "exception": false,
     "start_time": "2025-01-31T19:10:16.723609",
     "status": "completed"
    },
    "tags": []
   },
   "source": [
    "**Compare total deaths and total cases with respect to the date**"
   ]
  },
  {
   "cell_type": "code",
   "execution_count": 79,
   "id": "2fde3bf8",
   "metadata": {
    "execution": {
     "iopub.execute_input": "2025-01-31T19:10:16.793814Z",
     "iopub.status.busy": "2025-01-31T19:10:16.793525Z",
     "iopub.status.idle": "2025-01-31T19:10:17.153974Z",
     "shell.execute_reply": "2025-01-31T19:10:17.153104Z"
    },
    "papermill": {
     "duration": 0.38601,
     "end_time": "2025-01-31T19:10:17.155474",
     "exception": false,
     "start_time": "2025-01-31T19:10:16.769464",
     "status": "completed"
    },
    "tags": []
   },
   "outputs": [
    {
     "data": {
      "image/png": "[encoded data removed]",
      "text/plain": [
       "<Figure size 640x480 with 1 Axes>"
      ]
     },
     "metadata": {},
     "output_type": "display_data"
    }
   ],
   "source": [
    "result_df.total_cases.plot()\n",
    "result_df.total_deaths.plot();"
   ]
  },
  {
   "cell_type": "markdown",
   "id": "78992a2a",
   "metadata": {
    "papermill": {
     "duration": 0.023842,
     "end_time": "2025-01-31T19:10:17.202665",
     "exception": false,
     "start_time": "2025-01-31T19:10:17.178823",
     "status": "completed"
    },
    "tags": []
   },
   "source": [
    "**Represent the graphs of death and positive rates with respect to time(date) **"
   ]
  },
  {
   "cell_type": "code",
   "execution_count": 80,
   "id": "0912f437",
   "metadata": {
    "execution": {
     "iopub.execute_input": "2025-01-31T19:10:17.254841Z",
     "iopub.status.busy": "2025-01-31T19:10:17.254576Z",
     "iopub.status.idle": "2025-01-31T19:10:17.612708Z",
     "shell.execute_reply": "2025-01-31T19:10:17.611727Z"
    },
    "papermill": {
     "duration": 0.385438,
     "end_time": "2025-01-31T19:10:17.614219",
     "exception": false,
     "start_time": "2025-01-31T19:10:17.228781",
     "status": "completed"
    },
    "tags": []
   },
   "outputs": [
    {
     "data": {
      "text/plain": [
       "<Axes: title={'center': 'DEATH RATE'}, xlabel='date'>"
      ]
     },
     "execution_count": 80,
     "metadata": {},
     "output_type": "execute_result"
    },
    {
     "data": {
      "image/png": "[encoded data removed]",
      "text/plain": [
       "<Figure size 640x480 with 1 Axes>"
      ]
     },
     "metadata": {},
     "output_type": "display_data"
    }
   ],
   "source": [
    "death_rate = result_df.total_deaths / result_df.total_cases\n",
    "\n",
    "death_rate.plot(title = 'DEATH RATE')"
   ]
  },
  {
   "cell_type": "code",
   "execution_count": 81,
   "id": "239b7bfc",
   "metadata": {
    "execution": {
     "iopub.execute_input": "2025-01-31T19:10:17.663508Z",
     "iopub.status.busy": "2025-01-31T19:10:17.663119Z",
     "iopub.status.idle": "2025-01-31T19:10:18.041311Z",
     "shell.execute_reply": "2025-01-31T19:10:18.040399Z"
    },
    "papermill": {
     "duration": 0.404781,
     "end_time": "2025-01-31T19:10:18.042809",
     "exception": false,
     "start_time": "2025-01-31T19:10:17.638028",
     "status": "completed"
    },
    "tags": []
   },
   "outputs": [
    {
     "data": {
      "text/plain": [
       "<Axes: title={'center': 'POSITIVE RATE'}, xlabel='date'>"
      ]
     },
     "execution_count": 81,
     "metadata": {},
     "output_type": "execute_result"
    },
    {
     "data": {
      "image/png": "[encoded data removed]",
      "text/plain": [
       "<Figure size 640x480 with 1 Axes>"
      ]
     },
     "metadata": {},
     "output_type": "display_data"
    }
   ],
   "source": [
    "positive_rate = result_df.total_cases / result_df.total_tests\n",
    "\n",
    "positive_rate.plot(title = 'POSITIVE RATE')"
   ]
  },
  {
   "cell_type": "markdown",
   "id": "f6126ea6",
   "metadata": {
    "papermill": {
     "duration": 0.023615,
     "end_time": "2025-01-31T19:10:18.092536",
     "exception": false,
     "start_time": "2025-01-31T19:10:18.068921",
     "status": "completed"
    },
    "tags": []
   },
   "source": [
    "**PLOTTING Month wise data using bar graphs**\n"
   ]
  },
  {
   "cell_type": "code",
   "execution_count": 82,
   "id": "cf1bc6ee",
   "metadata": {
    "execution": {
     "iopub.execute_input": "2025-01-31T19:10:18.143744Z",
     "iopub.status.busy": "2025-01-31T19:10:18.143440Z",
     "iopub.status.idle": "2025-01-31T19:10:18.153523Z",
     "shell.execute_reply": "2025-01-31T19:10:18.152316Z"
    },
    "papermill": {
     "duration": 0.037651,
     "end_time": "2025-01-31T19:10:18.155386",
     "exception": false,
     "start_time": "2025-01-31T19:10:18.117735",
     "status": "completed"
    },
    "tags": []
   },
   "outputs": [
    {
     "data": {
      "text/html": [
       "<div>\n",
       "<style scoped>\n",
       "    .dataframe tbody tr th:only-of-type {\n",
       "        vertical-align: middle;\n",
       "    }\n",
       "\n",
       "    .dataframe tbody tr th {\n",
       "        vertical-align: top;\n",
       "    }\n",
       "\n",
       "    .dataframe thead th {\n",
       "        text-align: right;\n",
       "    }\n",
       "</style>\n",
       "<table border=\"1\" class=\"dataframe\">\n",
       "  <thead>\n",
       "    <tr style=\"text-align: right;\">\n",
       "      <th></th>\n",
       "      <th>new_cases</th>\n",
       "      <th>new_deaths</th>\n",
       "      <th>new_tests</th>\n",
       "    </tr>\n",
       "    <tr>\n",
       "      <th>month</th>\n",
       "      <th></th>\n",
       "      <th></th>\n",
       "      <th></th>\n",
       "    </tr>\n",
       "  </thead>\n",
       "  <tbody>\n",
       "    <tr>\n",
       "      <th>1</th>\n",
       "      <td>3.0</td>\n",
       "      <td>0.0</td>\n",
       "      <td>0.0</td>\n",
       "    </tr>\n",
       "    <tr>\n",
       "      <th>2</th>\n",
       "      <td>885.0</td>\n",
       "      <td>21.0</td>\n",
       "      <td>0.0</td>\n",
       "    </tr>\n",
       "    <tr>\n",
       "      <th>3</th>\n",
       "      <td>100851.0</td>\n",
       "      <td>11570.0</td>\n",
       "      <td>0.0</td>\n",
       "    </tr>\n",
       "    <tr>\n",
       "      <th>4</th>\n",
       "      <td>101852.0</td>\n",
       "      <td>16091.0</td>\n",
       "      <td>419591.0</td>\n",
       "    </tr>\n",
       "    <tr>\n",
       "      <th>5</th>\n",
       "      <td>29073.0</td>\n",
       "      <td>5658.0</td>\n",
       "      <td>1078720.0</td>\n",
       "    </tr>\n",
       "    <tr>\n",
       "      <th>6</th>\n",
       "      <td>8217.5</td>\n",
       "      <td>1404.0</td>\n",
       "      <td>830354.0</td>\n",
       "    </tr>\n",
       "    <tr>\n",
       "      <th>7</th>\n",
       "      <td>6722.0</td>\n",
       "      <td>388.0</td>\n",
       "      <td>797692.0</td>\n",
       "    </tr>\n",
       "    <tr>\n",
       "      <th>8</th>\n",
       "      <td>21060.0</td>\n",
       "      <td>345.0</td>\n",
       "      <td>1098704.0</td>\n",
       "    </tr>\n",
       "    <tr>\n",
       "      <th>9</th>\n",
       "      <td>3297.0</td>\n",
       "      <td>20.0</td>\n",
       "      <td>54395.0</td>\n",
       "    </tr>\n",
       "    <tr>\n",
       "      <th>12</th>\n",
       "      <td>0.0</td>\n",
       "      <td>0.0</td>\n",
       "      <td>0.0</td>\n",
       "    </tr>\n",
       "  </tbody>\n",
       "</table>\n",
       "</div>"
      ],
      "text/plain": [
       "       new_cases  new_deaths  new_tests\n",
       "month                                  \n",
       "1            3.0         0.0        0.0\n",
       "2          885.0        21.0        0.0\n",
       "3       100851.0     11570.0        0.0\n",
       "4       101852.0     16091.0   419591.0\n",
       "5        29073.0      5658.0  1078720.0\n",
       "6         8217.5      1404.0   830354.0\n",
       "7         6722.0       388.0   797692.0\n",
       "8        21060.0       345.0  1098704.0\n",
       "9         3297.0        20.0    54395.0\n",
       "12           0.0         0.0        0.0"
      ]
     },
     "execution_count": 82,
     "metadata": {},
     "output_type": "execute_result"
    }
   ],
   "source": [
    "covid_month_df"
   ]
  },
  {
   "cell_type": "code",
   "execution_count": 83,
   "id": "47ce852f",
   "metadata": {
    "execution": {
     "iopub.execute_input": "2025-01-31T19:10:18.205810Z",
     "iopub.status.busy": "2025-01-31T19:10:18.205535Z",
     "iopub.status.idle": "2025-01-31T19:10:18.378956Z",
     "shell.execute_reply": "2025-01-31T19:10:18.378141Z"
    },
    "papermill": {
     "duration": 0.201053,
     "end_time": "2025-01-31T19:10:18.380778",
     "exception": false,
     "start_time": "2025-01-31T19:10:18.179725",
     "status": "completed"
    },
    "tags": []
   },
   "outputs": [
    {
     "data": {
      "text/plain": [
       "<Axes: xlabel='month'>"
      ]
     },
     "execution_count": 83,
     "metadata": {},
     "output_type": "execute_result"
    },
    {
     "data": {
      "image/png": "[encoded data removed]",
      "text/plain": [
       "<Figure size 640x480 with 1 Axes>"
      ]
     },
     "metadata": {},
     "output_type": "display_data"
    }
   ],
   "source": [
    "covid_month_df.new_cases.plot(kind = 'bar')"
   ]
  },
  {
   "cell_type": "code",
   "execution_count": 84,
   "id": "4ffd4716",
   "metadata": {
    "execution": {
     "iopub.execute_input": "2025-01-31T19:10:18.433314Z",
     "iopub.status.busy": "2025-01-31T19:10:18.432971Z",
     "iopub.status.idle": "2025-01-31T19:10:18.548213Z",
     "shell.execute_reply": "2025-01-31T19:10:18.547446Z"
    },
    "papermill": {
     "duration": 0.143793,
     "end_time": "2025-01-31T19:10:18.549970",
     "exception": false,
     "start_time": "2025-01-31T19:10:18.406177",
     "status": "completed"
    },
    "tags": []
   },
   "outputs": [
    {
     "data": {
      "text/plain": [
       "<Axes: ylabel='new_deaths'>"
      ]
     },
     "execution_count": 84,
     "metadata": {},
     "output_type": "execute_result"
    },
    {
     "data": {
      "image/png": "[encoded data removed]",
      "text/plain": [
       "<Figure size 640x480 with 1 Axes>"
      ]
     },
     "metadata": {},
     "output_type": "display_data"
    }
   ],
   "source": [
    "covid_month_df.new_deaths.plot(kind = 'pie') ##PIE CHARTS"
   ]
  },
  {
   "cell_type": "code",
   "execution_count": 85,
   "id": "11649807",
   "metadata": {
    "execution": {
     "iopub.execute_input": "2025-01-31T19:10:18.630752Z",
     "iopub.status.busy": "2025-01-31T19:10:18.630429Z",
     "iopub.status.idle": "2025-01-31T19:10:18.784495Z",
     "shell.execute_reply": "2025-01-31T19:10:18.783792Z"
    },
    "papermill": {
     "duration": 0.197379,
     "end_time": "2025-01-31T19:10:18.785883",
     "exception": false,
     "start_time": "2025-01-31T19:10:18.588504",
     "status": "completed"
    },
    "tags": []
   },
   "outputs": [
    {
     "data": {
      "text/plain": [
       "<Axes: xlabel='month'>"
      ]
     },
     "execution_count": 85,
     "metadata": {},
     "output_type": "execute_result"
    },
    {
     "data": {
      "image/png": "[encoded data removed]",
      "text/plain": [
       "<Figure size 640x480 with 1 Axes>"
      ]
     },
     "metadata": {},
     "output_type": "display_data"
    }
   ],
   "source": [
    "covid_month_df.new_tests.plot(kind = 'line')  ##LINE GRAPHS"
   ]
  }
 ],
 "metadata": {
  "kaggle": {
   "accelerator": "none",
   "dataSources": [],
   "dockerImageVersionId": 30698,
   "isGpuEnabled": false,
   "isInternetEnabled": true,
   "language": "python",
   "sourceType": "notebook"
  },
  "kernelspec": {
   "display_name": "Python 3",
   "language": "python",
   "name": "python3"
  },
  "language_info": {
   "codemirror_mode": {
    "name": "ipython",
    "version": 3
   },
   "file_extension": ".py",
   "mimetype": "text/x-python",
   "name": "python",
   "nbconvert_exporter": "python",
   "pygments_lexer": "ipython3",
   "version": "3.10.13"
  },
  "papermill": {
   "default_parameters": {},
   "duration": 14.512395,
   "end_time": "2025-01-31T19:10:19.230593",
   "environment_variables": {},
   "exception": null,
   "input_path": "__notebook__.ipynb",
   "output_path": "__notebook__.ipynb",
   "parameters": {},
   "start_time": "2025-01-31T19:10:04.718198",
   "version": "2.5.0"
  }
 },
 "nbformat": 4,
 "nbformat_minor": 5
}
